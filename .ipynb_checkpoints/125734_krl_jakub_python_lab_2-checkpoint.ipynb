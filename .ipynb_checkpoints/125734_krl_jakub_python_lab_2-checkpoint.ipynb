{
 "cells": [
  {
   "cell_type": "markdown",
   "metadata": {
    "deletable": false,
    "editable": false,
    "nbgrader": {
     "checksum": "2878447ed9128508318a9c8416f4e7a3",
     "grade": false,
     "grade_id": "cell-982e98d0ad3ab544",
     "locked": true,
     "schema_version": 1,
     "solution": false
    }
   },
   "source": [
    "# Wstęp do Sztucznej Inteligencji - rok akademicki 2018/2019\n",
    "\n",
    "Przed rozpoczęciem pracy z notatnikiem zmień jego nazwę zgodnie z wzorem: `{NrAlbumu}_{Nazwisko}_{Imie}_{PoprzedniaNazwa}`.\n",
    "\n",
    "Przed wysłaniem notatnika upewnij się, że rozwiązałeś wszystkie zadania/ćwiczenia, w szczególności, że uzupełniłeś wszystkie pola `YOUR CODE HERE` oraz `YOUR ANSWER HERE`."
   ]
  },
  {
   "cell_type": "markdown",
   "metadata": {
    "deletable": false,
    "editable": false,
    "nbgrader": {
     "checksum": "41489ae86235a6fc1f9acbfc47150a51",
     "grade": false,
     "grade_id": "cell-7f6e30d09c33dbe5",
     "locked": true,
     "schema_version": 1,
     "solution": false
    }
   },
   "source": [
    "## Temat: Wprowadzenie do języka Python cz. II\n",
    "Zapoznaj się z treścią niniejszego notatnika czytając i wykonując go komórka po komórce. Wykonaj napotkane zadania/ćwiczenia.\n",
    "\n",
    "### Moduły i skrypty\n",
    "Z plikami z rozszerzeniem `.py` można pracować na 2 sposoby.\n",
    "\n",
    "- jak ze skryptem (ala plik wykonywalny),\n",
    "- jak z modułem (biblioteką) w innych projektach.\n",
    "\n",
    "Utwórz plik tekstowy `pytest.py` o następującej treści (Główna strona Jupyter -> New -> Text File):\n",
    "```python\n",
    "def suma(a,b):\n",
    "    return a+b\n",
    "\n",
    "def roznica(a,b):\n",
    "    return a-b\n",
    "\n",
    "PI = 3.1415\n",
    "\n",
    "print(suma(3,5))\n",
    "```\n",
    "\n",
    "Aby wykonać plik `pytest.py` należy w terminalu (Główna strona Jupyter -> New -> Terminal) wykonać poniższe polecenie:\n",
    "\n",
    "```\n",
    "python pytest.py\n",
    "```\n",
    "Oczywiście należy być w folderze w którym jest plik `pytest.py` lub podać pełną scieżkę do pliku.\n",
    "\n",
    "Po wykonaniu polecenia na ekranie powinien pojawić się wynik 8.\n",
    "\n",
    "Możemy również używać pliku `pytest.py` importując go tak jak wcześniej poznane modułu."
   ]
  },
  {
   "cell_type": "code",
   "execution_count": 3,
   "metadata": {},
   "outputs": [],
   "source": [
    "import pytest"
   ]
  },
  {
   "cell_type": "code",
   "execution_count": null,
   "metadata": {},
   "outputs": [],
   "source": []
  },
  {
   "cell_type": "markdown",
   "metadata": {
    "deletable": false,
    "editable": false,
    "nbgrader": {
     "checksum": "1b6aa858c4971dd447495fcac0ab522c",
     "grade": false,
     "grade_id": "cell-73ffa2445c019781",
     "locked": true,
     "schema_version": 1,
     "solution": false
    }
   },
   "source": [
    "W tym przypadku plik również został wykonany, ale mamy też możliwość wykorzystania obiektów zdefiniowanych w naszym module."
   ]
  },
  {
   "cell_type": "code",
   "execution_count": 3,
   "metadata": {},
   "outputs": [
    {
     "data": {
      "text/plain": [
       "5"
      ]
     },
     "execution_count": 3,
     "metadata": {},
     "output_type": "execute_result"
    }
   ],
   "source": [
    "pytest.suma(1,4)"
   ]
  },
  {
   "cell_type": "code",
   "execution_count": 4,
   "metadata": {},
   "outputs": [
    {
     "data": {
      "text/plain": [
       "2.1415"
      ]
     },
     "execution_count": 4,
     "metadata": {},
     "output_type": "execute_result"
    }
   ],
   "source": [
    "pytest.roznica(pytest.PI,1)"
   ]
  },
  {
   "cell_type": "markdown",
   "metadata": {
    "deletable": false,
    "editable": false,
    "nbgrader": {
     "checksum": "4d0042db9da532fe02a3ee9bab117e27",
     "grade": false,
     "grade_id": "cell-587a8c267163be7b",
     "locked": true,
     "schema_version": 1,
     "solution": false
    }
   },
   "source": [
    "Aby podczas importowania nie wykonywała się linia `print(suma(3,5))` powinna ona znaleźć się w bloku `if __name__==\"__main__\":`, zmodyfikuj plik `pytest.py` w poniższy sposób i sprawdz róźnicę w działaniu.\n",
    "\n",
    "```python\n",
    "def suma(a,b):\n",
    "    return a+b\n",
    "\n",
    "def roznica(a,b):\n",
    "    return a-b\n",
    "\n",
    "PI = 3.1415\n",
    "\n",
    "if __name__==\"__main__\":\n",
    "    print(suma(3,5))\n",
    "```\n",
    "\n",
    "W przypadku wykonywania pliku zmienna `__name__` przyjmuje wartość `\"__main__\"`, a w przypadku importu nazwę modułu, dzięki temu z tego samego pliku możemy korzystać zarówno jak ze skryptu i jak z modułu."
   ]
  },
  {
   "cell_type": "code",
   "execution_count": 2,
   "metadata": {},
   "outputs": [
    {
     "data": {
      "text/plain": [
       "5"
      ]
     },
     "execution_count": 2,
     "metadata": {},
     "output_type": "execute_result"
    }
   ],
   "source": [
    "import pytest\n",
    "pytest.suma(1,4)"
   ]
  },
  {
   "cell_type": "code",
   "execution_count": 3,
   "metadata": {},
   "outputs": [
    {
     "data": {
      "text/plain": [
       "3"
      ]
     },
     "execution_count": 3,
     "metadata": {},
     "output_type": "execute_result"
    }
   ],
   "source": [
    "pytest.suma(1,2)"
   ]
  },
  {
   "cell_type": "code",
   "execution_count": 5,
   "metadata": {},
   "outputs": [
    {
     "data": {
      "text/plain": [
       "5"
      ]
     },
     "execution_count": 5,
     "metadata": {},
     "output_type": "execute_result"
    }
   ],
   "source": [
    "import pytest\n",
    "pytest.suma(1,4)"
   ]
  },
  {
   "cell_type": "code",
   "execution_count": null,
   "metadata": {},
   "outputs": [],
   "source": []
  },
  {
   "cell_type": "code",
   "execution_count": null,
   "metadata": {},
   "outputs": [],
   "source": []
  },
  {
   "cell_type": "code",
   "execution_count": null,
   "metadata": {},
   "outputs": [],
   "source": []
  },
  {
   "cell_type": "code",
   "execution_count": null,
   "metadata": {},
   "outputs": [],
   "source": []
  },
  {
   "cell_type": "markdown",
   "metadata": {
    "deletable": false,
    "editable": false,
    "nbgrader": {
     "checksum": "542b5de148d6e35bbad08e653e1dcb6e",
     "grade": false,
     "grade_id": "cell-8c4c9b015cff0a21",
     "locked": true,
     "schema_version": 1,
     "solution": false
    }
   },
   "source": [
    "### Numpy ( http://www.numpy.org/ )\n",
    "`Numpy` to podstawowa biblioteka do implementacji operacji i algorytmów numerycznych.\n",
    "\n",
    "Głównym obiektem biblioteki jest `ndarray` czyli tablica wielowymiarowa, za pomocą której można reprezentować wektory, macierze, tensory itp.\n",
    "\n",
    "Moduł `numpy` najczęściej imprtowany jest z aliasem `np`."
   ]
  },
  {
   "cell_type": "code",
   "execution_count": 4,
   "metadata": {},
   "outputs": [],
   "source": [
    "import numpy as np"
   ]
  },
  {
   "cell_type": "code",
   "execution_count": null,
   "metadata": {},
   "outputs": [],
   "source": []
  },
  {
   "cell_type": "markdown",
   "metadata": {
    "deletable": false,
    "editable": false,
    "nbgrader": {
     "checksum": "49b6858d279223a5dd1d7c44c450ece6",
     "grade": false,
     "grade_id": "cell-2a8baab57ffc279d",
     "locked": true,
     "schema_version": 1,
     "solution": false
    }
   },
   "source": [
    "Tworzenie obiektów `ndarray`."
   ]
  },
  {
   "cell_type": "code",
   "execution_count": 5,
   "metadata": {},
   "outputs": [
    {
     "name": "stdout",
     "output_type": "stream",
     "text": [
      "a: [1 2 3 4]\n",
      "b: [1.3 2.5]\n",
      "c: [1 2]\n",
      "d: [1.+2.j 3.+1.j]\n",
      "e: [[1 2 4]\n",
      " [4 5 7]]\n"
     ]
    },
    {
     "data": {
      "text/plain": [
       "numpy.ndarray"
      ]
     },
     "execution_count": 5,
     "metadata": {},
     "output_type": "execute_result"
    }
   ],
   "source": [
    "a = np.array([1,2,3,4])\n",
    "b = np.array([1.3, 2.5])\n",
    "c = np.array([1.3, 2.5], dtype=np.int) #rzutowanie na typ int\n",
    "d = np.array([1+2j, 3+1j])\n",
    "e = np.array([[1,2,4],[4,5,7]])\n",
    "print('a:', a)\n",
    "print('b:', b)\n",
    "print('c:', c)\n",
    "print('d:', d)\n",
    "print('e:', e)\n",
    "type(a)"
   ]
  },
  {
   "cell_type": "markdown",
   "metadata": {
    "deletable": false,
    "editable": false,
    "nbgrader": {
     "checksum": "582401207dbad1b6ce0da47d033b45a5",
     "grade": false,
     "grade_id": "cell-c9c7caba4c87bba7",
     "locked": true,
     "schema_version": 1,
     "solution": false
    }
   },
   "source": [
    "Podstawowe atrybuty obiektu `ndarray`."
   ]
  },
  {
   "cell_type": "code",
   "execution_count": 9,
   "metadata": {},
   "outputs": [
    {
     "name": "stdout",
     "output_type": "stream",
     "text": [
      "(4,)\n",
      "(2, 3)\n",
      "1\n",
      "2\n",
      "int32\n",
      "complex128\n",
      "2\n",
      "6\n"
     ]
    }
   ],
   "source": [
    "print(a.shape) #wymiary tablicy\n",
    "print(e.shape)\n",
    "print(b.ndim) #liczba wymiarów\n",
    "print(e.ndim)\n",
    "print(c.dtype) #typ danych\n",
    "print(d.dtype) \n",
    "print(d.size) #liczba elemetów\n",
    "print(e.size)"
   ]
  },
  {
   "cell_type": "code",
   "execution_count": null,
   "metadata": {},
   "outputs": [],
   "source": []
  },
  {
   "cell_type": "markdown",
   "metadata": {
    "deletable": false,
    "editable": false,
    "nbgrader": {
     "checksum": "ee1366ff86d541cabdb9e18ffd473656",
     "grade": false,
     "grade_id": "cell-fcb5a3d35e726eb9",
     "locked": true,
     "schema_version": 1,
     "solution": false
    }
   },
   "source": [
    "Do elementów obiektu `ndarray` odwołujemy się w taki sam sposób jak do elementów listy."
   ]
  },
  {
   "cell_type": "code",
   "execution_count": 17,
   "metadata": {},
   "outputs": [
    {
     "name": "stdout",
     "output_type": "stream",
     "text": [
      "1\n",
      "[4 5 7]\n",
      "1\n",
      "[2 3 4]\n",
      "[2 5]\n",
      "[1 2 4]\n"
     ]
    }
   ],
   "source": [
    "print(a[0])\n",
    "print(e[1])\n",
    "print(e[0,0])\n",
    "print(a[1:5])\n",
    "print(e[:,1])\n",
    "print(e[0,:])"
   ]
  },
  {
   "cell_type": "code",
   "execution_count": null,
   "metadata": {},
   "outputs": [],
   "source": []
  },
  {
   "cell_type": "code",
   "execution_count": null,
   "metadata": {},
   "outputs": [],
   "source": []
  },
  {
   "cell_type": "code",
   "execution_count": null,
   "metadata": {},
   "outputs": [],
   "source": []
  },
  {
   "cell_type": "code",
   "execution_count": null,
   "metadata": {},
   "outputs": [],
   "source": []
  },
  {
   "cell_type": "code",
   "execution_count": null,
   "metadata": {},
   "outputs": [],
   "source": []
  },
  {
   "cell_type": "code",
   "execution_count": null,
   "metadata": {},
   "outputs": [],
   "source": []
  },
  {
   "cell_type": "code",
   "execution_count": null,
   "metadata": {},
   "outputs": [],
   "source": []
  },
  {
   "cell_type": "code",
   "execution_count": null,
   "metadata": {},
   "outputs": [],
   "source": []
  },
  {
   "cell_type": "markdown",
   "metadata": {
    "deletable": false,
    "editable": false,
    "nbgrader": {
     "checksum": "f22f26da74a722874964489190119333",
     "grade": false,
     "grade_id": "cell-eda7c533213dbf51",
     "locked": true,
     "schema_version": 1,
     "solution": false
    }
   },
   "source": [
    "Wybieranie elementów spełniających podany warunek."
   ]
  },
  {
   "cell_type": "code",
   "execution_count": 19,
   "metadata": {},
   "outputs": [
    {
     "data": {
      "text/plain": [
       "array([3, 4])"
      ]
     },
     "execution_count": 19,
     "metadata": {},
     "output_type": "execute_result"
    }
   ],
   "source": [
    "a[a>2]"
   ]
  },
  {
   "cell_type": "code",
   "execution_count": null,
   "metadata": {},
   "outputs": [],
   "source": []
  },
  {
   "cell_type": "markdown",
   "metadata": {
    "deletable": false,
    "editable": false,
    "nbgrader": {
     "checksum": "ea9ee0373bfe7ba957109f4c058a8353",
     "grade": false,
     "grade_id": "cell-d567c99d0a38760d",
     "locked": true,
     "schema_version": 1,
     "solution": false
    }
   },
   "source": [
    "Wybieranie elementów podajac ich indeksy."
   ]
  },
  {
   "cell_type": "code",
   "execution_count": 20,
   "metadata": {},
   "outputs": [
    {
     "data": {
      "text/plain": [
       "array([1, 2, 1, 2])"
      ]
     },
     "execution_count": 20,
     "metadata": {},
     "output_type": "execute_result"
    }
   ],
   "source": [
    "a[[0,1,0,1]]"
   ]
  },
  {
   "cell_type": "markdown",
   "metadata": {
    "deletable": false,
    "editable": false,
    "nbgrader": {
     "checksum": "a0cbc280da34eeb17e0770b124a2c1f4",
     "grade": false,
     "grade_id": "cell-dd91df9cd613a615",
     "locked": true,
     "schema_version": 1,
     "solution": false
    }
   },
   "source": [
    "Przydatne wbudowane metody do tworzenia obiektów `ndarray`."
   ]
  },
  {
   "cell_type": "code",
   "execution_count": 21,
   "metadata": {},
   "outputs": [
    {
     "data": {
      "text/plain": [
       "array([0., 0., 0., 0., 0., 0., 0., 0., 0., 0.])"
      ]
     },
     "execution_count": 21,
     "metadata": {},
     "output_type": "execute_result"
    }
   ],
   "source": [
    "np.zeros(10)"
   ]
  },
  {
   "cell_type": "code",
   "execution_count": 22,
   "metadata": {},
   "outputs": [
    {
     "data": {
      "text/plain": [
       "array([[0., 0., 0.],\n",
       "       [0., 0., 0.]])"
      ]
     },
     "execution_count": 22,
     "metadata": {},
     "output_type": "execute_result"
    }
   ],
   "source": [
    "np.zeros((2,3))"
   ]
  },
  {
   "cell_type": "code",
   "execution_count": 23,
   "metadata": {},
   "outputs": [
    {
     "data": {
      "text/plain": [
       "array([1., 1., 1., 1., 1., 1., 1., 1., 1., 1.])"
      ]
     },
     "execution_count": 23,
     "metadata": {},
     "output_type": "execute_result"
    }
   ],
   "source": [
    "np.ones(10)"
   ]
  },
  {
   "cell_type": "code",
   "execution_count": 27,
   "metadata": {},
   "outputs": [
    {
     "data": {
      "text/plain": [
       "array([[1., 1., 1., 1.],\n",
       "       [1., 1., 1., 1.],\n",
       "       [1., 1., 1., 1.]])"
      ]
     },
     "execution_count": 27,
     "metadata": {},
     "output_type": "execute_result"
    }
   ],
   "source": [
    "np.ones((3,4))"
   ]
  },
  {
   "cell_type": "code",
   "execution_count": 24,
   "metadata": {},
   "outputs": [
    {
     "data": {
      "text/plain": [
       "array([0, 1, 2, 3, 4])"
      ]
     },
     "execution_count": 24,
     "metadata": {},
     "output_type": "execute_result"
    }
   ],
   "source": [
    "np.arange(5)"
   ]
  },
  {
   "cell_type": "code",
   "execution_count": null,
   "metadata": {},
   "outputs": [],
   "source": [
    "np.arange(3,15)"
   ]
  },
  {
   "cell_type": "code",
   "execution_count": null,
   "metadata": {},
   "outputs": [],
   "source": [
    "np.arange(3,15,0.9)"
   ]
  },
  {
   "cell_type": "code",
   "execution_count": 25,
   "metadata": {},
   "outputs": [
    {
     "data": {
      "text/plain": [
       "array([0.        , 0.11111111, 0.22222222, 0.33333333, 0.44444444,\n",
       "       0.55555556, 0.66666667, 0.77777778, 0.88888889, 1.        ])"
      ]
     },
     "execution_count": 25,
     "metadata": {},
     "output_type": "execute_result"
    }
   ],
   "source": [
    "np.linspace(0,1,10) # 10 równorozłożonych punktów od 0 do 1"
   ]
  },
  {
   "cell_type": "markdown",
   "metadata": {
    "deletable": false,
    "editable": false,
    "nbgrader": {
     "checksum": "52c7312d398d39868998e4e41b9d5d39",
     "grade": false,
     "grade_id": "cell-23e7ee58f301e743",
     "locked": true,
     "schema_version": 1,
     "solution": false
    }
   },
   "source": [
    "### Arytmetyka\n",
    "Wszystkie operacje arytmetyczne na obiektach `ndarray` wykonywane są na elementach będących na tych samych pozycjach, a wiec wymiary muszą sie zgadzać."
   ]
  },
  {
   "cell_type": "code",
   "execution_count": 26,
   "metadata": {},
   "outputs": [
    {
     "name": "stdout",
     "output_type": "stream",
     "text": [
      "a: [1 2 3 4] b: [1. 1. 1. 1.]\n",
      "a+b: [2. 3. 4. 5.]\n",
      "a-b: [0. 1. 2. 3.]\n",
      "a*b: [1. 2. 3. 4.]\n",
      "a/(2*b): [0.5 1.  1.5 2. ]\n",
      "a**2: [ 1  4  9 16]\n",
      "a**(b/2): [1.         1.41421356 1.73205081 2.        ]\n"
     ]
    }
   ],
   "source": [
    "a = np.array([1,2,3,4])\n",
    "b = np.ones(4)\n",
    "print('a:',a,'b:',b)\n",
    "print('a+b:',a+b)\n",
    "print('a-b:',a-b)\n",
    "print('a*b:',a*b)\n",
    "print('a/(2*b):',a/(2*b))\n",
    "print('a**2:',a**2)\n",
    "print('a**(b/2):',a**(b/2))"
   ]
  },
  {
   "cell_type": "markdown",
   "metadata": {
    "deletable": false,
    "editable": false,
    "nbgrader": {
     "checksum": "3b059a96dccd90db78a9ae6f1ce41c29",
     "grade": false,
     "grade_id": "cell-daa0bbdfd58c174e",
     "locked": true,
     "schema_version": 1,
     "solution": false
    }
   },
   "source": [
    "W module `numpy` wbudowane są również podstawowe funkcje matematyczne, które jako argument przyjmują obiekt `ndarray`, np."
   ]
  },
  {
   "cell_type": "code",
   "execution_count": 27,
   "metadata": {},
   "outputs": [
    {
     "name": "stdout",
     "output_type": "stream",
     "text": [
      "sin(a): [ 0.84147098  0.90929743  0.14112001 -0.7568025 ]\n",
      "log(a): [0.         0.69314718 1.09861229 1.38629436]\n"
     ]
    }
   ],
   "source": [
    "print('sin(a):', np.sin(a))\n",
    "print('log(a):', np.log(a))"
   ]
  },
  {
   "cell_type": "markdown",
   "metadata": {
    "deletable": false,
    "editable": false,
    "nbgrader": {
     "checksum": "06589d245bc832905d6604ba74f46d1b",
     "grade": false,
     "grade_id": "cell-c5db5e4e2fe83276",
     "locked": true,
     "schema_version": 1,
     "solution": false
    }
   },
   "source": [
    "Inne przydatne metody:"
   ]
  },
  {
   "cell_type": "code",
   "execution_count": 28,
   "metadata": {},
   "outputs": [
    {
     "name": "stdout",
     "output_type": "stream",
     "text": [
      "a: [1.  1.5 2.  2.5 3.  3.5 4.  4.5]\n",
      "suma elementów: 22.0\n",
      "iloczyn elementów: 1417.5\n",
      "cumsum: [ 1.   2.5  4.5  7.  10.  13.5 17.5 22. ]\n",
      "max: 4.5\n",
      "argmax: 7\n"
     ]
    }
   ],
   "source": [
    "a = np.arange(1,5,0.5)\n",
    "print('a:',a)\n",
    "print('suma elementów:', np.sum(a))\n",
    "print('iloczyn elementów:', np.prod(a))\n",
    "print('cumsum:', np.cumsum(a))\n",
    "print('max:', np.max(a)) #analogicznie minimum\n",
    "print('argmax:', np.argmax(a))"
   ]
  },
  {
   "cell_type": "markdown",
   "metadata": {
    "deletable": false,
    "editable": false,
    "nbgrader": {
     "checksum": "719285236533734490b662fd5c761f37",
     "grade": false,
     "grade_id": "cell-3f65f468c505d5ca",
     "locked": true,
     "schema_version": 1,
     "solution": false
    }
   },
   "source": [
    "W przypadku wiekszej liczby wymiarów możemy wykonywać operacje takie jak np. `sum`, `max`, `min` itp. według zadanego wymiaru `axis`."
   ]
  },
  {
   "cell_type": "code",
   "execution_count": 29,
   "metadata": {},
   "outputs": [
    {
     "name": "stdout",
     "output_type": "stream",
     "text": [
      "m: [[1 2 3]\n",
      " [4 5 6]\n",
      " [7 8 9]]\n",
      "suma: 45\n",
      "suma w wierszach: [ 6 15 24]\n",
      "suma w kolumach: [12 15 18]\n"
     ]
    }
   ],
   "source": [
    "m = np.array([[1,2,3],[4,5,6],[7,8,9]])\n",
    "print('m:',m)\n",
    "print('suma:',np.sum(m))\n",
    "print('suma w wierszach:',np.sum(m, axis=1))\n",
    "print('suma w kolumach:',np.sum(m, axis=0))"
   ]
  },
  {
   "cell_type": "markdown",
   "metadata": {
    "deletable": false,
    "editable": false,
    "nbgrader": {
     "checksum": "1e7f53efae247011d34c98d766399afa",
     "grade": false,
     "grade_id": "cell-bbeb35b235c7629e",
     "locked": true,
     "schema_version": 1,
     "solution": false
    }
   },
   "source": [
    "Zmiana wymiarów:"
   ]
  },
  {
   "cell_type": "code",
   "execution_count": 30,
   "metadata": {},
   "outputs": [
    {
     "name": "stdout",
     "output_type": "stream",
     "text": [
      "[1. 1. 1. 1. 1. 1. 1. 1. 1. 1. 1. 1. 1. 1. 1.]\n",
      "[[1. 1. 1. 1. 1.]\n",
      " [1. 1. 1. 1. 1.]\n",
      " [1. 1. 1. 1. 1.]]\n"
     ]
    }
   ],
   "source": [
    "a = np.ones(15)\n",
    "print(a)\n",
    "print(a.reshape(3,5))"
   ]
  },
  {
   "cell_type": "markdown",
   "metadata": {
    "deletable": false,
    "editable": false,
    "nbgrader": {
     "checksum": "46b093de6d766959924d7323946585dd",
     "grade": false,
     "grade_id": "cell-d0920720f942018c",
     "locked": true,
     "schema_version": 1,
     "solution": false
    }
   },
   "source": [
    "### Algebra liniowa"
   ]
  },
  {
   "cell_type": "code",
   "execution_count": 31,
   "metadata": {},
   "outputs": [
    {
     "name": "stdout",
     "output_type": "stream",
     "text": [
      "wektor v: [1 1]\n",
      "macierz m: [[1 2]\n",
      " [3 4]]\n",
      "transpozycja wektora: [1 1]\n",
      "transpozycja macierzy: [[1 3]\n",
      " [2 4]]\n",
      "wektor * wektor: 2\n",
      "macierz * wektor: [3 7]\n",
      "wektor * macierz: [4 6]\n"
     ]
    }
   ],
   "source": [
    "v = np.array([1,1])\n",
    "m = np.array([[1,2],[3,4]])\n",
    "print('wektor v:',v)\n",
    "print('macierz m:',m)\n",
    "print('transpozycja wektora:',v.T) #nic nie zmienia\n",
    "print('transpozycja macierzy:',m.T)\n",
    "print('wektor * wektor:', np.dot(v,v)) #iloczyn skalarny\n",
    "print('macierz * wektor:', np.dot(m,v))\n",
    "print('wektor * macierz:', np.dot(v,m))"
   ]
  },
  {
   "cell_type": "markdown",
   "metadata": {
    "deletable": false,
    "editable": false,
    "nbgrader": {
     "checksum": "ad3251009130e4b2a511da3559894a8e",
     "grade": false,
     "grade_id": "cell-be7e13b1d3ba9950",
     "locked": true,
     "schema_version": 1,
     "solution": false
    }
   },
   "source": [
    "Ponieważ transpozycja tablicy jednowymiarowaj nic nie zmienia, mnożenie macierzy przez wektor nie zawsze zadziała poprawnie. Aby operacje były zgodne z rachunkiem macierzowym wektor powinnien być zdefiniowany jako macierz o jednym wierszu/kolumnie. Można w tym celu zamiast `np.array` użyć `np.matrix`."
   ]
  },
  {
   "cell_type": "code",
   "execution_count": 32,
   "metadata": {},
   "outputs": [
    {
     "name": "stdout",
     "output_type": "stream",
     "text": [
      "wektor v: [[1 1]]\n",
      "macierz m: [[1 2]\n",
      " [3 4]]\n",
      "transpozycja wektora: [[1]\n",
      " [1]]\n",
      "transpozycja macierzy: [[1 3]\n",
      " [2 4]]\n",
      "wektor razy wektor: [[2]]\n",
      "macierz razy wektor: [[3]\n",
      " [7]]\n",
      "wektor razy macierz: [[4 6]]\n"
     ]
    }
   ],
   "source": [
    "v = np.array([[1,1]])\n",
    "m = np.array([[1,2],[3,4]])\n",
    "print('wektor v:',v)\n",
    "print('macierz m:',m)\n",
    "print('transpozycja wektora:',v.T)\n",
    "print('transpozycja macierzy:',m.T)\n",
    "print('wektor razy wektor:', np.dot(v,v.T)) #macierz o jednym elemencie\n",
    "print('macierz razy wektor:', np.dot(m,v.T)) #macierz o jednej kolumnie\n",
    "print('wektor razy macierz:', np.dot(v,m)) #macierz o jednym wierszu"
   ]
  },
  {
   "cell_type": "code",
   "execution_count": null,
   "metadata": {},
   "outputs": [],
   "source": [
    "np.matrix([1,2,3])"
   ]
  },
  {
   "cell_type": "code",
   "execution_count": null,
   "metadata": {},
   "outputs": [],
   "source": [
    "np.matrix([[1,2],[3,4]])"
   ]
  },
  {
   "cell_type": "markdown",
   "metadata": {
    "deletable": false,
    "editable": false,
    "nbgrader": {
     "checksum": "7b31a848bb6dc270bbacb7b8386ddcc8",
     "grade": false,
     "grade_id": "cell-ec4bb372f694bea8",
     "locked": true,
     "schema_version": 1,
     "solution": false
    }
   },
   "source": [
    "Wyznacznik i macierz odwrotna (`np.linalg`)"
   ]
  },
  {
   "cell_type": "code",
   "execution_count": 33,
   "metadata": {},
   "outputs": [
    {
     "name": "stdout",
     "output_type": "stream",
     "text": [
      "macierz m: [[1 2]\n",
      " [3 4]]\n",
      "det(m): -2.0000000000000004\n",
      "m^(-1): [[-2.   1. ]\n",
      " [ 1.5 -0.5]]\n",
      "m*m^(-1): [[1.00000000e+00 1.11022302e-16]\n",
      " [0.00000000e+00 1.00000000e+00]]\n"
     ]
    }
   ],
   "source": [
    "m = np.matrix([[1,2],[3,4]])\n",
    "print('macierz m:',m)\n",
    "print('det(m):', np.linalg.det(m))\n",
    "print('m^(-1):', np.linalg.inv(m))\n",
    "print('m*m^(-1):', np.dot(m,np.linalg.inv(m)))"
   ]
  },
  {
   "cell_type": "markdown",
   "metadata": {
    "deletable": false,
    "editable": false,
    "nbgrader": {
     "checksum": "d6d7110d09f2859ea8a6b9365527eead",
     "grade": false,
     "grade_id": "cell-8ae7ff9ca9a72eca",
     "locked": true,
     "schema_version": 1,
     "solution": false
    }
   },
   "source": [
    "### Scipy ( http://www.scipy.org )\n",
    "`Scipy` to zbudowany na bazie `numpy` moduł zawierający podstawowe algorytmy numeryczne służące m.in do całkowania, optymalizacji, interpolacji itp.\n",
    "\n",
    "#### Całkowanie numeryczne"
   ]
  },
  {
   "cell_type": "code",
   "execution_count": 2,
   "metadata": {},
   "outputs": [
    {
     "name": "stdout",
     "output_type": "stream",
     "text": [
      "quad: (0.33333333333333337, 3.700743415417189e-15)\n",
      "trapz: 0.333333500333834\n"
     ]
    }
   ],
   "source": [
    "import numpy as np\n",
    "from scipy.integrate import quad, trapz\n",
    "\n",
    "def func(x):\n",
    "    return x**2\n",
    "\n",
    "# całka z x^2 na przedziale [0,1] \n",
    "# metoda kwadratury gaussa\n",
    "c1 = quad(func, 0, 1) # zwraca wartość całki i oszacowany błąd\n",
    "print('quad:',c1) \n",
    "\n",
    "# metoda trapezów\n",
    "x = np.linspace(0, 1,1000)\n",
    "y = func(x)\n",
    "c2 = trapz(y, x) # zwaraca wartość całki\n",
    "print('trapz:',c2)"
   ]
  },
  {
   "cell_type": "markdown",
   "metadata": {
    "deletable": false,
    "editable": false,
    "nbgrader": {
     "checksum": "a737beefbafa077b60d93b535c8ed1c3",
     "grade": false,
     "grade_id": "cell-8287d3a88b549fff",
     "locked": true,
     "schema_version": 1,
     "solution": false
    }
   },
   "source": [
    "#### Optymalizacja"
   ]
  },
  {
   "cell_type": "code",
   "execution_count": 3,
   "metadata": {},
   "outputs": [
    {
     "name": "stdout",
     "output_type": "stream",
     "text": [
      "Optimization terminated successfully.\n",
      "         Current function value: 0.000000\n",
      "         Iterations: 74\n",
      "         Function evaluations: 139\n",
      "punkt minimum: [ 3.40984822e-09 -1.93620944e-09]\n",
      "wartośc minimum: 1.5375971862587842e-17\n"
     ]
    }
   ],
   "source": [
    "from scipy.optimize import minimize\n",
    "\n",
    "def func(x):\n",
    "    return np.sum(x**2)  #suma kwadratów\n",
    "\n",
    "# punkt startowy\n",
    "x0 = [10, 10.]\n",
    "# minimalizacja metodą nelder-mead, dostępnych wiele innych algorytmów\n",
    "res = minimize(func, x0, method='nelder-mead', options={'xtol': 1e-8, 'disp': True})\n",
    "print('punkt minimum:', res.x)\n",
    "print('wartośc minimum:', res.fun)"
   ]
  },
  {
   "cell_type": "markdown",
   "metadata": {
    "deletable": false,
    "editable": false,
    "nbgrader": {
     "checksum": "58ee43e8adc03ba5a70cc83dfc97da7b",
     "grade": false,
     "grade_id": "cell-6b092cd550cbaa98",
     "locked": true,
     "schema_version": 1,
     "solution": false
    }
   },
   "source": [
    "#### Interpolacja"
   ]
  },
  {
   "cell_type": "code",
   "execution_count": 7,
   "metadata": {},
   "outputs": [
    {
     "name": "stdout",
     "output_type": "stream",
     "text": [
      "(x,y): [(0.0, 0.0), (0.6666666666666666, 0.618369803069737), (1.3333333333333333, 0.9719379013633127), (2.0, 0.9092974268256817), (2.6666666666666665, 0.457272626635812), (3.333333333333333, -0.19056796287548494), (4.0, -0.7568024953079282), (4.666666666666666, -0.9989549170979283), (5.333333333333333, -0.81332939156758), (6.0, -0.27941549819892586)]\n",
      "w_coef: [-2.30789723e-06  6.51635883e-05 -6.22164834e-04  1.68627888e-03\n",
      "  4.01850111e-03  7.07819057e-03 -1.73781196e-01  3.92314156e-03\n",
      "  9.99113180e-01  0.00000000e+00]\n"
     ]
    }
   ],
   "source": [
    "from scipy.interpolate import lagrange\n",
    "\n",
    "# punkty interpolacji\n",
    "x = np.linspace(0.0,6.0,10) # 10 równorozłożonych punktów od 0 do 6\n",
    "y = np.sin(x)\n",
    "print('(x,y):',list(zip(x,y)))  #zip łączy elementy tablic w pary\n",
    "\n",
    "# wielomian interpolacyjny Lagrange'a, stopień taki jak liczba punktów\n",
    "w = lagrange(x, y)\n",
    "print('w_coef:', w.coef)"
   ]
  },
  {
   "cell_type": "markdown",
   "metadata": {
    "deletable": false,
    "editable": false,
    "nbgrader": {
     "checksum": "33af092674f8062f42a405d196b4f985",
     "grade": false,
     "grade_id": "cell-b1f61777755af4b3",
     "locked": true,
     "schema_version": 1,
     "solution": false
    }
   },
   "source": [
    "### Matplotlib ( http://matplotlib.org/ )\n",
    "Moduł `matplotlib` to bardzo rozbudowana biblioteka do tworzenia najróżniejszych wykresów 2D i 3D (warto zaglądnąć do galerii przykładowych wykresów http://matplotlib.org/gallery.html)."
   ]
  },
  {
   "cell_type": "code",
   "execution_count": 5,
   "metadata": {},
   "outputs": [],
   "source": [
    "# import modułu matplotlib\n",
    "import matplotlib.pyplot as plt\n",
    "\n",
    "# rysunki domyślnie powinny wyświetlać się w notatniku\n",
    "# gdyby tak nie było należy odkomentować poniższa linijkę\n",
    "#%matplotlib inline"
   ]
  },
  {
   "cell_type": "code",
   "execution_count": null,
   "metadata": {},
   "outputs": [],
   "source": []
  },
  {
   "cell_type": "markdown",
   "metadata": {
    "deletable": false,
    "editable": false,
    "nbgrader": {
     "checksum": "804288d1703cac6b9b9a3b1c947c2ed5",
     "grade": false,
     "grade_id": "cell-0cd6578410251d2e",
     "locked": true,
     "schema_version": 1,
     "solution": false
    }
   },
   "source": [
    "Szybki wykres dla przykładu interpolacji funkcji sinus wielomianem lagrange'a."
   ]
  },
  {
   "cell_type": "code",
   "execution_count": 8,
   "metadata": {},
   "outputs": [
    {
     "data": {
      "image/png": "[encoded data removed]",
      "text/plain": [
       "<Figure size 432x288 with 1 Axes>"
      ]
     },
     "metadata": {
      "needs_background": "light"
     },
     "output_type": "display_data"
    }
   ],
   "source": [
    "plt.figure()\n",
    "plt.plot(x, y, 'o')\n",
    "x2 = np.linspace(0.0,6.0,1000)\n",
    "y2 = w(x2)\n",
    "plt.plot(x2,y2, 'r')\n",
    "plt.show()"
   ]
  },
  {
   "cell_type": "markdown",
   "metadata": {
    "deletable": false,
    "editable": false,
    "nbgrader": {
     "checksum": "5fc12d7ff2d016a144c6c4158c8dd356",
     "grade": false,
     "grade_id": "cell-778e6dddecbf2a4b",
     "locked": true,
     "schema_version": 1,
     "solution": false
    }
   },
   "source": [
    "Prosty przykład (jeden wykres na rysunku)."
   ]
  },
  {
   "cell_type": "code",
   "execution_count": 38,
   "metadata": {},
   "outputs": [
    {
     "data": {
      "image/png": "[encoded data removed]",
      "text/plain": [
       "<Figure size 432x288 with 1 Axes>"
      ]
     },
     "metadata": {
      "needs_background": "light"
     },
     "output_type": "display_data"
    }
   ],
   "source": [
    "# przykładowe dane\n",
    "x = np.linspace(1, 10, 100)\n",
    "y = np.sin(x)\n",
    "\n",
    "# tworzenie rysunku\n",
    "fig, ax = plt.subplots() #zwraca obiekt rysunku fig, i obiekt wykresu na rysunku ax\n",
    "# rysowanie wykresu\n",
    "ax.plot(x, y)\n",
    "# wyświetlenie rysunku\n",
    "plt.show()"
   ]
  },
  {
   "cell_type": "markdown",
   "metadata": {
    "deletable": false,
    "editable": false,
    "nbgrader": {
     "checksum": "ce9b1e46a5c4e74402540df9e055cb42",
     "grade": false,
     "grade_id": "cell-0b87bc163ea25d17",
     "locked": true,
     "schema_version": 1,
     "solution": false
    }
   },
   "source": [
    "Modyfikowanie wyglądu."
   ]
  },
  {
   "cell_type": "code",
   "execution_count": 43,
   "metadata": {},
   "outputs": [
    {
     "data": {
      "image/png": "[encoded data removed]",
      "text/plain": [
       "<Figure size 432x288 with 1 Axes>"
      ]
     },
     "metadata": {
      "needs_background": "light"
     },
     "output_type": "display_data"
    }
   ],
   "source": [
    "# przykładowe dane\n",
    "x = np.linspace(1, 10, 100)\n",
    "y = np.sin(x)\n",
    "\n",
    "# tworzenie rysunku\n",
    "fig, ax = plt.subplots()\n",
    "# rysowanie wykresu\n",
    "ax.plot(x, y, c='r', marker='+', linestyle='-.', linewidth=5) #wiele innych opcji patrz w dokumentacji\n",
    "# wyświetlenie rysunku\n",
    "plt.show()"
   ]
  },
  {
   "cell_type": "markdown",
   "metadata": {
    "deletable": false,
    "editable": false,
    "nbgrader": {
     "checksum": "09dce60bd3cceb29f3133314d5ef5c31",
     "grade": false,
     "grade_id": "cell-3fe5dbc1f560d96f",
     "locked": true,
     "schema_version": 1,
     "solution": false
    }
   },
   "source": [
    "Dodanie tytułu, opisu osi, siatki i legendy."
   ]
  },
  {
   "cell_type": "code",
   "execution_count": 44,
   "metadata": {},
   "outputs": [
    {
     "data": {
      "image/png": "[encoded data removed]",
      "text/plain": [
       "<Figure size 432x288 with 1 Axes>"
      ]
     },
     "metadata": {
      "needs_background": "light"
     },
     "output_type": "display_data"
    }
   ],
   "source": [
    "# przykładowe dane\n",
    "x = np.linspace(1, 10, 100)\n",
    "y = np.sin(x)\n",
    "\n",
    "# tworzenie rysunku\n",
    "fig, ax = plt.subplots()\n",
    "# rysowanie wykresu\n",
    "ax.plot(x, y, c='r', linestyle='-.', label='sin(x)') #wiele innych opcji patrz w dokumentacji\n",
    "ax.legend() # dla legendy można ustalić pozycje podając argument 0,1,2,3 lub 4\n",
    "ax.set_title('Sin(x)')\n",
    "ax.set_xlabel('x')\n",
    "ax.set_ylabel('y')\n",
    "ax.grid(True)\n",
    "# wyświetlenie rysunku\n",
    "plt.show()"
   ]
  },
  {
   "cell_type": "markdown",
   "metadata": {
    "deletable": false,
    "editable": false,
    "nbgrader": {
     "checksum": "f7f0e6146db53ca4f0701930e0bb32a9",
     "grade": false,
     "grade_id": "cell-03fc172c51245886",
     "locked": true,
     "schema_version": 1,
     "solution": false
    }
   },
   "source": [
    "Wartości na osiach dobierane są automatycznie jednak możemy to zmodyfikować."
   ]
  },
  {
   "cell_type": "code",
   "execution_count": 45,
   "metadata": {},
   "outputs": [
    {
     "data": {
      "image/png": "[encoded data removed]",
      "text/plain": [
       "<Figure size 432x288 with 1 Axes>"
      ]
     },
     "metadata": {
      "needs_background": "light"
     },
     "output_type": "display_data"
    }
   ],
   "source": [
    "# przykładowe dane\n",
    "x = np.linspace(1, 10, 100)\n",
    "y = np.sin(x)\n",
    "\n",
    "# tworzenie rysunku\n",
    "fig, ax = plt.subplots()\n",
    "# rysowanie wykresu\n",
    "ax.plot(x, y, c='r', linestyle='-.', label='sin(x)') #wiele innych opcji patrz w dokumentacji\n",
    "ax.legend() # dla legendy mozna ustalic pozycje podając argument 0,1,2,3 lub 4\n",
    "ax.set_title('Sin(x)')\n",
    "ax.set_xlabel('x')\n",
    "ax.set_ylabel('y')\n",
    "ax.set_xlim(0,11)\n",
    "ax.set_ylim(-1.1,1.1)\n",
    "ax.grid(True)\n",
    "# wyświetlenie rysunku\n",
    "plt.show()"
   ]
  },
  {
   "cell_type": "markdown",
   "metadata": {
    "deletable": false,
    "editable": false,
    "nbgrader": {
     "checksum": "eb67fe41e80f8cb56716562c3a23808f",
     "grade": false,
     "grade_id": "cell-b91526f6cd20e549",
     "locked": true,
     "schema_version": 1,
     "solution": false
    }
   },
   "source": [
    "Więcej wykresów na jednym rysunku."
   ]
  },
  {
   "cell_type": "code",
   "execution_count": 46,
   "metadata": {},
   "outputs": [
    {
     "data": {
      "image/png": "[encoded data removed]",
      "text/plain": [
       "<Figure size 432x288 with 2 Axes>"
      ]
     },
     "metadata": {
      "needs_background": "light"
     },
     "output_type": "display_data"
    }
   ],
   "source": [
    "# przykładowe dane\n",
    "x1 = np.linspace(1, 10, 100)\n",
    "y1 = np.sin(x)\n",
    "x2 = np.linspace(1, 10, 10)\n",
    "y2 = np.sin(x2)\n",
    "\n",
    "# tworzenie rysunku\n",
    "fig, (ax1, ax2) = plt.subplots(nrows=2, ncols=1) # dwa wykresy jeden pod drugim\n",
    "# rysowanie wykresu nr 1\n",
    "ax1.plot(x1, y1, c='r', linestyle='-.', label='sin(x)') #wiele innych opcji patrz w dokumentacji\n",
    "ax1.legend() # dla legendy mozna ustalic pozycje podając argument 0,1,2,3 lub 4\n",
    "ax1.set_title('Sin(x) nr 1')\n",
    "ax1.set_xlabel('x')\n",
    "ax1.set_ylabel('y')\n",
    "ax1.grid(True)\n",
    "# rysowanie wykresu nr 2\n",
    "ax2.scatter(x2, y2, color='r', label='sin(x)') #wiele innych opcji patrz w dokumentacji\n",
    "ax2.legend() # dla legendy mozna ustalic pozycje podając argument 0,1,2,3 lub 4\n",
    "ax2.set_title('Sin(x) nr 2')\n",
    "ax2.set_xlabel('x')\n",
    "ax2.set_ylabel('y')\n",
    "ax2.grid(True)\n",
    "\n",
    "# wyświetlenie rysunku\n",
    "plt.show()"
   ]
  },
  {
   "cell_type": "markdown",
   "metadata": {
    "deletable": false,
    "editable": false,
    "nbgrader": {
     "checksum": "646560b0e7f70fd88b1567dd48ede03b",
     "grade": false,
     "grade_id": "cell-1a4affad785c2c5f",
     "locked": true,
     "schema_version": 1,
     "solution": false
    }
   },
   "source": [
    "Histogram."
   ]
  },
  {
   "cell_type": "code",
   "execution_count": 47,
   "metadata": {},
   "outputs": [
    {
     "data": {
      "image/png": "[encoded data removed]",
      "text/plain": [
       "<Figure size 432x288 with 2 Axes>"
      ]
     },
     "metadata": {
      "needs_background": "light"
     },
     "output_type": "display_data"
    }
   ],
   "source": [
    "# Aby mieć polskie znaki w tekstach na wykresie należy zmienic czcionkę\n",
    "plt.rcParams['font.family'] = 'DejaVu Sans'\n",
    "\n",
    "# przykładowe dane\n",
    "x = np.random.randn(100) # sto punktów ze standardowego rozkładu normalnego\n",
    "\n",
    "# tworzenie rysunku\n",
    "fig, (ax1, ax2) = plt.subplots(nrows=2, ncols=1) # dwa wykresy jeden pod drugim\n",
    "# rysowanie wykresu nr 1\n",
    "ax1.scatter(range(len(x)), x, color='r') \n",
    "ax1.set_title('Random')\n",
    "ax1.set_xlabel('nr')\n",
    "ax1.set_ylabel('y')\n",
    "ax1.grid(True)\n",
    "# rysowanie wykresu nr 2\n",
    "ax2.hist(x, 20) #wiele innych opcji patrz w dokumentacji\n",
    "ax2.set_xlabel('x')\n",
    "ax2.set_ylabel(u'częstość')\n",
    "ax2.grid(True)\n",
    "\n",
    "# wyświetlenie rysunku\n",
    "plt.show()"
   ]
  },
  {
   "cell_type": "markdown",
   "metadata": {
    "deletable": false,
    "editable": false,
    "nbgrader": {
     "checksum": "38c14bf68f31478a54d14c3ba570e91c",
     "grade": false,
     "grade_id": "cell-8ecceb5c4654963b",
     "locked": true,
     "schema_version": 1,
     "solution": false
    }
   },
   "source": [
    "Wykres 3D."
   ]
  },
  {
   "cell_type": "code",
   "execution_count": 48,
   "metadata": {},
   "outputs": [
    {
     "data": {
      "image/png": "[encoded data removed]",
      "text/plain": [
       "<Figure size 432x288 with 1 Axes>"
      ]
     },
     "metadata": {
      "needs_background": "light"
     },
     "output_type": "display_data"
    }
   ],
   "source": [
    "from mpl_toolkits.mplot3d import Axes3D\n",
    "\n",
    "x = np.random.randn(100)\n",
    "y = np.random.randn(100)\n",
    "z = np.random.randn(100)\n",
    "\n",
    "fig = plt.figure()\n",
    "ax = fig.add_subplot(111, projection='3d')\n",
    "ax.scatter(x, y, z, c='r', marker='o')\n",
    "ax.set_xlabel('X')\n",
    "ax.set_ylabel('Y')\n",
    "ax.set_zlabel('Z')\n",
    "\n",
    "plt.show()"
   ]
  },
  {
   "cell_type": "markdown",
   "metadata": {
    "deletable": false,
    "editable": false,
    "nbgrader": {
     "checksum": "69692a775841419636b19840af8bf5ce",
     "grade": false,
     "grade_id": "cell-f7d3f298d0733cb7",
     "locked": true,
     "schema_version": 1,
     "solution": false
    }
   },
   "source": [
    "Fajny przykład z galerii."
   ]
  },
  {
   "cell_type": "code",
   "execution_count": 49,
   "metadata": {},
   "outputs": [
    {
     "data": {
      "image/png": "[encoded data removed]",
      "text/plain": [
       "<Figure size 432x288 with 1 Axes>"
      ]
     },
     "metadata": {
      "needs_background": "light"
     },
     "output_type": "display_data"
    }
   ],
   "source": [
    "from mpl_toolkits.mplot3d import axes3d\n",
    "import matplotlib.pyplot as plt\n",
    "from matplotlib import cm\n",
    "\n",
    "fig = plt.figure()\n",
    "ax = fig.gca(projection='3d')\n",
    "X, Y, Z = axes3d.get_test_data(0.05)\n",
    "ax.plot_surface(X, Y, Z, rstride=8, cstride=8, alpha=0.3)\n",
    "cset = ax.contour(X, Y, Z, zdir='z', offset=-100, cmap=cm.coolwarm)\n",
    "cset = ax.contour(X, Y, Z, zdir='x', offset=-40, cmap=cm.coolwarm)\n",
    "cset = ax.contour(X, Y, Z, zdir='y', offset=40, cmap=cm.coolwarm)\n",
    "\n",
    "ax.set_xlabel('X')\n",
    "ax.set_xlim(-40, 40)\n",
    "ax.set_ylabel('Y')\n",
    "ax.set_ylim(-40, 40)\n",
    "ax.set_zlabel('Z')\n",
    "ax.set_zlim(-100, 100)\n",
    "\n",
    "plt.show()"
   ]
  },
  {
   "cell_type": "markdown",
   "metadata": {
    "deletable": false,
    "editable": false,
    "nbgrader": {
     "checksum": "d273b3367403009b836a63a9f643933e",
     "grade": false,
     "grade_id": "cell-016551ec102a904e",
     "locked": true,
     "schema_version": 1,
     "solution": false
    }
   },
   "source": [
    "### Pandas (http://pandas.pydata.org/)\n",
    "`Pandas` to moduł do szybkiego i wygodnego przetwarzania i analizowania danych w postaci tabel."
   ]
  },
  {
   "cell_type": "code",
   "execution_count": 50,
   "metadata": {},
   "outputs": [
    {
     "ename": "ModuleNotFoundError",
     "evalue": "No module named 'pandas'",
     "output_type": "error",
     "traceback": [
      "\u001b[1;31m---------------------------------------------------------------------------\u001b[0m",
      "\u001b[1;31mModuleNotFoundError\u001b[0m                       Traceback (most recent call last)",
      "\u001b[1;32m<ipython-input-50-2c035b409906>\u001b[0m in \u001b[0;36m<module>\u001b[1;34m\u001b[0m\n\u001b[0;32m      1\u001b[0m \u001b[1;31m# import modułu pandas\u001b[0m\u001b[1;33m\u001b[0m\u001b[1;33m\u001b[0m\u001b[1;33m\u001b[0m\u001b[0m\n\u001b[1;32m----> 2\u001b[1;33m \u001b[1;32mimport\u001b[0m \u001b[0mpandas\u001b[0m \u001b[1;32mas\u001b[0m \u001b[0mpd\u001b[0m\u001b[1;33m\u001b[0m\u001b[1;33m\u001b[0m\u001b[0m\n\u001b[0m",
      "\u001b[1;31mModuleNotFoundError\u001b[0m: No module named 'pandas'"
     ]
    }
   ],
   "source": [
    "# import modułu pandas\n",
    "import pandas as pd"
   ]
  },
  {
   "cell_type": "markdown",
   "metadata": {
    "deletable": false,
    "editable": false,
    "nbgrader": {
     "checksum": "ef0bbe4e43910ae3cd02384632cb042a",
     "grade": false,
     "grade_id": "cell-39399e23796475e9",
     "locked": true,
     "schema_version": 1,
     "solution": false
    }
   },
   "source": [
    "Podstawowym obiektem modułu `pandas` jest `DataFrame`."
   ]
  },
  {
   "cell_type": "code",
   "execution_count": null,
   "metadata": {},
   "outputs": [],
   "source": [
    "# stworzenie obiektu dataframe\n",
    "df = pd.DataFrame([[1,2,3],[1,2,3]], columns=['A','B','C'])"
   ]
  },
  {
   "cell_type": "code",
   "execution_count": null,
   "metadata": {},
   "outputs": [],
   "source": [
    "df"
   ]
  },
  {
   "cell_type": "markdown",
   "metadata": {
    "deletable": false,
    "editable": false,
    "nbgrader": {
     "checksum": "16b36296eb6ecd8f40a5e7bd12c264d9",
     "grade": false,
     "grade_id": "cell-56a9ba745a61d389",
     "locked": true,
     "schema_version": 1,
     "solution": false
    }
   },
   "source": [
    "Obiekt `DataFrame` możemy stworzyć bezpośrednio wczytując dane z pliku np. txt, csv, xls itp."
   ]
  },
  {
   "cell_type": "code",
   "execution_count": null,
   "metadata": {},
   "outputs": [],
   "source": [
    "# wczytanie danych z pliku xls\n",
    "df_titanic = pd.read_excel('titanic.xls')"
   ]
  },
  {
   "cell_type": "code",
   "execution_count": null,
   "metadata": {},
   "outputs": [],
   "source": [
    "# wyświetlenie pierwszych n wierszy\n",
    "df_titanic.head(6)"
   ]
  },
  {
   "cell_type": "code",
   "execution_count": null,
   "metadata": {},
   "outputs": [],
   "source": [
    "# wyświetlenie ostatnich n wierszy\n",
    "df_titanic.tail(6)"
   ]
  },
  {
   "cell_type": "code",
   "execution_count": null,
   "metadata": {},
   "outputs": [],
   "source": [
    "# wyświetlenie podstawowych statystyk\n",
    "df_titanic.describe().T  #transpozycja dla lepszej czytelności\n",
    "# wyniki tylko dla kolumn zawierających dane liczbowe"
   ]
  },
  {
   "cell_type": "code",
   "execution_count": null,
   "metadata": {},
   "outputs": [],
   "source": [
    "# odwołanie do konkretnej kolumny\n",
    "df_titanic['age'][:10]  # pierwsze 10"
   ]
  },
  {
   "cell_type": "code",
   "execution_count": null,
   "metadata": {},
   "outputs": [],
   "source": [
    "# to samo uzyskamy pisząc\n",
    "df_titanic.age[:10]"
   ]
  },
  {
   "cell_type": "code",
   "execution_count": null,
   "metadata": {},
   "outputs": [],
   "source": [
    "# lista nazw kolumn\n",
    "df_titanic.columns"
   ]
  },
  {
   "cell_type": "markdown",
   "metadata": {
    "deletable": false,
    "editable": false,
    "nbgrader": {
     "checksum": "cd2729ef24b0f98d3ad61e35fc9e0e2e",
     "grade": false,
     "grade_id": "cell-ad3e942cbd8fa3d9",
     "locked": true,
     "schema_version": 1,
     "solution": false
    }
   },
   "source": [
    "Brakujące dane w komórkach zastępowane są poprzez obiekt `NaN`."
   ]
  },
  {
   "cell_type": "code",
   "execution_count": null,
   "metadata": {},
   "outputs": [],
   "source": [
    "# policzenie liczby brakujących wartości w poszczególnych kolumnach\n",
    "df_titanic.apply(lambda x: sum(x.isnull()),axis=0)"
   ]
  },
  {
   "cell_type": "code",
   "execution_count": null,
   "metadata": {},
   "outputs": [],
   "source": [
    "# brakujące dane możemy zastąpić ustaloną wartością np. -1\n",
    "df_titanic.fillna(-1, inplace=True)\n",
    "df_titanic.apply(lambda x: sum(x.isnull()),axis=0)"
   ]
  },
  {
   "cell_type": "code",
   "execution_count": null,
   "metadata": {},
   "outputs": [],
   "source": [
    "# wybieranie kilku kolumn\n",
    "df_titanic2 = df_titanic[['name','age']]\n",
    "df_titanic2.head()"
   ]
  },
  {
   "cell_type": "code",
   "execution_count": null,
   "metadata": {},
   "outputs": [],
   "source": [
    "# usuwanie kolumn\n",
    "df_titanic = df_titanic.drop(['name','cabin','boat', 'body', 'ticket', 'home.dest'], 1)\n",
    "df_titanic.head()"
   ]
  },
  {
   "cell_type": "code",
   "execution_count": null,
   "metadata": {},
   "outputs": [],
   "source": [
    "# unikalne wartości w kolumnach\n",
    "for col in df_titanic.columns:\n",
    "    print(col, df_titanic[col].unique())"
   ]
  },
  {
   "cell_type": "markdown",
   "metadata": {
    "deletable": false,
    "editable": false,
    "nbgrader": {
     "checksum": "00fa070f0a40f700bf25b823ead1ab9c",
     "grade": false,
     "grade_id": "cell-86d87d4bd4ef4b8d",
     "locked": true,
     "schema_version": 1,
     "solution": false
    }
   },
   "source": [
    "Rysowanie wykresów bezpośednio z tabel."
   ]
  },
  {
   "cell_type": "code",
   "execution_count": null,
   "metadata": {},
   "outputs": [],
   "source": [
    "import matplotlib.pyplot as plt\n",
    "# rozkład wieku\n",
    "df_titanic['age'].hist()  # pik w -1 to nasze brakujące dane\n",
    "plt.show()"
   ]
  },
  {
   "cell_type": "code",
   "execution_count": null,
   "metadata": {},
   "outputs": [],
   "source": [
    "# bar plot z dwóch kolumn\n",
    "ct = pd.crosstab(df_titanic['pclass'], df_titanic['survived'])\n",
    "ct.plot(kind='bar')\n",
    "plt.show()"
   ]
  },
  {
   "cell_type": "markdown",
   "metadata": {
    "deletable": false,
    "editable": false,
    "nbgrader": {
     "checksum": "a447eb263278e7192b99553852a1cb6a",
     "grade": false,
     "grade_id": "cell-1a2553eea2bb61fe",
     "locked": true,
     "schema_version": 1,
     "solution": false
    }
   },
   "source": [
    "Na danych w postaci obiektów `DataFrame` można wykonywać bardzo dużo przeróżnych operacji jak również pracować z nimi jak z tabelami w bazach danych (zapytania SQL). Więcej w dokumentacji."
   ]
  },
  {
   "cell_type": "markdown",
   "metadata": {
    "deletable": false,
    "editable": false,
    "nbgrader": {
     "checksum": "24ecf5320cd7cb9cb81c0b0146080365",
     "grade": false,
     "grade_id": "cell-97e6dcb0f453b0b1",
     "locked": true,
     "schema_version": 1,
     "solution": false
    }
   },
   "source": [
    "### Przedstawione wyżej przykłady to tylko bardzo niewielki przykład możliwości modułów numpy, scipy, matplotlib oraz pandas. Zachęcam do poczytania (przeglądnięcia) dokumentacji tych modułów."
   ]
  },
  {
   "cell_type": "markdown",
   "metadata": {
    "deletable": false,
    "editable": false,
    "nbgrader": {
     "checksum": "3a35f89bc9e3109bf1ac0cccaea5eded",
     "grade": false,
     "grade_id": "cell-22fcc0f320216f27",
     "locked": true,
     "schema_version": 1,
     "solution": false
    }
   },
   "source": [
    "# Zadanie 1:\n",
    "Napisz funkcję wyliczającą macierz odległości (euklidesowych) dla podanego zbioru wektorów. Funkcja powinna działać dla dowolnej liczby wektorów oraz dowolnego wymiaru tych wektorów.\n",
    "\n",
    "Macierz odległości $M = [m_{ij}]$, gdzie $m_{ij}$ to odległość Euklidesa między $i$-tym a $j$-tym wektorem.  \n",
    "\n",
    "Funkcję tą napisz w dwóch wersjach. Jedną z użyciem pakietu `numpy`, a drugą bez (czysty Python). Porównaj czasy ich działania dla losowych danych wejściowych. Do pomiaru czasu można wykorzystać moduł `time` lub dostępną w notatniku metodę magiczną `%%timeit` (http://ipython.readthedocs.io/en/stable/interactive/magics.html).\n",
    "\n",
    "Dla wersji z użyciem pakietu `numpy` spróbuj napisać tą funkcję tak aby uniknąć wykorzystywania pętli `for` (dodatkowe punkty)."
   ]
  },
  {
   "cell_type": "code",
   "execution_count": 22,
   "metadata": {
    "deletable": false,
    "nbgrader": {
     "checksum": "7c9db2a657420fd93f7cedf470af36b4",
     "grade": true,
     "grade_id": "num-zad",
     "locked": false,
     "points": 8,
     "schema_version": 1,
     "solution": true
    }
   },
   "outputs": [
    {
     "name": "stdout",
     "output_type": "stream",
     "text": [
      "Liczę...\n",
      "Czas wykonania dla pythona :  60.73801517486572\n",
      "Czas wykonania dla numpy :  4.173598289489746\n",
      "0.0\n",
      "0.0\n"
     ]
    }
   ],
   "source": [
    "import numpy as np\n",
    "import random\n",
    "import time\n",
    "\n",
    "# Dane wejściowe:\n",
    "m = 1000  # liczba wektorów\n",
    "n = 300  # wymiar wektora\n",
    "wektory = [[random.random() for _ in range(n)] for _ in range(m)]\n",
    "\n",
    "#   PYTHON\n",
    "def macierzOdleglosci_python(wektor, liczba, wymiar):\n",
    "    \n",
    "    macierz = [[0 for i in range(m)] for j in range(m)]\n",
    "\n",
    "    for x in range(liczba):\n",
    "        for y in range(liczba):\n",
    "            suma = 0\n",
    "            for z in range(wymiar):\n",
    "                suma += (wektor[x][z] - wektor[y][z])**2\n",
    "            macierz[x][y] = suma**(1/2)\n",
    "    \n",
    "    return macierz\n",
    "\n",
    "#   NUMPY\n",
    "def macierzOdleglosci_numpy(wektor, liczba):\n",
    "\n",
    "    macierz = np.zeros((liczba, liczba))\n",
    "    wektorArray = np.asarray(wektor)\n",
    "    i = 0\n",
    "    \n",
    "    while(i < liczba):\n",
    "        j = 0\n",
    "        while(j < liczba):\n",
    "            macierz[i][j] = np.linalg.norm(wektorArray[i] - wektorArray[j])\n",
    "            j = j+1\n",
    "        i = i+1\n",
    "            \n",
    "    return macierz\n",
    "\n",
    "print(\"Liczę...\")\n",
    "\n",
    "start = time.time()\n",
    "python = macierzOdleglosci_python(wektory, m, n)\n",
    "end = time.time()\n",
    "print(\"Czas wykonania dla pythona : \", (end - start))\n",
    "\n",
    "start = time.time()\n",
    "numpy = macierzOdleglosci_numpy(wektory, m)\n",
    "end = time.time()\n",
    "print(\"Czas wykonania dla numpy : \", (end - start))"
   ]
  },
  {
   "cell_type": "markdown",
   "metadata": {
    "deletable": false,
    "editable": false,
    "nbgrader": {
     "checksum": "fdd9a3518d451fbc32a0d8f2bfb0e910",
     "grade": false,
     "grade_id": "cell-910c24eef138c79e",
     "locked": true,
     "schema_version": 1,
     "solution": false
    }
   },
   "source": [
    "## Zadanie 2:\n",
    "Korzystając z pakietu `scipy.optimize` znajdź minimum poniższej funkcji\n",
    "$$ F(x,y)=\\frac{1}{f}\\left(-a\\exp{[-b\\sqrt{\\frac{1}{n}(x^2+y^2)}]}-\\exp{[\\frac{1}{n}(\\cos(cx)+\\cos(cy))]}+a+\\exp(1)+d \\right) $$\n",
    "dla $a=20, b=0.2, c=2\\pi, d=5.7, f=0.8, n=2$ oraz przy ograniczniach $x,y\\in[-1.5,1.5]$.\n",
    "\n",
    "Wypróbuj różne punkty startowe, czy zawsze dostajesz ten sam wyniki?, dalczego?."
   ]
  },
  {
   "cell_type": "code",
   "execution_count": 5,
   "metadata": {
    "deletable": false,
    "nbgrader": {
     "checksum": "c92c394f9ee9c522e784c600a122ad01",
     "grade": true,
     "grade_id": "sci-zad",
     "locked": false,
     "points": 7,
     "schema_version": 1,
     "solution": true
    }
   },
   "outputs": [
    {
     "name": "stdout",
     "output_type": "stream",
     "text": [
      "Optimization terminated successfully.    (Exit mode 0)\n",
      "            Current function value: 7.1250001275492565\n",
      "            Iterations: 4\n",
      "            Function evaluations: 29\n",
      "            Gradient evaluations: 4\n",
      "punkt minimum: [-2.55098426e-08 -2.55098427e-08]\n",
      "wartośc minimum: 7.1250001275492565\n"
     ]
    }
   ],
   "source": [
    "import math\n",
    "import numpy as np\n",
    "from scipy.optimize import minimize\n",
    "\n",
    "def func(x):\n",
    "    \n",
    "    a = 20.0\n",
    "    b = 0.2\n",
    "    c = 2*math.pi\n",
    "    d = 5.7\n",
    "    f = 0.8\n",
    "    n = 2.0\n",
    "    \n",
    "    return 1/f * (-a * math.exp(-b * ((1/n)*(x[0]**2 + x[1]**2))**0.5) - math.exp((1/n)*(math.cos(c*x[0]) + math.cos(c*x[1]))) + a + math.exp(1) + d)\n",
    "\n",
    "x0 = [0, 0]\n",
    "bnds = ((-1.5, 1.5), (-1.5, 1.5))\n",
    "\n",
    "# minimalizacja metodą nelder-mead, dostępnych wiele innych algorytmów\n",
    "res = minimize(func, x0, method='SLSQP', options={'disp': True}, bounds = bnds)\n",
    "print('punkt minimum:', res.x)\n",
    "print('wartośc minimum:', res.fun)\n",
    "\n",
    "#Nie dostajemy zawsze tego samego wyniku - Algorytmy wyszukujące minimum są na tyle ograniczone, że istenieje możliwość \n",
    "#utknięcia w lokalnym minimum. Jak widać na wykresie poniżej, lokalnych minimum jest sporo, więc jest gdzie utknąć."
   ]
  },
  {
   "cell_type": "markdown",
   "metadata": {
    "deletable": false,
    "editable": false,
    "nbgrader": {
     "checksum": "2cdd2a763b30e93796a14271e2e6588a",
     "grade": false,
     "grade_id": "cell-57a30b66ca1eb842",
     "locked": true,
     "schema_version": 1,
     "solution": false
    }
   },
   "source": [
    "## Zadanie 3:\n",
    "Korzystając z pakietu `matplotlib` narysuj wykres funkcji z zadania 2."
   ]
  },
  {
   "cell_type": "code",
   "execution_count": 16,
   "metadata": {
    "deletable": false,
    "nbgrader": {
     "checksum": "b00ec7075d3a1fab83c993b94cd13609",
     "grade": true,
     "grade_id": "cell-a699a5dad7c66ba2",
     "locked": false,
     "points": 5,
     "schema_version": 1,
     "solution": true
    }
   },
   "outputs": [
    {
     "data": {
      "application/javascript": [
       "/* Put everything inside the global mpl namespace */\n",
       "window.mpl = {};\n",
       "\n",
       "\n",
       "mpl.get_websocket_type = function() {\n",
       "    if (typeof(WebSocket) !== 'undefined') {\n",
       "        return WebSocket;\n",
       "    } else if (typeof(MozWebSocket) !== 'undefined') {\n",
       "        return MozWebSocket;\n",
       "    } else {\n",
       "        alert('Your browser does not have WebSocket support.' +\n",
       "              'Please try Chrome, Safari or Firefox ≥ 6. ' +\n",
       "              'Firefox 4 and 5 are also supported but you ' +\n",
       "              'have to enable WebSockets in about:config.');\n",
       "    };\n",
       "}\n",
       "\n",
       "mpl.figure = function(figure_id, websocket, ondownload, parent_element) {\n",
       "    this.id = figure_id;\n",
       "\n",
       "    this.ws = websocket;\n",
       "\n",
       "    this.supports_binary = (this.ws.binaryType != undefined);\n",
       "\n",
       "    if (!this.supports_binary) {\n",
       "        var warnings = document.getElementById(\"mpl-warnings\");\n",
       "        if (warnings) {\n",
       "            warnings.style.display = 'block';\n",
       "            warnings.textContent = (\n",
       "                \"This browser does not support binary websocket messages. \" +\n",
       "                    \"Performance may be slow.\");\n",
       "        }\n",
       "    }\n",
       "\n",
       "    this.imageObj = new Image();\n",
       "\n",
       "    this.context = undefined;\n",
       "    this.message = undefined;\n",
       "    this.canvas = undefined;\n",
       "    this.rubberband_canvas = undefined;\n",
       "    this.rubberband_context = undefined;\n",
       "    this.format_dropdown = undefined;\n",
       "\n",
       "    this.image_mode = 'full';\n",
       "\n",
       "    this.root = $('<div/>');\n",
       "    this._root_extra_style(this.root)\n",
       "    this.root.attr('style', 'display: inline-block');\n",
       "\n",
       "    $(parent_element).append(this.root);\n",
       "\n",
       "    this._init_header(this);\n",
       "    this._init_canvas(this);\n",
       "    this._init_toolbar(this);\n",
       "\n",
       "    var fig = this;\n",
       "\n",
       "    this.waiting = false;\n",
       "\n",
       "    this.ws.onopen =  function () {\n",
       "            fig.send_message(\"supports_binary\", {value: fig.supports_binary});\n",
       "            fig.send_message(\"send_image_mode\", {});\n",
       "            if (mpl.ratio != 1) {\n",
       "                fig.send_message(\"set_dpi_ratio\", {'dpi_ratio': mpl.ratio});\n",
       "            }\n",
       "            fig.send_message(\"refresh\", {});\n",
       "        }\n",
       "\n",
       "    this.imageObj.onload = function() {\n",
       "            if (fig.image_mode == 'full') {\n",
       "                // Full images could contain transparency (where diff images\n",
       "                // almost always do), so we need to clear the canvas so that\n",
       "                // there is no ghosting.\n",
       "                fig.context.clearRect(0, 0, fig.canvas.width, fig.canvas.height);\n",
       "            }\n",
       "            fig.context.drawImage(fig.imageObj, 0, 0);\n",
       "        };\n",
       "\n",
       "    this.imageObj.onunload = function() {\n",
       "        fig.ws.close();\n",
       "    }\n",
       "\n",
       "    this.ws.onmessage = this._make_on_message_function(this);\n",
       "\n",
       "    this.ondownload = ondownload;\n",
       "}\n",
       "\n",
       "mpl.figure.prototype._init_header = function() {\n",
       "    var titlebar = $(\n",
       "        '<div class=\"ui-dialog-titlebar ui-widget-header ui-corner-all ' +\n",
       "        'ui-helper-clearfix\"/>');\n",
       "    var titletext = $(\n",
       "        '<div class=\"ui-dialog-title\" style=\"width: 100%; ' +\n",
       "        'text-align: center; padding: 3px;\"/>');\n",
       "    titlebar.append(titletext)\n",
       "    this.root.append(titlebar);\n",
       "    this.header = titletext[0];\n",
       "}\n",
       "\n",
       "\n",
       "\n",
       "mpl.figure.prototype._canvas_extra_style = function(canvas_div) {\n",
       "\n",
       "}\n",
       "\n",
       "\n",
       "mpl.figure.prototype._root_extra_style = function(canvas_div) {\n",
       "\n",
       "}\n",
       "\n",
       "mpl.figure.prototype._init_canvas = function() {\n",
       "    var fig = this;\n",
       "\n",
       "    var canvas_div = $('<div/>');\n",
       "\n",
       "    canvas_div.attr('style', 'position: relative; clear: both; outline: 0');\n",
       "\n",
       "    function canvas_keyboard_event(event) {\n",
       "        return fig.key_event(event, event['data']);\n",
       "    }\n",
       "\n",
       "    canvas_div.keydown('key_press', canvas_keyboard_event);\n",
       "    canvas_div.keyup('key_release', canvas_keyboard_event);\n",
       "    this.canvas_div = canvas_div\n",
       "    this._canvas_extra_style(canvas_div)\n",
       "    this.root.append(canvas_div);\n",
       "\n",
       "    var canvas = $('<canvas/>');\n",
       "    canvas.addClass('mpl-canvas');\n",
       "    canvas.attr('style', \"left: 0; top: 0; z-index: 0; outline: 0\")\n",
       "\n",
       "    this.canvas = canvas[0];\n",
       "    this.context = canvas[0].getContext(\"2d\");\n",
       "\n",
       "    var backingStore = this.context.backingStorePixelRatio ||\n",
       "\tthis.context.webkitBackingStorePixelRatio ||\n",
       "\tthis.context.mozBackingStorePixelRatio ||\n",
       "\tthis.context.msBackingStorePixelRatio ||\n",
       "\tthis.context.oBackingStorePixelRatio ||\n",
       "\tthis.context.backingStorePixelRatio || 1;\n",
       "\n",
       "    mpl.ratio = (window.devicePixelRatio || 1) / backingStore;\n",
       "\n",
       "    var rubberband = $('<canvas/>');\n",
       "    rubberband.attr('style', \"position: absolute; left: 0; top: 0; z-index: 1;\")\n",
       "\n",
       "    var pass_mouse_events = true;\n",
       "\n",
       "    canvas_div.resizable({\n",
       "        start: function(event, ui) {\n",
       "            pass_mouse_events = false;\n",
       "        },\n",
       "        resize: function(event, ui) {\n",
       "            fig.request_resize(ui.size.width, ui.size.height);\n",
       "        },\n",
       "        stop: function(event, ui) {\n",
       "            pass_mouse_events = true;\n",
       "            fig.request_resize(ui.size.width, ui.size.height);\n",
       "        },\n",
       "    });\n",
       "\n",
       "    function mouse_event_fn(event) {\n",
       "        if (pass_mouse_events)\n",
       "            return fig.mouse_event(event, event['data']);\n",
       "    }\n",
       "\n",
       "    rubberband.mousedown('button_press', mouse_event_fn);\n",
       "    rubberband.mouseup('button_release', mouse_event_fn);\n",
       "    // Throttle sequential mouse events to 1 every 20ms.\n",
       "    rubberband.mousemove('motion_notify', mouse_event_fn);\n",
       "\n",
       "    rubberband.mouseenter('figure_enter', mouse_event_fn);\n",
       "    rubberband.mouseleave('figure_leave', mouse_event_fn);\n",
       "\n",
       "    canvas_div.on(\"wheel\", function (event) {\n",
       "        event = event.originalEvent;\n",
       "        event['data'] = 'scroll'\n",
       "        if (event.deltaY < 0) {\n",
       "            event.step = 1;\n",
       "        } else {\n",
       "            event.step = -1;\n",
       "        }\n",
       "        mouse_event_fn(event);\n",
       "    });\n",
       "\n",
       "    canvas_div.append(canvas);\n",
       "    canvas_div.append(rubberband);\n",
       "\n",
       "    this.rubberband = rubberband;\n",
       "    this.rubberband_canvas = rubberband[0];\n",
       "    this.rubberband_context = rubberband[0].getContext(\"2d\");\n",
       "    this.rubberband_context.strokeStyle = \"#000000\";\n",
       "\n",
       "    this._resize_canvas = function(width, height) {\n",
       "        // Keep the size of the canvas, canvas container, and rubber band\n",
       "        // canvas in synch.\n",
       "        canvas_div.css('width', width)\n",
       "        canvas_div.css('height', height)\n",
       "\n",
       "        canvas.attr('width', width * mpl.ratio);\n",
       "        canvas.attr('height', height * mpl.ratio);\n",
       "        canvas.attr('style', 'width: ' + width + 'px; height: ' + height + 'px;');\n",
       "\n",
       "        rubberband.attr('width', width);\n",
       "        rubberband.attr('height', height);\n",
       "    }\n",
       "\n",
       "    // Set the figure to an initial 600x600px, this will subsequently be updated\n",
       "    // upon first draw.\n",
       "    this._resize_canvas(600, 600);\n",
       "\n",
       "    // Disable right mouse context menu.\n",
       "    $(this.rubberband_canvas).bind(\"contextmenu\",function(e){\n",
       "        return false;\n",
       "    });\n",
       "\n",
       "    function set_focus () {\n",
       "        canvas.focus();\n",
       "        canvas_div.focus();\n",
       "    }\n",
       "\n",
       "    window.setTimeout(set_focus, 100);\n",
       "}\n",
       "\n",
       "mpl.figure.prototype._init_toolbar = function() {\n",
       "    var fig = this;\n",
       "\n",
       "    var nav_element = $('<div/>')\n",
       "    nav_element.attr('style', 'width: 100%');\n",
       "    this.root.append(nav_element);\n",
       "\n",
       "    // Define a callback function for later on.\n",
       "    function toolbar_event(event) {\n",
       "        return fig.toolbar_button_onclick(event['data']);\n",
       "    }\n",
       "    function toolbar_mouse_event(event) {\n",
       "        return fig.toolbar_button_onmouseover(event['data']);\n",
       "    }\n",
       "\n",
       "    for(var toolbar_ind in mpl.toolbar_items) {\n",
       "        var name = mpl.toolbar_items[toolbar_ind][0];\n",
       "        var tooltip = mpl.toolbar_items[toolbar_ind][1];\n",
       "        var image = mpl.toolbar_items[toolbar_ind][2];\n",
       "        var method_name = mpl.toolbar_items[toolbar_ind][3];\n",
       "\n",
       "        if (!name) {\n",
       "            // put a spacer in here.\n",
       "            continue;\n",
       "        }\n",
       "        var button = $('<button/>');\n",
       "        button.addClass('ui-button ui-widget ui-state-default ui-corner-all ' +\n",
       "                        'ui-button-icon-only');\n",
       "        button.attr('role', 'button');\n",
       "        button.attr('aria-disabled', 'false');\n",
       "        button.click(method_name, toolbar_event);\n",
       "        button.mouseover(tooltip, toolbar_mouse_event);\n",
       "\n",
       "        var icon_img = $('<span/>');\n",
       "        icon_img.addClass('ui-button-icon-primary ui-icon');\n",
       "        icon_img.addClass(image);\n",
       "        icon_img.addClass('ui-corner-all');\n",
       "\n",
       "        var tooltip_span = $('<span/>');\n",
       "        tooltip_span.addClass('ui-button-text');\n",
       "        tooltip_span.html(tooltip);\n",
       "\n",
       "        button.append(icon_img);\n",
       "        button.append(tooltip_span);\n",
       "\n",
       "        nav_element.append(button);\n",
       "    }\n",
       "\n",
       "    var fmt_picker_span = $('<span/>');\n",
       "\n",
       "    var fmt_picker = $('<select/>');\n",
       "    fmt_picker.addClass('mpl-toolbar-option ui-widget ui-widget-content');\n",
       "    fmt_picker_span.append(fmt_picker);\n",
       "    nav_element.append(fmt_picker_span);\n",
       "    this.format_dropdown = fmt_picker[0];\n",
       "\n",
       "    for (var ind in mpl.extensions) {\n",
       "        var fmt = mpl.extensions[ind];\n",
       "        var option = $(\n",
       "            '<option/>', {selected: fmt === mpl.default_extension}).html(fmt);\n",
       "        fmt_picker.append(option)\n",
       "    }\n",
       "\n",
       "    // Add hover states to the ui-buttons\n",
       "    $( \".ui-button\" ).hover(\n",
       "        function() { $(this).addClass(\"ui-state-hover\");},\n",
       "        function() { $(this).removeClass(\"ui-state-hover\");}\n",
       "    );\n",
       "\n",
       "    var status_bar = $('<span class=\"mpl-message\"/>');\n",
       "    nav_element.append(status_bar);\n",
       "    this.message = status_bar[0];\n",
       "}\n",
       "\n",
       "mpl.figure.prototype.request_resize = function(x_pixels, y_pixels) {\n",
       "    // Request matplotlib to resize the figure. Matplotlib will then trigger a resize in the client,\n",
       "    // which will in turn request a refresh of the image.\n",
       "    this.send_message('resize', {'width': x_pixels, 'height': y_pixels});\n",
       "}\n",
       "\n",
       "mpl.figure.prototype.send_message = function(type, properties) {\n",
       "    properties['type'] = type;\n",
       "    properties['figure_id'] = this.id;\n",
       "    this.ws.send(JSON.stringify(properties));\n",
       "}\n",
       "\n",
       "mpl.figure.prototype.send_draw_message = function() {\n",
       "    if (!this.waiting) {\n",
       "        this.waiting = true;\n",
       "        this.ws.send(JSON.stringify({type: \"draw\", figure_id: this.id}));\n",
       "    }\n",
       "}\n",
       "\n",
       "\n",
       "mpl.figure.prototype.handle_save = function(fig, msg) {\n",
       "    var format_dropdown = fig.format_dropdown;\n",
       "    var format = format_dropdown.options[format_dropdown.selectedIndex].value;\n",
       "    fig.ondownload(fig, format);\n",
       "}\n",
       "\n",
       "\n",
       "mpl.figure.prototype.handle_resize = function(fig, msg) {\n",
       "    var size = msg['size'];\n",
       "    if (size[0] != fig.canvas.width || size[1] != fig.canvas.height) {\n",
       "        fig._resize_canvas(size[0], size[1]);\n",
       "        fig.send_message(\"refresh\", {});\n",
       "    };\n",
       "}\n",
       "\n",
       "mpl.figure.prototype.handle_rubberband = function(fig, msg) {\n",
       "    var x0 = msg['x0'] / mpl.ratio;\n",
       "    var y0 = (fig.canvas.height - msg['y0']) / mpl.ratio;\n",
       "    var x1 = msg['x1'] / mpl.ratio;\n",
       "    var y1 = (fig.canvas.height - msg['y1']) / mpl.ratio;\n",
       "    x0 = Math.floor(x0) + 0.5;\n",
       "    y0 = Math.floor(y0) + 0.5;\n",
       "    x1 = Math.floor(x1) + 0.5;\n",
       "    y1 = Math.floor(y1) + 0.5;\n",
       "    var min_x = Math.min(x0, x1);\n",
       "    var min_y = Math.min(y0, y1);\n",
       "    var width = Math.abs(x1 - x0);\n",
       "    var height = Math.abs(y1 - y0);\n",
       "\n",
       "    fig.rubberband_context.clearRect(\n",
       "        0, 0, fig.canvas.width, fig.canvas.height);\n",
       "\n",
       "    fig.rubberband_context.strokeRect(min_x, min_y, width, height);\n",
       "}\n",
       "\n",
       "mpl.figure.prototype.handle_figure_label = function(fig, msg) {\n",
       "    // Updates the figure title.\n",
       "    fig.header.textContent = msg['label'];\n",
       "}\n",
       "\n",
       "mpl.figure.prototype.handle_cursor = function(fig, msg) {\n",
       "    var cursor = msg['cursor'];\n",
       "    switch(cursor)\n",
       "    {\n",
       "    case 0:\n",
       "        cursor = 'pointer';\n",
       "        break;\n",
       "    case 1:\n",
       "        cursor = 'default';\n",
       "        break;\n",
       "    case 2:\n",
       "        cursor = 'crosshair';\n",
       "        break;\n",
       "    case 3:\n",
       "        cursor = 'move';\n",
       "        break;\n",
       "    }\n",
       "    fig.rubberband_canvas.style.cursor = cursor;\n",
       "}\n",
       "\n",
       "mpl.figure.prototype.handle_message = function(fig, msg) {\n",
       "    fig.message.textContent = msg['message'];\n",
       "}\n",
       "\n",
       "mpl.figure.prototype.handle_draw = function(fig, msg) {\n",
       "    // Request the server to send over a new figure.\n",
       "    fig.send_draw_message();\n",
       "}\n",
       "\n",
       "mpl.figure.prototype.handle_image_mode = function(fig, msg) {\n",
       "    fig.image_mode = msg['mode'];\n",
       "}\n",
       "\n",
       "mpl.figure.prototype.updated_canvas_event = function() {\n",
       "    // Called whenever the canvas gets updated.\n",
       "    this.send_message(\"ack\", {});\n",
       "}\n",
       "\n",
       "// A function to construct a web socket function for onmessage handling.\n",
       "// Called in the figure constructor.\n",
       "mpl.figure.prototype._make_on_message_function = function(fig) {\n",
       "    return function socket_on_message(evt) {\n",
       "        if (evt.data instanceof Blob) {\n",
       "            /* FIXME: We get \"Resource interpreted as Image but\n",
       "             * transferred with MIME type text/plain:\" errors on\n",
       "             * Chrome.  But how to set the MIME type?  It doesn't seem\n",
       "             * to be part of the websocket stream */\n",
       "            evt.data.type = \"image/png\";\n",
       "\n",
       "            /* Free the memory for the previous frames */\n",
       "            if (fig.imageObj.src) {\n",
       "                (window.URL || window.webkitURL).revokeObjectURL(\n",
       "                    fig.imageObj.src);\n",
       "            }\n",
       "\n",
       "            fig.imageObj.src = (window.URL || window.webkitURL).createObjectURL(\n",
       "                evt.data);\n",
       "            fig.updated_canvas_event();\n",
       "            fig.waiting = false;\n",
       "            return;\n",
       "        }\n",
       "        else if (typeof evt.data === 'string' && evt.data.slice(0, 21) == \"data:image/png;base64\") {\n",
       "            fig.imageObj.src = evt.data;\n",
       "            fig.updated_canvas_event();\n",
       "            fig.waiting = false;\n",
       "            return;\n",
       "        }\n",
       "\n",
       "        var msg = JSON.parse(evt.data);\n",
       "        var msg_type = msg['type'];\n",
       "\n",
       "        // Call the  \"handle_{type}\" callback, which takes\n",
       "        // the figure and JSON message as its only arguments.\n",
       "        try {\n",
       "            var callback = fig[\"handle_\" + msg_type];\n",
       "        } catch (e) {\n",
       "            console.log(\"No handler for the '\" + msg_type + \"' message type: \", msg);\n",
       "            return;\n",
       "        }\n",
       "\n",
       "        if (callback) {\n",
       "            try {\n",
       "                // console.log(\"Handling '\" + msg_type + \"' message: \", msg);\n",
       "                callback(fig, msg);\n",
       "            } catch (e) {\n",
       "                console.log(\"Exception inside the 'handler_\" + msg_type + \"' callback:\", e, e.stack, msg);\n",
       "            }\n",
       "        }\n",
       "    };\n",
       "}\n",
       "\n",
       "// from http://stackoverflow.com/questions/1114465/getting-mouse-location-in-canvas\n",
       "mpl.findpos = function(e) {\n",
       "    //this section is from http://www.quirksmode.org/js/events_properties.html\n",
       "    var targ;\n",
       "    if (!e)\n",
       "        e = window.event;\n",
       "    if (e.target)\n",
       "        targ = e.target;\n",
       "    else if (e.srcElement)\n",
       "        targ = e.srcElement;\n",
       "    if (targ.nodeType == 3) // defeat Safari bug\n",
       "        targ = targ.parentNode;\n",
       "\n",
       "    // jQuery normalizes the pageX and pageY\n",
       "    // pageX,Y are the mouse positions relative to the document\n",
       "    // offset() returns the position of the element relative to the document\n",
       "    var x = e.pageX - $(targ).offset().left;\n",
       "    var y = e.pageY - $(targ).offset().top;\n",
       "\n",
       "    return {\"x\": x, \"y\": y};\n",
       "};\n",
       "\n",
       "/*\n",
       " * return a copy of an object with only non-object keys\n",
       " * we need this to avoid circular references\n",
       " * http://stackoverflow.com/a/24161582/3208463\n",
       " */\n",
       "function simpleKeys (original) {\n",
       "  return Object.keys(original).reduce(function (obj, key) {\n",
       "    if (typeof original[key] !== 'object')\n",
       "        obj[key] = original[key]\n",
       "    return obj;\n",
       "  }, {});\n",
       "}\n",
       "\n",
       "mpl.figure.prototype.mouse_event = function(event, name) {\n",
       "    var canvas_pos = mpl.findpos(event)\n",
       "\n",
       "    if (name === 'button_press')\n",
       "    {\n",
       "        this.canvas.focus();\n",
       "        this.canvas_div.focus();\n",
       "    }\n",
       "\n",
       "    var x = canvas_pos.x * mpl.ratio;\n",
       "    var y = canvas_pos.y * mpl.ratio;\n",
       "\n",
       "    this.send_message(name, {x: x, y: y, button: event.button,\n",
       "                             step: event.step,\n",
       "                             guiEvent: simpleKeys(event)});\n",
       "\n",
       "    /* This prevents the web browser from automatically changing to\n",
       "     * the text insertion cursor when the button is pressed.  We want\n",
       "     * to control all of the cursor setting manually through the\n",
       "     * 'cursor' event from matplotlib */\n",
       "    event.preventDefault();\n",
       "    return false;\n",
       "}\n",
       "\n",
       "mpl.figure.prototype._key_event_extra = function(event, name) {\n",
       "    // Handle any extra behaviour associated with a key event\n",
       "}\n",
       "\n",
       "mpl.figure.prototype.key_event = function(event, name) {\n",
       "\n",
       "    // Prevent repeat events\n",
       "    if (name == 'key_press')\n",
       "    {\n",
       "        if (event.which === this._key)\n",
       "            return;\n",
       "        else\n",
       "            this._key = event.which;\n",
       "    }\n",
       "    if (name == 'key_release')\n",
       "        this._key = null;\n",
       "\n",
       "    var value = '';\n",
       "    if (event.ctrlKey && event.which != 17)\n",
       "        value += \"ctrl+\";\n",
       "    if (event.altKey && event.which != 18)\n",
       "        value += \"alt+\";\n",
       "    if (event.shiftKey && event.which != 16)\n",
       "        value += \"shift+\";\n",
       "\n",
       "    value += 'k';\n",
       "    value += event.which.toString();\n",
       "\n",
       "    this._key_event_extra(event, name);\n",
       "\n",
       "    this.send_message(name, {key: value,\n",
       "                             guiEvent: simpleKeys(event)});\n",
       "    return false;\n",
       "}\n",
       "\n",
       "mpl.figure.prototype.toolbar_button_onclick = function(name) {\n",
       "    if (name == 'download') {\n",
       "        this.handle_save(this, null);\n",
       "    } else {\n",
       "        this.send_message(\"toolbar_button\", {name: name});\n",
       "    }\n",
       "};\n",
       "\n",
       "mpl.figure.prototype.toolbar_button_onmouseover = function(tooltip) {\n",
       "    this.message.textContent = tooltip;\n",
       "};\n",
       "mpl.toolbar_items = [[\"Home\", \"Reset original view\", \"fa fa-home icon-home\", \"home\"], [\"Back\", \"Back to previous view\", \"fa fa-arrow-left icon-arrow-left\", \"back\"], [\"Forward\", \"Forward to next view\", \"fa fa-arrow-right icon-arrow-right\", \"forward\"], [\"\", \"\", \"\", \"\"], [\"Pan\", \"Pan axes with left mouse, zoom with right\", \"fa fa-arrows icon-move\", \"pan\"], [\"Zoom\", \"Zoom to rectangle\", \"fa fa-square-o icon-check-empty\", \"zoom\"], [\"\", \"\", \"\", \"\"], [\"Download\", \"Download plot\", \"fa fa-floppy-o icon-save\", \"download\"]];\n",
       "\n",
       "mpl.extensions = [\"eps\", \"pdf\", \"png\", \"ps\", \"raw\", \"svg\"];\n",
       "\n",
       "mpl.default_extension = \"png\";var comm_websocket_adapter = function(comm) {\n",
       "    // Create a \"websocket\"-like object which calls the given IPython comm\n",
       "    // object with the appropriate methods. Currently this is a non binary\n",
       "    // socket, so there is still some room for performance tuning.\n",
       "    var ws = {};\n",
       "\n",
       "    ws.close = function() {\n",
       "        comm.close()\n",
       "    };\n",
       "    ws.send = function(m) {\n",
       "        //console.log('sending', m);\n",
       "        comm.send(m);\n",
       "    };\n",
       "    // Register the callback with on_msg.\n",
       "    comm.on_msg(function(msg) {\n",
       "        //console.log('receiving', msg['content']['data'], msg);\n",
       "        // Pass the mpl event to the overridden (by mpl) onmessage function.\n",
       "        ws.onmessage(msg['content']['data'])\n",
       "    });\n",
       "    return ws;\n",
       "}\n",
       "\n",
       "mpl.mpl_figure_comm = function(comm, msg) {\n",
       "    // This is the function which gets called when the mpl process\n",
       "    // starts-up an IPython Comm through the \"matplotlib\" channel.\n",
       "\n",
       "    var id = msg.content.data.id;\n",
       "    // Get hold of the div created by the display call when the Comm\n",
       "    // socket was opened in Python.\n",
       "    var element = $(\"#\" + id);\n",
       "    var ws_proxy = comm_websocket_adapter(comm)\n",
       "\n",
       "    function ondownload(figure, format) {\n",
       "        window.open(figure.imageObj.src);\n",
       "    }\n",
       "\n",
       "    var fig = new mpl.figure(id, ws_proxy,\n",
       "                           ondownload,\n",
       "                           element.get(0));\n",
       "\n",
       "    // Call onopen now - mpl needs it, as it is assuming we've passed it a real\n",
       "    // web socket which is closed, not our websocket->open comm proxy.\n",
       "    ws_proxy.onopen();\n",
       "\n",
       "    fig.parent_element = element.get(0);\n",
       "    fig.cell_info = mpl.find_output_cell(\"<div id='\" + id + \"'></div>\");\n",
       "    if (!fig.cell_info) {\n",
       "        console.error(\"Failed to find cell for figure\", id, fig);\n",
       "        return;\n",
       "    }\n",
       "\n",
       "    var output_index = fig.cell_info[2]\n",
       "    var cell = fig.cell_info[0];\n",
       "\n",
       "};\n",
       "\n",
       "mpl.figure.prototype.handle_close = function(fig, msg) {\n",
       "    var width = fig.canvas.width/mpl.ratio\n",
       "    fig.root.unbind('remove')\n",
       "\n",
       "    // Update the output cell to use the data from the current canvas.\n",
       "    fig.push_to_output();\n",
       "    var dataURL = fig.canvas.toDataURL();\n",
       "    // Re-enable the keyboard manager in IPython - without this line, in FF,\n",
       "    // the notebook keyboard shortcuts fail.\n",
       "    IPython.keyboard_manager.enable()\n",
       "    $(fig.parent_element).html('<img src=\"' + dataURL + '\" width=\"' + width + '\">');\n",
       "    fig.close_ws(fig, msg);\n",
       "}\n",
       "\n",
       "mpl.figure.prototype.close_ws = function(fig, msg){\n",
       "    fig.send_message('closing', msg);\n",
       "    // fig.ws.close()\n",
       "}\n",
       "\n",
       "mpl.figure.prototype.push_to_output = function(remove_interactive) {\n",
       "    // Turn the data on the canvas into data in the output cell.\n",
       "    var width = this.canvas.width/mpl.ratio\n",
       "    var dataURL = this.canvas.toDataURL();\n",
       "    this.cell_info[1]['text/html'] = '<img src=\"' + dataURL + '\" width=\"' + width + '\">';\n",
       "}\n",
       "\n",
       "mpl.figure.prototype.updated_canvas_event = function() {\n",
       "    // Tell IPython that the notebook contents must change.\n",
       "    IPython.notebook.set_dirty(true);\n",
       "    this.send_message(\"ack\", {});\n",
       "    var fig = this;\n",
       "    // Wait a second, then push the new image to the DOM so\n",
       "    // that it is saved nicely (might be nice to debounce this).\n",
       "    setTimeout(function () { fig.push_to_output() }, 1000);\n",
       "}\n",
       "\n",
       "mpl.figure.prototype._init_toolbar = function() {\n",
       "    var fig = this;\n",
       "\n",
       "    var nav_element = $('<div/>')\n",
       "    nav_element.attr('style', 'width: 100%');\n",
       "    this.root.append(nav_element);\n",
       "\n",
       "    // Define a callback function for later on.\n",
       "    function toolbar_event(event) {\n",
       "        return fig.toolbar_button_onclick(event['data']);\n",
       "    }\n",
       "    function toolbar_mouse_event(event) {\n",
       "        return fig.toolbar_button_onmouseover(event['data']);\n",
       "    }\n",
       "\n",
       "    for(var toolbar_ind in mpl.toolbar_items){\n",
       "        var name = mpl.toolbar_items[toolbar_ind][0];\n",
       "        var tooltip = mpl.toolbar_items[toolbar_ind][1];\n",
       "        var image = mpl.toolbar_items[toolbar_ind][2];\n",
       "        var method_name = mpl.toolbar_items[toolbar_ind][3];\n",
       "\n",
       "        if (!name) { continue; };\n",
       "\n",
       "        var button = $('<button class=\"btn btn-default\" href=\"#\" title=\"' + name + '\"><i class=\"fa ' + image + ' fa-lg\"></i></button>');\n",
       "        button.click(method_name, toolbar_event);\n",
       "        button.mouseover(tooltip, toolbar_mouse_event);\n",
       "        nav_element.append(button);\n",
       "    }\n",
       "\n",
       "    // Add the status bar.\n",
       "    var status_bar = $('<span class=\"mpl-message\" style=\"text-align:right; float: right;\"/>');\n",
       "    nav_element.append(status_bar);\n",
       "    this.message = status_bar[0];\n",
       "\n",
       "    // Add the close button to the window.\n",
       "    var buttongrp = $('<div class=\"btn-group inline pull-right\"></div>');\n",
       "    var button = $('<button class=\"btn btn-mini btn-primary\" href=\"#\" title=\"Stop Interaction\"><i class=\"fa fa-power-off icon-remove icon-large\"></i></button>');\n",
       "    button.click(function (evt) { fig.handle_close(fig, {}); } );\n",
       "    button.mouseover('Stop Interaction', toolbar_mouse_event);\n",
       "    buttongrp.append(button);\n",
       "    var titlebar = this.root.find($('.ui-dialog-titlebar'));\n",
       "    titlebar.prepend(buttongrp);\n",
       "}\n",
       "\n",
       "mpl.figure.prototype._root_extra_style = function(el){\n",
       "    var fig = this\n",
       "    el.on(\"remove\", function(){\n",
       "\tfig.close_ws(fig, {});\n",
       "    });\n",
       "}\n",
       "\n",
       "mpl.figure.prototype._canvas_extra_style = function(el){\n",
       "    // this is important to make the div 'focusable\n",
       "    el.attr('tabindex', 0)\n",
       "    // reach out to IPython and tell the keyboard manager to turn it's self\n",
       "    // off when our div gets focus\n",
       "\n",
       "    // location in version 3\n",
       "    if (IPython.notebook.keyboard_manager) {\n",
       "        IPython.notebook.keyboard_manager.register_events(el);\n",
       "    }\n",
       "    else {\n",
       "        // location in version 2\n",
       "        IPython.keyboard_manager.register_events(el);\n",
       "    }\n",
       "\n",
       "}\n",
       "\n",
       "mpl.figure.prototype._key_event_extra = function(event, name) {\n",
       "    var manager = IPython.notebook.keyboard_manager;\n",
       "    if (!manager)\n",
       "        manager = IPython.keyboard_manager;\n",
       "\n",
       "    // Check for shift+enter\n",
       "    if (event.shiftKey && event.which == 13) {\n",
       "        this.canvas_div.blur();\n",
       "        event.shiftKey = false;\n",
       "        // Send a \"J\" for go to next cell\n",
       "        event.which = 74;\n",
       "        event.keyCode = 74;\n",
       "        manager.command_mode();\n",
       "        manager.handle_keydown(event);\n",
       "    }\n",
       "}\n",
       "\n",
       "mpl.figure.prototype.handle_save = function(fig, msg) {\n",
       "    fig.ondownload(fig, null);\n",
       "}\n",
       "\n",
       "\n",
       "mpl.find_output_cell = function(html_output) {\n",
       "    // Return the cell and output element which can be found *uniquely* in the notebook.\n",
       "    // Note - this is a bit hacky, but it is done because the \"notebook_saving.Notebook\"\n",
       "    // IPython event is triggered only after the cells have been serialised, which for\n",
       "    // our purposes (turning an active figure into a static one), is too late.\n",
       "    var cells = IPython.notebook.get_cells();\n",
       "    var ncells = cells.length;\n",
       "    for (var i=0; i<ncells; i++) {\n",
       "        var cell = cells[i];\n",
       "        if (cell.cell_type === 'code'){\n",
       "            for (var j=0; j<cell.output_area.outputs.length; j++) {\n",
       "                var data = cell.output_area.outputs[j];\n",
       "                if (data.data) {\n",
       "                    // IPython >= 3 moved mimebundle to data attribute of output\n",
       "                    data = data.data;\n",
       "                }\n",
       "                if (data['text/html'] == html_output) {\n",
       "                    return [cell, data, j];\n",
       "                }\n",
       "            }\n",
       "        }\n",
       "    }\n",
       "}\n",
       "\n",
       "// Register the function which deals with the matplotlib target/channel.\n",
       "// The kernel may be null if the page has been refreshed.\n",
       "if (IPython.notebook.kernel != null) {\n",
       "    IPython.notebook.kernel.comm_manager.register_target('matplotlib', mpl.mpl_figure_comm);\n",
       "}\n"
      ],
      "text/plain": [
       "<IPython.core.display.Javascript object>"
      ]
     },
     "metadata": {},
     "output_type": "display_data"
    },
    {
     "data": {
      "text/html": [
       "<img src=\"data:image/png;base64,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\" width=\"640\">"
      ],
      "text/plain": [
       "<IPython.core.display.HTML object>"
      ]
     },
     "metadata": {},
     "output_type": "display_data"
    }
   ],
   "source": [
    "%matplotlib notebook\n",
    "import math\n",
    "import numpy as np\n",
    "from mpl_toolkits.mplot3d import axes3d\n",
    "import matplotlib.pyplot as plt\n",
    "\n",
    "a = 20.0\n",
    "b = 0.2\n",
    "c = 2*math.pi\n",
    "d = 5.7\n",
    "f = 0.8\n",
    "n = 2.0\n",
    "\n",
    "fig = plt.figure()\n",
    "ax = fig.gca(projection='3d')\n",
    "\n",
    "t = np.linspace(-1.5, 1.5, 100)\n",
    "X, Y = np.meshgrid(t, t)\n",
    "Z = np.zeros((100, 100))\n",
    "\n",
    "Z = 1/f * (-a * np.exp(-b * ((1/n)*(X**2 + Y**2))**0.5) - np.exp((1/n)*(np.cos(c*X) + np.cos(c*Y))) + a + np.exp(1) + d)\n",
    "\n",
    "ax.plot_surface(X, Y, Z, rstride=8, cstride=8, alpha=0.3)\n",
    "\n",
    "cset = ax.contour(X, Y, Z, zdir='z', cmap=cm.coolwarm)\n",
    "cset = ax.contour(X, Y, Z, zdir='x', cmap=cm.coolwarm)\n",
    "cset = ax.contour(X, Y, Z, zdir='y', cmap=cm.coolwarm)\n",
    "\n",
    "ax.set_xlabel('X')\n",
    "ax.set_ylabel('Y')\n",
    "ax.set_zlabel('Z')\n",
    "\n",
    "\n",
    "plt.show()"
   ]
  },
  {
   "cell_type": "markdown",
   "metadata": {
    "deletable": false,
    "editable": false,
    "nbgrader": {
     "checksum": "22a892ad8206e6bb4fc40a8269fd2edc",
     "grade": false,
     "grade_id": "cell-299e037cb4bc73bb",
     "locked": true,
     "schema_version": 1,
     "solution": false
    }
   },
   "source": [
    "<div style=\"text-align: right\">&copy; Zakład Inteligencji Obliczeniowej, Instytut Informatyki, Politechnika Krakowska </div>"
   ]
  }
 ],
 "metadata": {
  "kernelspec": {
   "display_name": "Python 3",
   "language": "python",
   "name": "python3"
  },
  "language_info": {
   "codemirror_mode": {
    "name": "ipython",
    "version": 3
   },
   "file_extension": ".py",
   "mimetype": "text/x-python",
   "name": "python",
   "nbconvert_exporter": "python",
   "pygments_lexer": "ipython3",
   "version": "3.6.8"
  }
 },
 "nbformat": 4,
 "nbformat_minor": 2
}
