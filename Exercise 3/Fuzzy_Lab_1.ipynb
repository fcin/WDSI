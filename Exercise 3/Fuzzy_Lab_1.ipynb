{
 "cells": [
  {
   "cell_type": "markdown",
   "metadata": {
    "deletable": false,
    "editable": false,
    "nbgrader": {
     "checksum": "2878447ed9128508318a9c8416f4e7a3",
     "grade": false,
     "grade_id": "cell-982e98d0ad3ab544",
     "locked": true,
     "schema_version": 1,
     "solution": false
    }
   },
   "source": [
    "# Wstęp do Sztucznej Inteligencji - rok akademicki 2018/2019\n",
    "\n",
    "Przed rozpoczęciem pracy z notatnikiem zmień jego nazwę zgodnie z wzorem: `{NrAlbumu}_{Nazwisko}_{Imie}_{PoprzedniaNazwa}`.\n",
    "\n",
    "Przed wysłaniem notatnika upewnij się, że rozwiązałeś wszystkie zadania/ćwiczenia, w szczególności, że uzupełniłeś wszystkie pola `YOUR CODE HERE` oraz `YOUR ANSWER HERE`."
   ]
  },
  {
   "cell_type": "markdown",
   "metadata": {
    "deletable": false,
    "editable": false,
    "nbgrader": {
     "checksum": "89d7bfe7b3a80cac0c45ec59bea45780",
     "grade": false,
     "grade_id": "cell-b38cdddb6477c20d",
     "locked": true,
     "schema_version": 1,
     "solution": false
    }
   },
   "source": [
    "## Temat: Wnioskowanie oparte na wiedzy niepewnej. Wnioskowanie rozmyte\n",
    "Zapoznaj się z treścią niniejszego notatnika czytając i wykonując go komórka po komórce. Wykonaj napotkane zadania/ćwiczenia.\n",
    "\n",
    "### Uwaga:\n",
    "Osoby, które jeszcze tego nie zrobiły, muszą doinstalowac moduł [fuzzython](https://github.com/yudivian/fuzzython). Orginalny moduł zawierał kilka błędów przez co nie dało się go zainstalować za pomocą `pip`. Aby go zainstalować należy pobrać zmodyfikowany moduł `fuzzython.zip` (plik dostępny na elf'ie), rozpakować go do folderu `site-packages` (w przypadku używania Anacondy: PATH\\Anaconda3\\venvs\\wdsienv\\Lib\\site-packages), następnie w terminalu ustawić sie w tym folderze i wykonać komendę:\n",
    "```bash\n",
    "python setup.py install\n",
    "```\n",
    "Należy upewnić się że instalujemy do paython'a z odpowiedniej dystrybucji jeśli mamy ich więcej.\n",
    "\n",
    "Przy importowaniu elementów z modułu `fuzzython` używamy konstrukcji:\n",
    "```python\n",
    "from fuzzython.nazwa_podmodulu import jakies, funkcje, klasy, itp.\n",
    "```\n",
    "\n",
    "### Zbiory rozmyte\n",
    "Zbiory rozmyte pozwalają w sposób usystematyzowany modelować pojęcia nieprecyzyjne, jakimi ludzie posługują się na co dzień. Przykładem może być wyrażenie `wysoka temperatura`, `duża prędkość` czy `młody człowiek`. Również podczas rozumowania i podejmowania decyzji, ludzie wykorzystują takie rozmyte pojęcia. Rozumujemy na przykład: \n",
    "```\n",
    "Jeśli droga jest bardzo kręta i widoczność jest bardzo słaba, należy jechać bardzo powoli.\n",
    "```\n",
    "\n",
    "#### Podstawowe pojęcia\n",
    "__Def. 1.__ _Zbiorem rozmytym $A$_ w niepustej przestrzeni $X$ nazywamy zbiór par:\n",
    "\n",
    "$$ A = \\{(x, \\mu_A(x))\\colon x \\in X\\},$$\n",
    "\n",
    "gdzie funkcja $\\mu_A(x)\\colon X \\to [0, 1]$ jest _funkcją przynależności zbioru rozmytego $A$_.\n",
    "\n",
    "Funkcja $\\mu_A$ każdemu elementowi $x \\in X$ przypisuje jego _stopień przynależności_ do zbioru rozmytego $A$.\n",
    "\n",
    "__Def. 2.__ Zbiór elementów przestrzeni $X$, dla których $\\mu_A(x)>0$ nazywamy _nośnikiem_ zbioru\n",
    "rozmytego $A$ i oznaczamy:\n",
    "\n",
    "$$ supp(A) = \\{x \\in X \\colon \\mu_A(x) > 0\\}.$$\n",
    "\n",
    "__Def. 3.__ _Wysokość_ zbioru rozmytego $A$ określamy jako:\n",
    "\n",
    "$$ height(A) = \\sup\\limits_{x\\in X}\\{\\mu_A(x)\\}.$$\n",
    "\n",
    "#### Podstawowe operacje na zbiorach rozmytych\n",
    "__Def. 4.__ _Dopełnieniem (negacją)_ zbioru rozmytego $A \\subseteq X$ nazywamy zbiór rozmyty $\\neg A$ opisany funkcją przynależności:\n",
    "\n",
    "$$\\mu_{\\neg A}(x) = 1 − \\mu_A(x), \\quad \\forall x \\in X.$$\n",
    "\n",
    "__Def. 5.__ _Sumą_ zbiorów rozmytych $A, B \\subseteq X$ jest zbiór rozmyty $A \\cup B$ o funkcji przynależności opisanej najczęściej wzorem:\n",
    "\n",
    "$$\\mu_{A\\cup B}(x) = \\max\\{\\mu_A(x), \\mu_B(x)\\},\\quad \\forall x \\in X.$$\n",
    "\n",
    "__Def. 6.__ _Przecięciem_ zbiorów rozmytych $A, B \\subseteq X$ jest zbiór rozmyty $A \\cap B$ o funkcji przynależności opisanej najczęściej wzorem:\n",
    "\n",
    "$$ \\mu_{A\\cap B}(x) = \\min\\{\\mu_A(x), \\mu_B(x)\\},\\quad \\forall x \\in X.$$\n",
    "\n",
    "Operacje sumy, przecięcia i dopełnienia zbiorów rozmytych można zdefiniować ogólniej w postaci:\n",
    "\n",
    "$$\\mu_{A\\cup B}(x) = S(\\mu_A(x), \\mu_B(x)),\\quad \\forall x \\in X,$$\n",
    "\n",
    "$$ \\mu_{A\\cap B}(x) = T(\\mu_A(x), \\mu_B(x)),\\quad \\forall x \\in X,$$\n",
    "\n",
    "$$\\mu_{\\neg A}(x) = C(\\mu_A(x)), \\quad \\forall x \\in X.$$\n",
    "\n",
    "gdzie funkcje $S$, $T$ i $C$ są odpowiednio $S$-normą, $T$-normą i $C$-normą."
   ]
  },
  {
   "cell_type": "markdown",
   "metadata": {
    "deletable": false,
    "editable": false,
    "nbgrader": {
     "checksum": "e55f4296afd20b303742a7ac51b23dc2",
     "grade": false,
     "grade_id": "cell-9cb25b633306675d",
     "locked": true,
     "schema_version": 1,
     "solution": false
    }
   },
   "source": [
    "#### Typy zbiorów rozmytych dostępne w module `fuzzython`\n",
    "Obiekty zbiorów rozmytych dostępne są w podmodule `fsets`, niestety każdy typ zdefiniowany jest w osobnym pliku dlatego trzeba importować każdy z osobna. Moduł `fuzzython` nie jest oficjalnym pakietem i niestety zawiera sporo błędów i nie wszystko działa poprawnie. Ograniczymy się więc do następujących funkcji przynależności:\n",
    "\n",
    "- singleton\n",
    "- triangular\n",
    "- trapezoid\n",
    "- gaussian\n",
    "- sfunction\n",
    "- zfunction"
   ]
  },
  {
   "cell_type": "code",
   "execution_count": null,
   "metadata": {},
   "outputs": [],
   "source": [
    "import numpy as np\n",
    "import matplotlib.pyplot as plt\n",
    "\n",
    "# pomocnicza funkcja do rysowania zbiorów rozmytych\n",
    "def plot_fuzzyset(ax, fuzzy_set, x, *args, **kwargs):\n",
    "    y = np.array([fuzzy_set(e) for e in x])\n",
    "    ax.plot(x, y,  *args, **kwargs)\n",
    "    ax.set_ylim(-0.1, 1.1)\n",
    "    ax.legend()"
   ]
  },
  {
   "cell_type": "code",
   "execution_count": null,
   "metadata": {},
   "outputs": [],
   "source": [
    "from fuzzython.fsets.singleton import Singleton\n",
    "from fuzzython.fsets.triangular import Triangular\n",
    "from fuzzython.fsets.trapezoid import Trapezoid\n",
    "from fuzzython.fsets.gaussian import Gaussian\n",
    "from fuzzython.fsets.pifunction import PiFunction\n",
    "from fuzzython.fsets.zfunction import ZFunction\n",
    "from fuzzython.fsets.sfunction import SFunction\n",
    "\n",
    "A = Singleton(5.0)\n",
    "# zbiór rozmyty o trójkątnej funkcji przynależności (podajemy współrzędne wierzchołków)\n",
    "B = Triangular((0,0), (5,1), (10,0))\n",
    "# zbiór rozmyty o trapezoidalnej funkcji przynależności (podajemy współrzędne wierzchołków)\n",
    "C = Trapezoid((0,0), (3,1), (7,1), (10,0))\n",
    "# zbiór rozmyty o gaussowskiej funkcji przynależności (podajemy mean i std)\n",
    "D = Gaussian(5, 1.5)\n",
    "# zbiór rozmyty o funkcji przynależności typu S (podajemy punkt dla 0, punkt przegięcia i punkt dla 1)\n",
    "E = SFunction((5,0), 7.5, (10,1))\n",
    "# zbiór rozmyty o funkcji przynależności typu Z (podajemy punkt dla 1, punkt przegięcia i punkt dla 0)\n",
    "# w module jest błąd i trzeba podać odwrotnie drugie współrzędne\n",
    "F = ZFunction((0,0), 2.5, (5,1))\n",
    "\n",
    "# wykresy poglądowe\n",
    "x = np.round(np.linspace(-1,11,2000),2)\n",
    "fig, axs = plt.subplots(nrows=3, ncols=2, figsize=(10,5))\n",
    "((ax1, ax2), (ax3, ax4), (ax5, ax6)) = axs\n",
    "plot_fuzzyset(ax1, A, x, 'k', label='Singleton')\n",
    "plot_fuzzyset(ax2, B, x, 'k', label='Triangular')\n",
    "plot_fuzzyset(ax3, C, x, 'k', label='Trapezoid')\n",
    "plot_fuzzyset(ax4, D, x, 'k', label='Gaussian')\n",
    "plot_fuzzyset(ax5, E, x, 'k', label='SFunction')\n",
    "plot_fuzzyset(ax6, F, x, 'k', label='ZFunction')\n",
    "plt.show()"
   ]
  },
  {
   "cell_type": "markdown",
   "metadata": {
    "deletable": false,
    "editable": false,
    "nbgrader": {
     "checksum": "2e9c1cbc51ad78f123bfb7fc247dbd31",
     "grade": false,
     "grade_id": "cell-ff03b2e0f4f4104b",
     "locked": true,
     "schema_version": 1,
     "solution": false
    }
   },
   "source": [
    "#### S-normy, T-normy i C-normy dostępne w module `fuzzython`\n",
    "Obiekt zbioru rozmytego posiada metody `union`, `intersect` oraz `complement`, które zależą od przyjętych norm dla operacji odpowiednio sumy, przecięcia i dopełnienia. Różne definicje operacji sumy ($S$-normy), przecięcia ($T$-normy) i dopełnienia ($C$-normy) dostępne są w podmodule `norms`."
   ]
  },
  {
   "cell_type": "code",
   "execution_count": null,
   "metadata": {},
   "outputs": [],
   "source": [
    "from fuzzython.norms import norms\n",
    "\n",
    "A = Triangular((0,0), (3,1), (6,0))\n",
    "B = Triangular((4,0), (7,1), (10,0))\n",
    "C = A.union(B, snorm=norms.maximum)\n",
    "D = A.union(B, snorm=norms.algebraic_sum)\n",
    "E = A.intersect(B, tnorm=norms.minimum)\n",
    "F = A.intersect(B, tnorm=norms.algebraic_product)\n",
    "G = A.complement(cnorm=norms.zadeh_complement)\n",
    "H = B.complement(cnorm=norms.zadeh_complement)\n",
    "\n",
    "# wykresy poglądowe\n",
    "x = np.linspace(-1,11,1000)\n",
    "fig, axs = plt.subplots(nrows=3, ncols=3, figsize=(12,8))\n",
    "((ax1, ax2, ax3), (ax4, ax5, ax6), (ax7, ax8, ax9)) = axs\n",
    "plot_fuzzyset(ax1, A, x, 'r', label='A')\n",
    "plot_fuzzyset(ax1, B, x, 'b', label='B')\n",
    "plot_fuzzyset(ax2, C, x, 'k', label='max')\n",
    "plot_fuzzyset(ax3, D, x, 'k', label='asum')\n",
    "plot_fuzzyset(ax4, A, x, 'r', label='A')\n",
    "plot_fuzzyset(ax4, B, x, 'b', label='B')\n",
    "plot_fuzzyset(ax5, E, x, 'k', label='min')\n",
    "plot_fuzzyset(ax6, F, x, 'k', label='aprod')\n",
    "plot_fuzzyset(ax7, A, x, 'r', label='A')\n",
    "plot_fuzzyset(ax7, B, x, 'b', label='B')\n",
    "plot_fuzzyset(ax8, G, x, 'k', label='Zadeh A')\n",
    "plot_fuzzyset(ax9, H, x, 'k', label='Zadeh B')\n",
    "plt.show()"
   ]
  },
  {
   "cell_type": "markdown",
   "metadata": {
    "deletable": false,
    "editable": false,
    "nbgrader": {
     "checksum": "3cd1ef94d3fb6321da8f0a868328de32",
     "grade": false,
     "grade_id": "cell-2646613b30b5a490",
     "locked": true,
     "schema_version": 1,
     "solution": false
    }
   },
   "source": [
    "### Wnioskowanie rozmyte\n",
    "#### Wiadomości wstępne\n",
    "W klasycznej logice operujemy na zdaniach logicznych, które mogą być prawdziwe lub fałszywe i nie przyjmują stanów pośrednich. Jedną z reguł wnioskowania klasycznej logiki jest reguła _modus ponens_:\n",
    "\n",
    "$$ \\frac{A, A \\to B}{B}$$\n",
    "\n",
    "Z prawdziwości implikacji wiadomo, że zawsze ilekroć zachodzi $A$ ($A$ przyjmuje wartość „prawda”) to zachodzi również $B$. Skoro więc w pewnej konkretnej sytuacji zachodzi $A$, to możemy być pewni ze zachodzi również $B$.\n",
    "\n",
    "W logice rozmytej zamiast zdaniami, przyjmującymi wartość prawda lub fałsz, posługujemy się zmiennymi lingwistycznymi, które przyjmują jako wartości nieprecyzyjne (wartości lingwistyczne) pojęcia języka mówionego, takie jak „mały”, „średni”, „duży”. Przykładowo, „temperatura” może być zmienną lingwistyczna i przyjmować wartości nieprecyzyjne „mała”, średnia”, „wysoka”. Te nieprecyzyjne pojęcia, jak wiadomo, można modelować za pomocą odpowiednich zbiorów rozmytych.\n",
    "\n",
    "Zbiór reguł wnioskowania rozmytego przyjmuje postać:\n",
    "\n",
    "$$ \\textbf{Jeśli } x_1 \\text{ jest } A_1^1 \\text{ i } x_2 \\text{ jest } A_2^1 \\text{ i } \\ldots \\text{ i } x_n \\text{ jest } A_n^1 \\textbf{ to } y \\text{ jest } B^1$$\n",
    "\n",
    "$$ \\ldots $$\n",
    "\n",
    "$$ \\textbf{Jeśli } x_1 \\text{ jest } A_1^M \\text{ i } x_2 \\text{ jest } A_2^M \\text{ i } \\ldots \\text{ i } x_n \\text{ jest } A_n^M \\textbf{ to } y \\text{ jest } B^M$$\n",
    "\n",
    "$x_i$ oraz $y$ to zmienne lingwistyczne, $A_j^i$ oraz $B^i$ to wartości tych zmiennych lingwistycznych określone przez odpowiednie zbiory rozmyte. Górny indeks oznacza numer reguły, dolny numer zmiennej lingwistycznej. Rodzaj funkcji określającej funkcje przynależności danego zbioru rozmytego jak również jej współczynniki, mają duży wpływ na działanie modelu.\n",
    "\n",
    "Odpowiednikiem rozumowania _modus ponens_ w logice rozmytej będzie następująca reguła:\n",
    "\n",
    "$$\\frac{x \\text{ jest } A', A \\to B}{y \\text{ jest } B'}$$\n",
    "\n",
    "W tym przypadku $x$ i $y$ to zmienne lingwistyczne a $A$, $A'$, $B$, $B'$ to zbiory rozmyte. Najważniejszą rzeczą, którą warto zauważyć w powyższej regule to fakt, że zbiór $A'$ występujący w przesłance wcale nie jest identyczny ze zbiorem rozmytym $A$ występującym w rozmytej implikacji. Podobnie zbiór $B'$ nie jest równy zbiorowi $B$. Pozwala to na pewną elastyczność. Jeśli bowiem zbiór $A'$ określa podobną sytuację jak zbiór $A$, to możemy się spodziewać, że zbiór $B'$ powinien być zbliżony znaczeniowo (lingwistycznie) do zbioru $B$.\n",
    "\n",
    "Ilustruje to następujący przykład:\n",
    "\n",
    "Mamy regułę rozmytą:\n",
    "```\n",
    "Jeśli prędkość samochodu jest bardzo duża, to poziom hałasu jest wysoki.\n",
    "```\n",
    "\n",
    "Przesłanka mówi natomiast:\n",
    "```\n",
    "Prędkość samochodu jest duża.\n",
    "```\n",
    "\n",
    "Widać zatem, że wartość lingwistyczna „bardzo duża” nie jest tożsama z wartością „duża”. Jednak z ich podobieństwa wynika, że powinniśmy oczekiwać podobnego wniosku jak w regule, przykładowo:\n",
    "```\n",
    "Poziom hałasu jest średnio wysoki.\n",
    "```\n",
    "\n",
    "Skoro więc ludzie posługując się nieprecyzyjnymi pojęciami i regułami rozmytymi, potrafią radzić sobie z szeregiem skomplikowanych zadań, istnieje praktyczna potrzeba symulowania takiego rodzaju rozumowania. W ten sposób powstały sterowniki rozmyte.\n",
    "\n",
    "#### Realizacja rozmytej implikacji\n",
    "Reguła rozmyta typu $(A \\to B)$, gdzie $A$ oraz $B$ są zbiorami rozmytymi, to rozmyta implikacja i może być zrealizowana na wiele sposobów. Dwa z popularnych sposobów jej realizacji to reguła minimum oraz iloczynu.\n",
    "\n",
    "Jeśli zbiory $A$ i $B$ mają funkcje przynależności odpowiednio $\\mu_A(x)$ oraz $\\mu_B(y)$ to rozmyta implikacja $(A \\to B)$ jest zbiorem rozmytym o funkcji przynależności określonej przez jedną z reguł, przykładowo:\n",
    "\n",
    "1. reguła typu minimum: $\\mu_{A\\to B}(x, y) = \\min\\{\\mu_A(x), \\mu_B(y)\\}$,\n",
    "\n",
    "2. reguła typu iloczyn: $\\mu_{A\\to B}(x, y) = \\mu_A(x)\\cdot\\mu_B(y)$.\n",
    "\n",
    "#### Realizacja rozmytego wnioskowania\n",
    "W logice rozmytej wnioskowanie realizuje się przez złożenie rozmytego zbioru $A'$ oraz rozmytej implikacji $(A\\to B)$. W wyniku złożenia otrzymamy zbiór rozmyty $B'$, który stanowi wniosek.\n",
    "\n",
    "$$B' = A'\\circ(A \\to B).$$\n",
    "\n",
    "Złożenie to realizowane jest następująco:\n",
    "\n",
    "$$ \\mu_{B'}(y) = \\sup\\limits_{x\\in X}\\{T(\\mu_{A'}(x), \\mu_{A\\to B}(x, y))\\},$$\n",
    "\n",
    "gdzie $T$ oznacza pewna $T$-normę. Jeśli przykładowo $T$-norma jest typu $\\min$, otrzymuje się:\n",
    "\n",
    "$$\\mu_{B'}(y) = \\sup\\limits_{x\\in X}\\{\\min\\{\\mu_{A'}(x), \\mu_{A\\to B}(x, y)\\}\\}.$$\n",
    "\n",
    "#### Klasyczny sterownik rozmyty\n",
    "Klasyczny sterownik rozmyty składa się z trzech części:\n",
    "\n",
    "1. Bloku rozmywania (fuzyfikacji).\n",
    "\n",
    "2. Bloku wnioskowania (inferencji) wraz z baza reguł.\n",
    "\n",
    "3. Bloku wyostrzania.\n",
    "\n",
    "#### Rodzaje modeli rozmytych\n",
    "Najbardziej popularnymi rodzajami modeli rozmytych są:\n",
    "\n",
    "__Model Mamdaniego__, gdzie reguły rozmyte maja postać:\n",
    "\n",
    "$$ \\textbf{Jeśli } x \\text{ jest } A \\textbf{ to } y \\text{ jest } B,$$\n",
    "\n",
    "gdzie $A$ i $B$ to zbiory rozmyte.\n",
    "\n",
    "__Model Takagi–Sugeno__, gdzie reguły rozmyte maja postać:\n",
    "\n",
    "$$ \\textbf{Jeśli } x \\text{ jest } A \\textbf{ to } y=f(x),$$\n",
    "\n",
    "gdzie tylko $A$ jest zbiorem rozmytym, natomiast $y$ jest określany za pomocą pewnej funkcji $f$."
   ]
  },
  {
   "cell_type": "markdown",
   "metadata": {
    "deletable": false,
    "editable": false,
    "nbgrader": {
     "checksum": "8c1564e83233b191d01610a56dc95e65",
     "grade": false,
     "grade_id": "cell-894a6dafb4bf852c",
     "locked": true,
     "schema_version": 1,
     "solution": false
    }
   },
   "source": [
    "#### Operatory wyostrzania dostępne w module `fuzzython`\n",
    "Operatory wyostrzania to odwzorowania, które zbiorowi rozmytemu przyporządkowują pewną liczbę ostrą (liczbę rzeczywistą).\n",
    "\n",
    "W module `fuzzython` każdy obiekt zbioru rozmytego wyposażony jest w metody wyostrzania takie jak:\n",
    "\n",
    "- `COG` - środek ciężkości (center of gravity)\n",
    "- `COA` - środek obszaru (center of area)\n",
    "- `CM` - środek maksimów (center of maximum)\n",
    "- `MM` - średnia z maksimów (mean of maximum)\n",
    "- `LM` - lewe (pierwsze) maksimum (left maximum)\n",
    "- `RM` - prawe (ostatnie) maksimum (right maximum)\n",
    "\n",
    "__Uwaga:__ Dla bezpieczeństwa (z powodu pojawiających się błędów) lepiej korzystać z operatorów wyostrzania zdefiniowanych w klasie nadrzędnej `FuzzySet`, jak poniżej w przykładzie."
   ]
  },
  {
   "cell_type": "code",
   "execution_count": null,
   "metadata": {},
   "outputs": [],
   "source": [
    "from fuzzython.fsets.fuzzy_set import FuzzySet\n",
    "\n",
    "A = Trapezoid((0,0), (1,1), (3,1), (8,0))\n",
    "B = Trapezoid((5,0), (6,1), (7,1), (10,0))\n",
    "C = A.union(B, snorm=norms.algebraic_sum)\n",
    "\n",
    "cog = FuzzySet.COG(C)\n",
    "coa = FuzzySet.COA(C)\n",
    "cm = FuzzySet.CM(C)\n",
    "mm = FuzzySet.MM(C)\n",
    "lm = FuzzySet.LM(C)\n",
    "rm = FuzzySet.RM(C)\n",
    "\n",
    "# wykresy poglądowe\n",
    "x = np.linspace(-1,11,1000)\n",
    "fig, ax = plt.subplots(figsize=(10,5))\n",
    "plot_fuzzyset(ax, C, x, 'k', label='C')\n",
    "ax.axvline(x=cog, c='b', label='COG')\n",
    "ax.axvline(x=coa, c='r', label='COA')\n",
    "ax.axvline(x=cm, c='g', label='CM')\n",
    "ax.axvline(x=mm, c='m', label='MM')\n",
    "ax.axvline(x=lm, c='y', label='LM')\n",
    "ax.axvline(x=rm, c='c', label='RM')\n",
    "plt.legend()\n",
    "plt.show()"
   ]
  },
  {
   "cell_type": "markdown",
   "metadata": {
    "deletable": false,
    "editable": false,
    "nbgrader": {
     "checksum": "389e454459804fedfee748e3f863522b",
     "grade": false,
     "grade_id": "cell-68f17a01d0d97b34",
     "locked": true,
     "schema_version": 1,
     "solution": false
    }
   },
   "source": [
    "### Przykład: Model Mamdaniego: Decydujemy o wysokości napiwku\n",
    "#### Definiowanie zmiennych lingwistycznych"
   ]
  },
  {
   "cell_type": "code",
   "execution_count": null,
   "metadata": {},
   "outputs": [],
   "source": [
    "# prosty przykład z użyciem trójkątnych zbiorów rozmytych\n",
    "from fuzzython.fsets.triangular import Triangular\n",
    "# klasa Variable - zmienna lingwistyczna\n",
    "from fuzzython.variable import Variable\n",
    "# klasa Adjective - wartość zmiennej lingwistycznej\n",
    "from fuzzython.adjective import Adjective\n",
    "\n",
    "# zmienna lingwistyczna `quality` opisująca jakość jedenia w skali od 0 do 10 gwiazdek (star)\n",
    "# trzy wartości lingwistyczne, trójkątne zbiory rozmyte: `q_poor`, `q_average`, `q_good`\n",
    "\n",
    "q_poor = Triangular((-0.1,0), (0,1), (5,0))\n",
    "q_average = Triangular((0,0), (5,1), (10,0))\n",
    "q_good = Triangular((5,0), (10,1), (10.1,0))\n",
    "a_q_poor = Adjective('q_poor', q_poor)\n",
    "a_q_average = Adjective('q_average', q_average)\n",
    "a_q_good = Adjective('q_good', q_good)\n",
    "quality = Variable('quality', 'star', a_q_poor, a_q_average, a_q_good)\n",
    "\n",
    "# zmienna lingwistyczna `service` opisująca jakość obsługi w skali od 0 do 10 gwiazdek (star)\n",
    "# trzy wartości lingwistyczne, trójkątne zbiory rozmyte: `s_poor`, `s_average`, `s_good`\n",
    "\n",
    "s_poor = Triangular((-0.1,0), (0,1), (5,0))\n",
    "s_average = Triangular((0,0), (5,1), (10,0))\n",
    "s_good = Triangular((5,0), (10,1), (10.1,0))\n",
    "a_s_poor = Adjective('s_poor', s_poor)\n",
    "a_s_average = Adjective('s_average', s_average)\n",
    "a_s_good = Adjective('s_good', s_good)\n",
    "service = Variable('service', 'star', a_s_poor, a_s_average, a_s_good)\n",
    "\n",
    "# zmienna lingwistyczna `tip` opisująca jwysokość napiwku w skali od 0 do 25 procent (%)\n",
    "# trzy wartości lingwistyczne, trójkątne zbiory rozmyte: `t_low`, `t_medium`, `t_high`\n",
    "\n",
    "t_low = Triangular((-0.1,0), (0,1), (13,0))\n",
    "t_medium = Triangular((0,0), (13,1), (25,0))\n",
    "t_high = Triangular((13,0), (25,1), (25.1,0))\n",
    "a_t_low = Adjective('t_low', t_low)\n",
    "a_t_medium = Adjective('t_medium', t_medium)\n",
    "a_t_high = Adjective('t_high', t_high)\n",
    "tip = Variable('tip', '%', a_t_low, a_t_medium, a_t_high, defuzzification='COG', default=0)\n",
    "\n",
    "# wykresy poglądowe\n",
    "x = np.linspace(0,10,1000)\n",
    "x2 = np.linspace(0,25,1000)\n",
    "fig, axs = plt.subplots(nrows=3, ncols=1, figsize=(12,8))\n",
    "((ax1), (ax2), (ax3)) = axs\n",
    "plot_fuzzyset(ax1, q_poor, x, 'b', label='q_poor')\n",
    "plot_fuzzyset(ax1, q_average, x, 'g', label='q_average')\n",
    "plot_fuzzyset(ax1, q_good, x, 'r', label='q_good')\n",
    "plot_fuzzyset(ax2, s_poor, x, 'b', label='s_poor')\n",
    "plot_fuzzyset(ax2, s_average, x, 'g', label='s_average')\n",
    "plot_fuzzyset(ax2, s_good, x, 'r', label='s_good')\n",
    "plot_fuzzyset(ax3, t_low, x2, 'b', label='t_low')\n",
    "plot_fuzzyset(ax3, t_medium, x2, 'g', label='t_medium')\n",
    "plot_fuzzyset(ax3, t_high, x2, 'r', label='t_high')\n",
    "plt.show()"
   ]
  },
  {
   "cell_type": "markdown",
   "metadata": {
    "deletable": false,
    "editable": false,
    "nbgrader": {
     "checksum": "bf9728b2ac0fc6fa965f5b76fc214705",
     "grade": false,
     "grade_id": "cell-b02396eb9116b89e",
     "locked": true,
     "schema_version": 1,
     "solution": false
    }
   },
   "source": [
    "#### Definiowanie reguł"
   ]
  },
  {
   "cell_type": "code",
   "execution_count": null,
   "metadata": {},
   "outputs": [],
   "source": [
    "from fuzzython.ruleblock import RuleBlock\n",
    "\n",
    "scope = locals()\n",
    "\n",
    "rule1 = 'if quality is a_q_poor or service is a_s_poor then tip is a_t_low'\n",
    "rule2 = 'if quality is a_q_average then tip is a_t_medium'\n",
    "rule3 = 'if quality is a_q_good or service is a_s_good then tip is a_t_high'\n",
    "\n",
    "# operators - operatory dla przecięcia, sumy i dopełnienia zbiorów rozmytych\n",
    "# activation - operator dla implikacji\n",
    "# accumulation - aperator dla agregacji reguł\n",
    "block = RuleBlock('rb_mamdani', operators=('MIN','MAX','ZADEH'), activation='MIN', accumulation='MAX')\n",
    "block.add_rules(rule1, rule2, rule3, scope=scope)"
   ]
  },
  {
   "cell_type": "markdown",
   "metadata": {
    "deletable": false,
    "editable": false,
    "nbgrader": {
     "checksum": "3050bb135c0ff9b6606290b40d2f7f39",
     "grade": false,
     "grade_id": "cell-7af9b96ef068b3a0",
     "locked": true,
     "schema_version": 1,
     "solution": false
    }
   },
   "source": [
    "#### Stworzenie sterownika rozmytego typu Mamdani "
   ]
  },
  {
   "cell_type": "code",
   "execution_count": null,
   "metadata": {},
   "outputs": [],
   "source": [
    "from fuzzython.systems.mamdani import MamdaniSystem\n",
    "\n",
    "mamdani = MamdaniSystem('mamdani_model', block)"
   ]
  },
  {
   "cell_type": "markdown",
   "metadata": {
    "deletable": false,
    "editable": false,
    "nbgrader": {
     "checksum": "c1f6f4f54d887d06b86b2e8bcc9029f6",
     "grade": false,
     "grade_id": "cell-b9ab5dda5c68a635",
     "locked": true,
     "schema_version": 1,
     "solution": false
    }
   },
   "source": [
    "#### Wnioskowanie z użyciem modelu Mamdani"
   ]
  },
  {
   "cell_type": "code",
   "execution_count": null,
   "metadata": {},
   "outputs": [],
   "source": [
    "# dane wejściowe\n",
    "inputs = {'quality': 6, 'service': 9} #tak naprawdę to można podać liczby rzeczywiste od 0 do 10\n",
    "# obliczenie odpowiedzi\n",
    "res = mamdani.compute(inputs)\n",
    "#zwraca słownik\n",
    "res"
   ]
  },
  {
   "cell_type": "markdown",
   "metadata": {
    "deletable": false,
    "editable": false,
    "nbgrader": {
     "checksum": "281960ed3fc06b08f9f87463a92e91e6",
     "grade": false,
     "grade_id": "cell-0410f3cc39926f18",
     "locked": true,
     "schema_version": 1,
     "solution": false
    }
   },
   "source": [
    "#### Wykres powierzchni decyzyjnej"
   ]
  },
  {
   "cell_type": "code",
   "execution_count": null,
   "metadata": {},
   "outputs": [],
   "source": [
    "from mpl_toolkits.mplot3d import Axes3D  # Required for 3D plotting\n",
    "\n",
    "# przygotowanie siatki\n",
    "sampled = np.linspace(0, 10, 20)\n",
    "x, y = np.meshgrid(sampled, sampled)\n",
    "z = np.zeros((len(sampled),len(sampled)))\n",
    "\n",
    "for i in range(len(sampled)):\n",
    "    for j in range(len(sampled)):\n",
    "        inputs = {'quality': x[i, j], 'service': y[i, j]}\n",
    "        res = mamdani.compute(inputs)\n",
    "        z[i, j] = res['rb_mamdani']['tip']\n",
    "            \n",
    "fig = plt.figure(figsize=(10,8))\n",
    "ax = fig.add_subplot(111, projection='3d')\n",
    "surf = ax.plot_surface(x, y, z, rstride=1, cstride=1, cmap='viridis', linewidth=0.4, antialiased=True)\n",
    "cset = ax.contourf(x, y, z, zdir='z', offset= -1, cmap='viridis', alpha=0.5)\n",
    "cset = ax.contourf(x, y, z, zdir='x', offset= 11, cmap='viridis', alpha=0.5)\n",
    "cset = ax.contourf(x, y, z, zdir='y', offset= 11, cmap='viridis', alpha=0.5)\n",
    "ax.set_xlabel('quality')\n",
    "ax.set_ylabel('service')\n",
    "ax.set_zlabel('tip')\n",
    "ax.view_init(30, 200)"
   ]
  },
  {
   "cell_type": "markdown",
   "metadata": {
    "deletable": false,
    "editable": false,
    "nbgrader": {
     "checksum": "e1c397b4ef282bdc25760bed672f29c9",
     "grade": false,
     "grade_id": "cell-bc52bc66fd87544e",
     "locked": true,
     "schema_version": 1,
     "solution": false
    }
   },
   "source": [
    "### Przykład: Model Takagi-Sugeno: Decydujemy o wysokości napiwku\n",
    "\n",
    "#### Zmienne i wartości lingwistyczne dokładnie takie same jak w modelu Mamdaniego\n",
    "\n",
    "#### Definiowanie reguł"
   ]
  },
  {
   "cell_type": "code",
   "execution_count": null,
   "metadata": {},
   "outputs": [],
   "source": [
    "rule4 = 'if quality is a_q_poor or service is a_s_poor then z=quality*0.5+service*0.5'\n",
    "rule5 = 'if quality is a_q_average then z=quality*0.7+5'\n",
    "rule6 = 'if quality is a_q_good or service is a_s_good then z=quality*0.4+service*0.6+15'\n",
    "\n",
    "block = RuleBlock('rb_takagi', operators=('MIN', 'MAX', 'ZADEH'), activation='MIN', accumulation='MAX')\n",
    "block.add_rules(rule4, rule5, rule6, scope=scope)"
   ]
  },
  {
   "cell_type": "markdown",
   "metadata": {
    "deletable": false,
    "editable": false,
    "nbgrader": {
     "checksum": "17f83ef949ea20c2e9309177cf3d5e1c",
     "grade": false,
     "grade_id": "cell-202e19a90e991605",
     "locked": true,
     "schema_version": 1,
     "solution": false
    }
   },
   "source": [
    "#### Stworzenie sterownika rozmytego typu Takagi-Sugeno"
   ]
  },
  {
   "cell_type": "code",
   "execution_count": null,
   "metadata": {},
   "outputs": [],
   "source": [
    "from fuzzython.systems.sugeno import SugenoSystem\n",
    "\n",
    "sugeno = SugenoSystem('model_takagi', block)"
   ]
  },
  {
   "cell_type": "markdown",
   "metadata": {
    "deletable": false,
    "editable": false,
    "nbgrader": {
     "checksum": "e3aeb06950a9853488712b94e28d107b",
     "grade": false,
     "grade_id": "cell-59d2e81c7716e457",
     "locked": true,
     "schema_version": 1,
     "solution": false
    }
   },
   "source": [
    "#### Wnioskowanie z użyciem modelu Takagi-Sugeno"
   ]
  },
  {
   "cell_type": "code",
   "execution_count": null,
   "metadata": {},
   "outputs": [],
   "source": [
    "# dane wejściowe\n",
    "inputs = {'quality': 6, 'service': 9}\n",
    "# obliczenie odpowiedzi\n",
    "res = sugeno.compute(inputs)\n",
    "# zwraca słownik, trochę inaczej niż w mamdani\n",
    "res"
   ]
  },
  {
   "cell_type": "markdown",
   "metadata": {
    "deletable": false,
    "editable": false,
    "nbgrader": {
     "checksum": "79c803716a861e56b0727b175a6740a5",
     "grade": false,
     "grade_id": "cell-1ab7a62df125e184",
     "locked": true,
     "schema_version": 1,
     "solution": false
    }
   },
   "source": [
    "#### Wykres powierzchni decyzyjnej"
   ]
  },
  {
   "cell_type": "code",
   "execution_count": null,
   "metadata": {},
   "outputs": [],
   "source": [
    "from mpl_toolkits.mplot3d import Axes3D  # Required for 3D plotting\n",
    "\n",
    "# przygotowanie siatki\n",
    "sampled = np.linspace(0, 10, 20)\n",
    "x, y = np.meshgrid(sampled, sampled)\n",
    "z = np.zeros((len(sampled),len(sampled)))\n",
    "\n",
    "for i in range(len(sampled)):\n",
    "    for j in range(len(sampled)):\n",
    "        inputs = {'quality': x[i, j], 'service': y[i, j]}\n",
    "        res = sugeno.compute(inputs)\n",
    "        z[i, j] = res['rb_takagi']\n",
    "            \n",
    "fig = plt.figure(figsize=(10,8))\n",
    "ax = fig.add_subplot(111, projection='3d')\n",
    "surf = ax.plot_surface(x, y, z, rstride=1, cstride=1, cmap='viridis', linewidth=0.4, antialiased=True)\n",
    "cset = ax.contourf(x, y, z, zdir='z', offset= -1, cmap='viridis', alpha=0.5)\n",
    "cset = ax.contourf(x, y, z, zdir='x', offset= 11, cmap='viridis', alpha=0.5)\n",
    "cset = ax.contourf(x, y, z, zdir='y', offset= 11, cmap='viridis', alpha=0.5)\n",
    "ax.set_xlabel('quality')\n",
    "ax.set_ylabel('service')\n",
    "ax.set_zlabel('tip')\n",
    "ax.view_init(30, 200)"
   ]
  },
  {
   "cell_type": "markdown",
   "metadata": {
    "deletable": false,
    "editable": false,
    "nbgrader": {
     "checksum": "e9fb993bd80c16bf07f4672db4de1fe6",
     "grade": false,
     "grade_id": "cell-478c34f8539337b5",
     "locked": true,
     "schema_version": 1,
     "solution": false
    }
   },
   "source": [
    "## Zadanie 1 (10pkt.):\n",
    "Zaprojektuj system rozmyty typu Mamdani, który będzie oceniał stopień przekonania o możliwości spowodowania wypadku podczas jazdy samochodem.\n",
    "\n",
    "Zmienne wejściowe: \n",
    "\n",
    "- prędkość jazdy (10 − 200km/h ): `mała`, `średnia`, `szybka`, `bardzo szybka` \n",
    "- widoczność (0.05 − 4km): `bardzo słaba`, `średnia`, `dobra`. \n",
    "\n",
    "Wyjście systemu: \n",
    "\n",
    "- stopień przekonania o możliwości spowodowania wypadku (0 − 1): `bardzo małe`, `małe`, `średnie`, `duże`.\n",
    "\n",
    "Zdefiniuj własne kształty dla zbiorów rozmytych, stwórz własne reguły oraz przygotuj wykresy ilustrujące funkcje przynależności zbiorów rozmytych jak również powierzchnię decyzyjną sterownika rozmytego."
   ]
  },
  {
   "cell_type": "markdown",
   "metadata": {
    "deletable": false,
    "editable": false,
    "nbgrader": {
     "checksum": "27b9966b8252d332f0519bfaa07702c8",
     "grade": false,
     "grade_id": "cell-1c083c9fd3c0e938",
     "locked": true,
     "schema_version": 1,
     "solution": false
    }
   },
   "source": [
    "#### TWÓJ PROGRAM:"
   ]
  },
  {
   "cell_type": "code",
   "execution_count": null,
   "metadata": {
    "deletable": false,
    "nbgrader": {
     "checksum": "066db63bc32a3e67d87a6b4d309b8815",
     "grade": true,
     "grade_id": "cell-0424ca2047fe3434",
     "locked": false,
     "points": 10,
     "schema_version": 1,
     "solution": true
    }
   },
   "outputs": [],
   "source": [
    "# YOUR CODE HERE\n",
    "raise NotImplementedError()"
   ]
  },
  {
   "cell_type": "markdown",
   "metadata": {
    "deletable": false,
    "editable": false,
    "nbgrader": {
     "checksum": "6304c1d81bc681a9cfea825770101db3",
     "grade": false,
     "grade_id": "cell-356b888b8d31f782",
     "locked": true,
     "schema_version": 1,
     "solution": false
    }
   },
   "source": [
    "## Zadanie 2 (10pkt.):\n",
    "Zaprojektuj system rozmyty typu Takagi-Sugeno, który będzie prognozował cenę akcji na jeden dzień do przodu.\n",
    "\n",
    "Zmienne wejściowe: \n",
    "\n",
    "- cena akcji wczoraj (1 − 20zł): `niska`, `średnia`, `wysoka`, \n",
    "\n",
    "- cena akcji dziś (1 − 20zł): `niska`, `średnia`, `wysoka`. \n",
    "\n",
    "Wyjście systemu: \n",
    "\n",
    "- cena akcji jutro dana równaniem regresji: $\\alpha\\cdot x + \\beta\\cdot y + \\gamma$\n",
    "\n",
    "Reguły postaci:\n",
    "\n",
    "- Jeśli cena akcji wczoraj była $A_i$ i cena akcji dziś jest $B_i$ to cena akcji jutro będzie $\\alpha_k\\cdot x + \\beta_k\\cdot y + \\gamma_k$,\n",
    "\n",
    "gdzie:\n",
    "\n",
    "- $x$ to cena akcji wczoraj (ostra wartość)\n",
    "\n",
    "- $y$ to cena akcji dziś (ostra wartość)\n",
    "\n",
    "- $A_i, B_i$ to zbiory rozmyte odpowiednio dla ceny akcji wczoraj i dziś\n",
    "\n",
    "- $\\alpha_k, \\beta_k, \\gamma_k$ - współczynniki w równaniu regresji (liczby rzeczywiste)\n",
    "\n",
    "- $k$ - numer reguły\n",
    "\n",
    "Zdefiniuj własne kształty dla zbiorów rozmytych, stwórz własne reguły (dobór współczynników regresji) oraz przygotuj wykresy ilustrujące funkcje przynależności zbiorów rozmytych jak również powierzchnię decyzyjną sterownika rozmytego."
   ]
  },
  {
   "cell_type": "markdown",
   "metadata": {
    "deletable": false,
    "editable": false,
    "nbgrader": {
     "checksum": "5735540c995c6f04fd930e003bb7fa02",
     "grade": false,
     "grade_id": "cell-f294b731bcc07be7",
     "locked": true,
     "schema_version": 1,
     "solution": false
    }
   },
   "source": [
    "#### TWÓJ PROGRAM:"
   ]
  },
  {
   "cell_type": "code",
   "execution_count": null,
   "metadata": {
    "deletable": false,
    "nbgrader": {
     "checksum": "8532e6c3a6343bc69f6f99b89c35dc3c",
     "grade": true,
     "grade_id": "cell-1f72c3bddb8013ae",
     "locked": false,
     "points": 10,
     "schema_version": 1,
     "solution": true
    }
   },
   "outputs": [],
   "source": [
    "# YOUR CODE HERE\n",
    "raise NotImplementedError()"
   ]
  },
  {
   "cell_type": "markdown",
   "metadata": {
    "deletable": false,
    "editable": false,
    "nbgrader": {
     "checksum": "22a892ad8206e6bb4fc40a8269fd2edc",
     "grade": false,
     "grade_id": "cell-299e037cb4bc73bb",
     "locked": true,
     "schema_version": 1,
     "solution": false
    }
   },
   "source": [
    "<div style=\"text-align: right\">&copy; Zakład Inteligencji Obliczeniowej, Instytut Informatyki, Politechnika Krakowska </div>"
   ]
  }
 ],
 "metadata": {
  "kernelspec": {
   "display_name": "Python 3",
   "language": "python",
   "name": "python3"
  },
  "language_info": {
   "codemirror_mode": {
    "name": "ipython",
    "version": 3
   },
   "file_extension": ".py",
   "mimetype": "text/x-python",
   "name": "python",
   "nbconvert_exporter": "python",
   "pygments_lexer": "ipython3",
   "version": "3.6.8"
  }
 },
 "nbformat": 4,
 "nbformat_minor": 2
}
