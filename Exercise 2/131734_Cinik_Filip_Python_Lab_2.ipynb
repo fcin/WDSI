{
 "cells": [
  {
   "cell_type": "markdown",
   "metadata": {
    "deletable": false,
    "editable": false,
    "nbgrader": {
     "checksum": "2878447ed9128508318a9c8416f4e7a3",
     "grade": false,
     "grade_id": "cell-982e98d0ad3ab544",
     "locked": true,
     "schema_version": 1,
     "solution": false
    }
   },
   "source": [
    "# Wstęp do Sztucznej Inteligencji - rok akademicki 2018/2019\n",
    "\n",
    "Przed rozpoczęciem pracy z notatnikiem zmień jego nazwę zgodnie z wzorem: `{NrAlbumu}_{Nazwisko}_{Imie}_{PoprzedniaNazwa}`.\n",
    "\n",
    "Przed wysłaniem notatnika upewnij się, że rozwiązałeś wszystkie zadania/ćwiczenia, w szczególności, że uzupełniłeś wszystkie pola `YOUR CODE HERE` oraz `YOUR ANSWER HERE`."
   ]
  },
  {
   "cell_type": "markdown",
   "metadata": {
    "deletable": false,
    "editable": false,
    "nbgrader": {
     "checksum": "41489ae86235a6fc1f9acbfc47150a51",
     "grade": false,
     "grade_id": "cell-7f6e30d09c33dbe5",
     "locked": true,
     "schema_version": 1,
     "solution": false
    }
   },
   "source": [
    "## Temat: Wprowadzenie do języka Python cz. II\n",
    "Zapoznaj się z treścią niniejszego notatnika czytając i wykonując go komórka po komórce. Wykonaj napotkane zadania/ćwiczenia.\n",
    "\n",
    "### Moduły i skrypty\n",
    "Z plikami z rozszerzeniem `.py` można pracować na 2 sposoby.\n",
    "\n",
    "- jak ze skryptem (ala plik wykonywalny),\n",
    "- jak z modułem (biblioteką) w innych projektach.\n",
    "\n",
    "Utwórz plik tekstowy `pytest.py` o następującej treści (Główna strona Jupyter -> New -> Text File):\n",
    "```python\n",
    "def suma(a,b):\n",
    "    return a+b\n",
    "\n",
    "def roznica(a,b):\n",
    "    return a-b\n",
    "\n",
    "PI = 3.1415\n",
    "\n",
    "print(suma(3,5))\n",
    "```\n",
    "\n",
    "Aby wykonać plik `pytest.py` należy w terminalu (Główna strona Jupyter -> New -> Terminal) wykonać poniższe polecenie:\n",
    "\n",
    "```\n",
    "python pytest.py\n",
    "```\n",
    "Oczywiście należy być w folderze w którym jest plik `pytest.py` lub podać pełną scieżkę do pliku.\n",
    "\n",
    "Po wykonaniu polecenia na ekranie powinien pojawić się wynik 8.\n",
    "\n",
    "Możemy również używać pliku `pytest.py` importując go tak jak wcześniej poznane modułu."
   ]
  },
  {
   "cell_type": "code",
   "execution_count": 4,
   "metadata": {},
   "outputs": [],
   "source": [
    "import pytest"
   ]
  },
  {
   "cell_type": "markdown",
   "metadata": {
    "deletable": false,
    "editable": false,
    "nbgrader": {
     "checksum": "1b6aa858c4971dd447495fcac0ab522c",
     "grade": false,
     "grade_id": "cell-73ffa2445c019781",
     "locked": true,
     "schema_version": 1,
     "solution": false
    }
   },
   "source": [
    "W tym przypadku plik również został wykonany, ale mamy też możliwość wykorzystania obiektów zdefiniowanych w naszym module."
   ]
  },
  {
   "cell_type": "code",
   "execution_count": 5,
   "metadata": {},
   "outputs": [
    {
     "data": {
      "text/plain": [
       "5"
      ]
     },
     "execution_count": 5,
     "metadata": {},
     "output_type": "execute_result"
    }
   ],
   "source": [
    "pytest.suma(1,4)"
   ]
  },
  {
   "cell_type": "code",
   "execution_count": 6,
   "metadata": {},
   "outputs": [
    {
     "data": {
      "text/plain": [
       "2.1415"
      ]
     },
     "execution_count": 6,
     "metadata": {},
     "output_type": "execute_result"
    }
   ],
   "source": [
    "pytest.roznica(pytest.PI,1)"
   ]
  },
  {
   "cell_type": "markdown",
   "metadata": {
    "deletable": false,
    "editable": false,
    "nbgrader": {
     "checksum": "4d0042db9da532fe02a3ee9bab117e27",
     "grade": false,
     "grade_id": "cell-587a8c267163be7b",
     "locked": true,
     "schema_version": 1,
     "solution": false
    }
   },
   "source": [
    "Aby podczas importowania nie wykonywała się linia `print(suma(3,5))` powinna ona znaleźć się w bloku `if __name__==\"__main__\":`, zmodyfikuj plik `pytest.py` w poniższy sposób i sprawdz róźnicę w działaniu.\n",
    "\n",
    "```python\n",
    "def suma(a,b):\n",
    "    return a+b\n",
    "\n",
    "def roznica(a,b):\n",
    "    return a-b\n",
    "\n",
    "PI = 3.1415\n",
    "\n",
    "if __name__==\"__main__\":\n",
    "    print(suma(3,5))\n",
    "```\n",
    "\n",
    "W przypadku wykonywania pliku zmienna `__name__` przyjmuje wartość `\"__main__\"`, a w przypadku importu nazwę modułu, dzięki temu z tego samego pliku możemy korzystać zarówno jak ze skryptu i jak z modułu."
   ]
  },
  {
   "cell_type": "code",
   "execution_count": 7,
   "metadata": {},
   "outputs": [
    {
     "data": {
      "text/plain": [
       "5"
      ]
     },
     "execution_count": 7,
     "metadata": {},
     "output_type": "execute_result"
    }
   ],
   "source": [
    "import pytest\n",
    "pytest.suma(1,4)"
   ]
  },
  {
   "cell_type": "markdown",
   "metadata": {
    "deletable": false,
    "editable": false,
    "nbgrader": {
     "checksum": "542b5de148d6e35bbad08e653e1dcb6e",
     "grade": false,
     "grade_id": "cell-8c4c9b015cff0a21",
     "locked": true,
     "schema_version": 1,
     "solution": false
    }
   },
   "source": [
    "### Numpy ( http://www.numpy.org/ )\n",
    "`Numpy` to podstawowa biblioteka do implementacji operacji i algorytmów numerycznych.\n",
    "\n",
    "Głównym obiektem biblioteki jest `ndarray` czyli tablica wielowymiarowa, za pomocą której można reprezentować wektory, macierze, tensory itp.\n",
    "\n",
    "Moduł `numpy` najczęściej imprtowany jest z aliasem `np`."
   ]
  },
  {
   "cell_type": "code",
   "execution_count": 8,
   "metadata": {},
   "outputs": [],
   "source": [
    "import numpy as np"
   ]
  },
  {
   "cell_type": "markdown",
   "metadata": {
    "deletable": false,
    "editable": false,
    "nbgrader": {
     "checksum": "49b6858d279223a5dd1d7c44c450ece6",
     "grade": false,
     "grade_id": "cell-2a8baab57ffc279d",
     "locked": true,
     "schema_version": 1,
     "solution": false
    }
   },
   "source": [
    "Tworzenie obiektów `ndarray`."
   ]
  },
  {
   "cell_type": "code",
   "execution_count": 9,
   "metadata": {},
   "outputs": [
    {
     "name": "stdout",
     "output_type": "stream",
     "text": [
      "a: [1 2 3 4]\n",
      "b: [1.3 2.5]\n",
      "c: [1 2]\n",
      "d: [1.+2.j 3.+1.j]\n",
      "e: [[1 2 4]\n",
      " [4 5 7]]\n"
     ]
    },
    {
     "data": {
      "text/plain": [
       "numpy.ndarray"
      ]
     },
     "execution_count": 9,
     "metadata": {},
     "output_type": "execute_result"
    }
   ],
   "source": [
    "a = np.array([1,2,3,4])\n",
    "b = np.array([1.3, 2.5])\n",
    "c = np.array([1.3, 2.5], dtype=np.int) #rzutowanie na typ int\n",
    "d = np.array([1+2j, 3+1j])\n",
    "e = np.array([[1,2,4],[4,5,7]])\n",
    "print('a:', a)\n",
    "print('b:', b)\n",
    "print('c:', c)\n",
    "print('d:', d)\n",
    "print('e:', e)\n",
    "type(a)"
   ]
  },
  {
   "cell_type": "markdown",
   "metadata": {
    "deletable": false,
    "editable": false,
    "nbgrader": {
     "checksum": "582401207dbad1b6ce0da47d033b45a5",
     "grade": false,
     "grade_id": "cell-c9c7caba4c87bba7",
     "locked": true,
     "schema_version": 1,
     "solution": false
    }
   },
   "source": [
    "Podstawowe atrybuty obiektu `ndarray`."
   ]
  },
  {
   "cell_type": "code",
   "execution_count": 10,
   "metadata": {},
   "outputs": [
    {
     "name": "stdout",
     "output_type": "stream",
     "text": [
      "(4,)\n",
      "(2, 3)\n",
      "1\n",
      "2\n",
      "int64\n",
      "complex128\n",
      "2\n",
      "6\n"
     ]
    }
   ],
   "source": [
    "print(a.shape) #wymiary tablicy\n",
    "print(e.shape)\n",
    "print(b.ndim) #liczba wymiarów\n",
    "print(e.ndim)\n",
    "print(c.dtype) #typ danych\n",
    "print(d.dtype) \n",
    "print(d.size) #liczba elemetów\n",
    "print(e.size)"
   ]
  },
  {
   "cell_type": "markdown",
   "metadata": {
    "deletable": false,
    "editable": false,
    "nbgrader": {
     "checksum": "ee1366ff86d541cabdb9e18ffd473656",
     "grade": false,
     "grade_id": "cell-fcb5a3d35e726eb9",
     "locked": true,
     "schema_version": 1,
     "solution": false
    }
   },
   "source": [
    "Do elementów obiektu `ndarray` odwołujemy się w taki sam sposób jak do elementów listy."
   ]
  },
  {
   "cell_type": "code",
   "execution_count": 11,
   "metadata": {},
   "outputs": [
    {
     "name": "stdout",
     "output_type": "stream",
     "text": [
      "1\n",
      "[4 5 7]\n",
      "7\n",
      "[2 3]\n",
      "[2 5]\n",
      "[1 2 4]\n"
     ]
    }
   ],
   "source": [
    "print(a[0])\n",
    "print(e[1])\n",
    "print(e[1,2])\n",
    "print(a[1:3])\n",
    "print(e[:,1])\n",
    "print(e[0,:])"
   ]
  },
  {
   "cell_type": "markdown",
   "metadata": {
    "deletable": false,
    "editable": false,
    "nbgrader": {
     "checksum": "f22f26da74a722874964489190119333",
     "grade": false,
     "grade_id": "cell-eda7c533213dbf51",
     "locked": true,
     "schema_version": 1,
     "solution": false
    }
   },
   "source": [
    "Wybieranie elementów spełniających podany warunek."
   ]
  },
  {
   "cell_type": "code",
   "execution_count": 12,
   "metadata": {},
   "outputs": [
    {
     "data": {
      "text/plain": [
       "array([3, 4])"
      ]
     },
     "execution_count": 12,
     "metadata": {},
     "output_type": "execute_result"
    }
   ],
   "source": [
    "a[a>2]"
   ]
  },
  {
   "cell_type": "markdown",
   "metadata": {
    "deletable": false,
    "editable": false,
    "nbgrader": {
     "checksum": "ea9ee0373bfe7ba957109f4c058a8353",
     "grade": false,
     "grade_id": "cell-d567c99d0a38760d",
     "locked": true,
     "schema_version": 1,
     "solution": false
    }
   },
   "source": [
    "Wybieranie elementów podajac ich indeksy."
   ]
  },
  {
   "cell_type": "code",
   "execution_count": 13,
   "metadata": {},
   "outputs": [
    {
     "data": {
      "text/plain": [
       "array([1, 2, 1, 2])"
      ]
     },
     "execution_count": 13,
     "metadata": {},
     "output_type": "execute_result"
    }
   ],
   "source": [
    "a[[0,1,0,1]]"
   ]
  },
  {
   "cell_type": "markdown",
   "metadata": {
    "deletable": false,
    "editable": false,
    "nbgrader": {
     "checksum": "a0cbc280da34eeb17e0770b124a2c1f4",
     "grade": false,
     "grade_id": "cell-dd91df9cd613a615",
     "locked": true,
     "schema_version": 1,
     "solution": false
    }
   },
   "source": [
    "Przydatne wbudowane metody do tworzenia obiektów `ndarray`."
   ]
  },
  {
   "cell_type": "code",
   "execution_count": 14,
   "metadata": {},
   "outputs": [
    {
     "data": {
      "text/plain": [
       "array([0., 0., 0., 0., 0., 0., 0., 0., 0., 0.])"
      ]
     },
     "execution_count": 14,
     "metadata": {},
     "output_type": "execute_result"
    }
   ],
   "source": [
    "np.zeros(10)"
   ]
  },
  {
   "cell_type": "code",
   "execution_count": 15,
   "metadata": {},
   "outputs": [
    {
     "data": {
      "text/plain": [
       "array([[0., 0., 0.],\n",
       "       [0., 0., 0.]])"
      ]
     },
     "execution_count": 15,
     "metadata": {},
     "output_type": "execute_result"
    }
   ],
   "source": [
    "np.zeros((2,3))"
   ]
  },
  {
   "cell_type": "code",
   "execution_count": 16,
   "metadata": {},
   "outputs": [
    {
     "data": {
      "text/plain": [
       "array([1., 1., 1., 1., 1., 1., 1., 1., 1., 1.])"
      ]
     },
     "execution_count": 16,
     "metadata": {},
     "output_type": "execute_result"
    }
   ],
   "source": [
    "np.ones(10)"
   ]
  },
  {
   "cell_type": "code",
   "execution_count": 17,
   "metadata": {},
   "outputs": [
    {
     "data": {
      "text/plain": [
       "array([[1., 1., 1., 1.],\n",
       "       [1., 1., 1., 1.],\n",
       "       [1., 1., 1., 1.]])"
      ]
     },
     "execution_count": 17,
     "metadata": {},
     "output_type": "execute_result"
    }
   ],
   "source": [
    "np.ones((3,4))"
   ]
  },
  {
   "cell_type": "code",
   "execution_count": 18,
   "metadata": {},
   "outputs": [
    {
     "data": {
      "text/plain": [
       "array([0, 1, 2, 3, 4])"
      ]
     },
     "execution_count": 18,
     "metadata": {},
     "output_type": "execute_result"
    }
   ],
   "source": [
    "np.arange(5)"
   ]
  },
  {
   "cell_type": "code",
   "execution_count": 19,
   "metadata": {},
   "outputs": [
    {
     "data": {
      "text/plain": [
       "array([ 3,  4,  5,  6,  7,  8,  9, 10, 11, 12, 13, 14])"
      ]
     },
     "execution_count": 19,
     "metadata": {},
     "output_type": "execute_result"
    }
   ],
   "source": [
    "np.arange(3,15)"
   ]
  },
  {
   "cell_type": "code",
   "execution_count": 20,
   "metadata": {},
   "outputs": [
    {
     "data": {
      "text/plain": [
       "array([ 3. ,  3.9,  4.8,  5.7,  6.6,  7.5,  8.4,  9.3, 10.2, 11.1, 12. ,\n",
       "       12.9, 13.8, 14.7])"
      ]
     },
     "execution_count": 20,
     "metadata": {},
     "output_type": "execute_result"
    }
   ],
   "source": [
    "np.arange(3,15,0.9)"
   ]
  },
  {
   "cell_type": "code",
   "execution_count": 21,
   "metadata": {},
   "outputs": [
    {
     "data": {
      "text/plain": [
       "array([0.        , 0.11111111, 0.22222222, 0.33333333, 0.44444444,\n",
       "       0.55555556, 0.66666667, 0.77777778, 0.88888889, 1.        ])"
      ]
     },
     "execution_count": 21,
     "metadata": {},
     "output_type": "execute_result"
    }
   ],
   "source": [
    "np.linspace(0,1,10) # 10 równorozłożonych punktów od 0 do 1"
   ]
  },
  {
   "cell_type": "markdown",
   "metadata": {
    "deletable": false,
    "editable": false,
    "nbgrader": {
     "checksum": "52c7312d398d39868998e4e41b9d5d39",
     "grade": false,
     "grade_id": "cell-23e7ee58f301e743",
     "locked": true,
     "schema_version": 1,
     "solution": false
    }
   },
   "source": [
    "### Arytmetyka\n",
    "Wszystkie operacje arytmetyczne na obiektach `ndarray` wykonywane są na elementach będących na tych samych pozycjach, a wiec wymiary muszą sie zgadzać."
   ]
  },
  {
   "cell_type": "code",
   "execution_count": 22,
   "metadata": {},
   "outputs": [
    {
     "name": "stdout",
     "output_type": "stream",
     "text": [
      "a: [1 2 3 4] b: [1. 1. 1. 1.]\n",
      "a+b: [2. 3. 4. 5.]\n",
      "a-b: [0. 1. 2. 3.]\n",
      "a*b: [1. 2. 3. 4.]\n",
      "a/(2*b): [0.5 1.  1.5 2. ]\n",
      "a**2: [ 1  4  9 16]\n",
      "a**(b/2): [1.         1.41421356 1.73205081 2.        ]\n"
     ]
    }
   ],
   "source": [
    "a = np.array([1,2,3,4])\n",
    "b = np.ones(4)\n",
    "print('a:',a,'b:',b)\n",
    "print('a+b:',a+b)\n",
    "print('a-b:',a-b)\n",
    "print('a*b:',a*b)\n",
    "print('a/(2*b):',a/(2*b))\n",
    "print('a**2:',a**2)\n",
    "print('a**(b/2):',a**(b/2))"
   ]
  },
  {
   "cell_type": "markdown",
   "metadata": {
    "deletable": false,
    "editable": false,
    "nbgrader": {
     "checksum": "3b059a96dccd90db78a9ae6f1ce41c29",
     "grade": false,
     "grade_id": "cell-daa0bbdfd58c174e",
     "locked": true,
     "schema_version": 1,
     "solution": false
    }
   },
   "source": [
    "W module `numpy` wbudowane są również podstawowe funkcje matematyczne, które jako argument przyjmują obiekt `ndarray`, np."
   ]
  },
  {
   "cell_type": "code",
   "execution_count": 23,
   "metadata": {},
   "outputs": [
    {
     "name": "stdout",
     "output_type": "stream",
     "text": [
      "sin(a): [ 0.84147098  0.90929743  0.14112001 -0.7568025 ]\n",
      "log(a): [0.         0.69314718 1.09861229 1.38629436]\n"
     ]
    }
   ],
   "source": [
    "print('sin(a):', np.sin(a))\n",
    "print('log(a):', np.log(a))"
   ]
  },
  {
   "cell_type": "markdown",
   "metadata": {
    "deletable": false,
    "editable": false,
    "nbgrader": {
     "checksum": "06589d245bc832905d6604ba74f46d1b",
     "grade": false,
     "grade_id": "cell-c5db5e4e2fe83276",
     "locked": true,
     "schema_version": 1,
     "solution": false
    }
   },
   "source": [
    "Inne przydatne metody:"
   ]
  },
  {
   "cell_type": "code",
   "execution_count": 24,
   "metadata": {},
   "outputs": [
    {
     "name": "stdout",
     "output_type": "stream",
     "text": [
      "a: [1.  1.5 2.  2.5 3.  3.5 4.  4.5]\n",
      "suma elementów: 22.0\n",
      "iloczyn elementów: 1417.5\n",
      "cumsum: [ 1.   2.5  4.5  7.  10.  13.5 17.5 22. ]\n",
      "max: 4.5\n",
      "argmax: 7\n"
     ]
    }
   ],
   "source": [
    "a = np.arange(1,5,0.5)\n",
    "print('a:',a)\n",
    "print('suma elementów:', np.sum(a))\n",
    "print('iloczyn elementów:', np.prod(a))\n",
    "print('cumsum:', np.cumsum(a))\n",
    "print('max:', np.max(a)) #analogicznie minimum\n",
    "print('argmax:', np.argmax(a))"
   ]
  },
  {
   "cell_type": "markdown",
   "metadata": {
    "deletable": false,
    "editable": false,
    "nbgrader": {
     "checksum": "719285236533734490b662fd5c761f37",
     "grade": false,
     "grade_id": "cell-3f65f468c505d5ca",
     "locked": true,
     "schema_version": 1,
     "solution": false
    }
   },
   "source": [
    "W przypadku wiekszej liczby wymiarów możemy wykonywać operacje takie jak np. `sum`, `max`, `min` itp. według zadanego wymiaru `axis`."
   ]
  },
  {
   "cell_type": "code",
   "execution_count": 25,
   "metadata": {},
   "outputs": [
    {
     "name": "stdout",
     "output_type": "stream",
     "text": [
      "m: [[1 2 3]\n",
      " [4 5 6]\n",
      " [7 8 9]]\n",
      "suma: 45\n",
      "suma w wierszach: [ 6 15 24]\n",
      "suma w kolumach: [12 15 18]\n"
     ]
    }
   ],
   "source": [
    "m = np.array([[1,2,3],[4,5,6],[7,8,9]])\n",
    "print('m:',m)\n",
    "print('suma:',np.sum(m))\n",
    "print('suma w wierszach:',np.sum(m, axis=1))\n",
    "print('suma w kolumach:',np.sum(m, axis=0))"
   ]
  },
  {
   "cell_type": "markdown",
   "metadata": {
    "deletable": false,
    "editable": false,
    "nbgrader": {
     "checksum": "1e7f53efae247011d34c98d766399afa",
     "grade": false,
     "grade_id": "cell-bbeb35b235c7629e",
     "locked": true,
     "schema_version": 1,
     "solution": false
    }
   },
   "source": [
    "Zmiana wymiarów:"
   ]
  },
  {
   "cell_type": "code",
   "execution_count": 26,
   "metadata": {},
   "outputs": [
    {
     "name": "stdout",
     "output_type": "stream",
     "text": [
      "[1. 1. 1. 1. 1. 1. 1. 1. 1. 1. 1. 1. 1. 1. 1.]\n",
      "[[1. 1. 1. 1. 1.]\n",
      " [1. 1. 1. 1. 1.]\n",
      " [1. 1. 1. 1. 1.]]\n"
     ]
    }
   ],
   "source": [
    "a = np.ones(15)\n",
    "print(a)\n",
    "print(a.reshape(3,5))"
   ]
  },
  {
   "cell_type": "markdown",
   "metadata": {
    "deletable": false,
    "editable": false,
    "nbgrader": {
     "checksum": "46b093de6d766959924d7323946585dd",
     "grade": false,
     "grade_id": "cell-d0920720f942018c",
     "locked": true,
     "schema_version": 1,
     "solution": false
    }
   },
   "source": [
    "### Algebra liniowa"
   ]
  },
  {
   "cell_type": "code",
   "execution_count": 27,
   "metadata": {},
   "outputs": [
    {
     "name": "stdout",
     "output_type": "stream",
     "text": [
      "wektor v: [1 1]\n",
      "macierz m: [[1 2]\n",
      " [3 4]]\n",
      "transpozycja wektora: [1 1]\n",
      "transpozycja macierzy: [[1 3]\n",
      " [2 4]]\n",
      "wektor * wektor: 2\n",
      "macierz * wektor: [3 7]\n",
      "wektor * macierz: [4 6]\n"
     ]
    }
   ],
   "source": [
    "v = np.array([1,1])\n",
    "m = np.array([[1,2],[3,4]])\n",
    "print('wektor v:',v)\n",
    "print('macierz m:',m)\n",
    "print('transpozycja wektora:',v.T) #nic nie zmienia\n",
    "print('transpozycja macierzy:',m.T)\n",
    "print('wektor * wektor:', np.dot(v,v)) #iloczyn skalarny\n",
    "print('macierz * wektor:', np.dot(m,v))\n",
    "print('wektor * macierz:', np.dot(v,m))"
   ]
  },
  {
   "cell_type": "markdown",
   "metadata": {
    "deletable": false,
    "editable": false,
    "nbgrader": {
     "checksum": "ad3251009130e4b2a511da3559894a8e",
     "grade": false,
     "grade_id": "cell-be7e13b1d3ba9950",
     "locked": true,
     "schema_version": 1,
     "solution": false
    }
   },
   "source": [
    "Ponieważ transpozycja tablicy jednowymiarowaj nic nie zmienia, mnożenie macierzy przez wektor nie zawsze zadziała poprawnie. Aby operacje były zgodne z rachunkiem macierzowym wektor powinnien być zdefiniowany jako macierz o jednym wierszu/kolumnie. Można w tym celu zamiast `np.array` użyć `np.matrix`."
   ]
  },
  {
   "cell_type": "code",
   "execution_count": 28,
   "metadata": {},
   "outputs": [
    {
     "name": "stdout",
     "output_type": "stream",
     "text": [
      "wektor v: [[1 1]]\n",
      "macierz m: [[1 2]\n",
      " [3 4]]\n",
      "transpozycja wektora: [[1]\n",
      " [1]]\n",
      "transpozycja macierzy: [[1 3]\n",
      " [2 4]]\n",
      "wektor razy wektor: [[2]]\n",
      "macierz razy wektor: [[3]\n",
      " [7]]\n",
      "wektor razy macierz: [[4 6]]\n"
     ]
    }
   ],
   "source": [
    "v = np.array([[1,1]])\n",
    "m = np.array([[1,2],[3,4]])\n",
    "print('wektor v:',v)\n",
    "print('macierz m:',m)\n",
    "print('transpozycja wektora:',v.T)\n",
    "print('transpozycja macierzy:',m.T)\n",
    "print('wektor razy wektor:', np.dot(v,v.T)) #macierz o jednym elemencie\n",
    "print('macierz razy wektor:', np.dot(m,v.T)) #macierz o jednej kolumnie\n",
    "print('wektor razy macierz:', np.dot(v,m)) #macierz o jednym wierszu"
   ]
  },
  {
   "cell_type": "code",
   "execution_count": 29,
   "metadata": {},
   "outputs": [
    {
     "data": {
      "text/plain": [
       "matrix([[1, 2, 3]])"
      ]
     },
     "execution_count": 29,
     "metadata": {},
     "output_type": "execute_result"
    }
   ],
   "source": [
    "np.matrix([1,2,3])"
   ]
  },
  {
   "cell_type": "code",
   "execution_count": 30,
   "metadata": {},
   "outputs": [
    {
     "data": {
      "text/plain": [
       "matrix([[1, 2],\n",
       "        [3, 4]])"
      ]
     },
     "execution_count": 30,
     "metadata": {},
     "output_type": "execute_result"
    }
   ],
   "source": [
    "np.matrix([[1,2],[3,4]])"
   ]
  },
  {
   "cell_type": "markdown",
   "metadata": {
    "deletable": false,
    "editable": false,
    "nbgrader": {
     "checksum": "7b31a848bb6dc270bbacb7b8386ddcc8",
     "grade": false,
     "grade_id": "cell-ec4bb372f694bea8",
     "locked": true,
     "schema_version": 1,
     "solution": false
    }
   },
   "source": [
    "Wyznacznik i macierz odwrotna (`np.linalg`)"
   ]
  },
  {
   "cell_type": "code",
   "execution_count": 31,
   "metadata": {},
   "outputs": [
    {
     "name": "stdout",
     "output_type": "stream",
     "text": [
      "macierz m: [[1 2]\n",
      " [3 4]]\n",
      "det(m): -2.0000000000000004\n",
      "m^(-1): [[-2.   1. ]\n",
      " [ 1.5 -0.5]]\n",
      "m*m^(-1): [[1.00000000e+00 1.11022302e-16]\n",
      " [0.00000000e+00 1.00000000e+00]]\n"
     ]
    }
   ],
   "source": [
    "m = np.matrix([[1,2],[3,4]])\n",
    "print('macierz m:',m)\n",
    "print('det(m):', np.linalg.det(m))\n",
    "print('m^(-1):', np.linalg.inv(m))\n",
    "print('m*m^(-1):', np.dot(m,np.linalg.inv(m)))"
   ]
  },
  {
   "cell_type": "markdown",
   "metadata": {
    "deletable": false,
    "editable": false,
    "nbgrader": {
     "checksum": "d6d7110d09f2859ea8a6b9365527eead",
     "grade": false,
     "grade_id": "cell-8ae7ff9ca9a72eca",
     "locked": true,
     "schema_version": 1,
     "solution": false
    }
   },
   "source": [
    "### Scipy ( http://www.scipy.org )\n",
    "`Scipy` to zbudowany na bazie `numpy` moduł zawierający podstawowe algorytmy numeryczne służące m.in do całkowania, optymalizacji, interpolacji itp.\n",
    "\n",
    "#### Całkowanie numeryczne"
   ]
  },
  {
   "cell_type": "code",
   "execution_count": 32,
   "metadata": {},
   "outputs": [
    {
     "name": "stdout",
     "output_type": "stream",
     "text": [
      "quad: (0.33333333333333337, 3.700743415417189e-15)\n",
      "trapz: 0.333333500333834\n"
     ]
    }
   ],
   "source": [
    "from scipy.integrate import quad, trapz\n",
    "\n",
    "def func(x):\n",
    "    return x**2\n",
    "\n",
    "# całka z x^2 na przedziale [0,1] \n",
    "# metoda kwadratury gaussa\n",
    "c1 = quad(func, 0, 1) # zwraca wartość całki i oszacowany błąd\n",
    "print('quad:',c1) \n",
    "\n",
    "# metoda trapezów\n",
    "x = np.linspace(0, 1,1000)\n",
    "y = func(x)\n",
    "c2 = trapz(y, x) # zwaraca wartość całki\n",
    "print('trapz:',c2)"
   ]
  },
  {
   "cell_type": "markdown",
   "metadata": {
    "deletable": false,
    "editable": false,
    "nbgrader": {
     "checksum": "a737beefbafa077b60d93b535c8ed1c3",
     "grade": false,
     "grade_id": "cell-8287d3a88b549fff",
     "locked": true,
     "schema_version": 1,
     "solution": false
    }
   },
   "source": [
    "#### Optymalizacja"
   ]
  },
  {
   "cell_type": "code",
   "execution_count": 33,
   "metadata": {},
   "outputs": [
    {
     "name": "stdout",
     "output_type": "stream",
     "text": [
      "Optimization terminated successfully.\n",
      "         Current function value: 0.000000\n",
      "         Iterations: 74\n",
      "         Function evaluations: 139\n",
      "punkt minimum: [ 3.40984822e-09 -1.93620944e-09]\n",
      "wartośc minimum: 1.5375971862587842e-17\n"
     ]
    }
   ],
   "source": [
    "from scipy.optimize import minimize\n",
    "\n",
    "def func(x):\n",
    "    return np.sum(x**2)  #suma kwadratów\n",
    "\n",
    "# punkt startowy\n",
    "x0 = [10, 10.]\n",
    "# minimalizacja metodą nelder-mead, dostępnych wiele innych algorytmów\n",
    "res = minimize(func, x0, method='nelder-mead', options={'xtol': 1e-8, 'disp': True})\n",
    "print('punkt minimum:', res.x)\n",
    "print('wartośc minimum:', res.fun)"
   ]
  },
  {
   "cell_type": "markdown",
   "metadata": {
    "deletable": false,
    "editable": false,
    "nbgrader": {
     "checksum": "58ee43e8adc03ba5a70cc83dfc97da7b",
     "grade": false,
     "grade_id": "cell-6b092cd550cbaa98",
     "locked": true,
     "schema_version": 1,
     "solution": false
    }
   },
   "source": [
    "#### Interpolacja"
   ]
  },
  {
   "cell_type": "code",
   "execution_count": 34,
   "metadata": {},
   "outputs": [
    {
     "name": "stdout",
     "output_type": "stream",
     "text": [
      "(x,y): [(0.0, 0.0), (0.6666666666666666, 0.618369803069737), (1.3333333333333333, 0.9719379013633127), (2.0, 0.9092974268256817), (2.6666666666666665, 0.457272626635812), (3.333333333333333, -0.19056796287548494), (4.0, -0.7568024953079282), (4.666666666666666, -0.9989549170979283), (5.333333333333333, -0.81332939156758), (6.0, -0.27941549819892586)]\n",
      "w_coef: [-2.30789723e-06  6.51635883e-05 -6.22164834e-04  1.68627888e-03\n",
      "  4.01850111e-03  7.07819057e-03 -1.73781196e-01  3.92314156e-03\n",
      "  9.99113180e-01  0.00000000e+00]\n"
     ]
    }
   ],
   "source": [
    "from scipy.interpolate import lagrange\n",
    "\n",
    "# punkty interpolacji\n",
    "x = np.linspace(0.0,6.0,10) # 10 równorozłożonych punktów od 0 do 6\n",
    "y = np.sin(x)\n",
    "print('(x,y):',list(zip(x,y)))  #zip łączy elementy tablic w pary\n",
    "\n",
    "# wielomian interpolacyjny Lagrange'a, stopień taki jak liczba punktów\n",
    "w = lagrange(x, y)\n",
    "print('w_coef:', w.coef)"
   ]
  },
  {
   "cell_type": "markdown",
   "metadata": {
    "deletable": false,
    "editable": false,
    "nbgrader": {
     "checksum": "33af092674f8062f42a405d196b4f985",
     "grade": false,
     "grade_id": "cell-b1f61777755af4b3",
     "locked": true,
     "schema_version": 1,
     "solution": false
    }
   },
   "source": [
    "### Matplotlib ( http://matplotlib.org/ )\n",
    "Moduł `matplotlib` to bardzo rozbudowana biblioteka do tworzenia najróżniejszych wykresów 2D i 3D (warto zaglądnąć do galerii przykładowych wykresów http://matplotlib.org/gallery.html)."
   ]
  },
  {
   "cell_type": "code",
   "execution_count": 35,
   "metadata": {},
   "outputs": [],
   "source": [
    "# import modułu matplotlib\n",
    "import matplotlib.pyplot as plt\n",
    "\n",
    "# rysunki domyślnie powinny wyświetlać się w notatniku\n",
    "# gdyby tak nie było należy odkomentować poniższa linijkę\n",
    "#%matplotlib inline"
   ]
  },
  {
   "cell_type": "markdown",
   "metadata": {
    "deletable": false,
    "editable": false,
    "nbgrader": {
     "checksum": "804288d1703cac6b9b9a3b1c947c2ed5",
     "grade": false,
     "grade_id": "cell-0cd6578410251d2e",
     "locked": true,
     "schema_version": 1,
     "solution": false
    }
   },
   "source": [
    "Szybki wykres dla przykładu interpolacji funkcji sinus wielomianem lagrange'a."
   ]
  },
  {
   "cell_type": "code",
   "execution_count": 36,
   "metadata": {},
   "outputs": [
    {
     "data": {
      "image/png": "[encoded data removed]",
      "text/plain": [
       "<Figure size 432x288 with 1 Axes>"
      ]
     },
     "metadata": {
      "needs_background": "light"
     },
     "output_type": "display_data"
    }
   ],
   "source": [
    "plt.figure()\n",
    "plt.plot(x, y, 'o')\n",
    "x2 = np.linspace(0.0,6.0,1000)\n",
    "y2 = w(x2)\n",
    "plt.plot(x2,y2, 'r')\n",
    "plt.show()"
   ]
  },
  {
   "cell_type": "markdown",
   "metadata": {
    "deletable": false,
    "editable": false,
    "nbgrader": {
     "checksum": "5fc12d7ff2d016a144c6c4158c8dd356",
     "grade": false,
     "grade_id": "cell-778e6dddecbf2a4b",
     "locked": true,
     "schema_version": 1,
     "solution": false
    }
   },
   "source": [
    "Prosty przykład (jeden wykres na rysunku)."
   ]
  },
  {
   "cell_type": "code",
   "execution_count": 37,
   "metadata": {},
   "outputs": [
    {
     "data": {
      "image/png": "[encoded data removed]",
      "text/plain": [
       "<Figure size 432x288 with 1 Axes>"
      ]
     },
     "metadata": {
      "needs_background": "light"
     },
     "output_type": "display_data"
    }
   ],
   "source": [
    "# przykładowe dane\n",
    "x = np.linspace(1, 10, 100)\n",
    "y = np.sin(x)\n",
    "\n",
    "# tworzenie rysunku\n",
    "fig, ax = plt.subplots() #zwraca obiekt rysunku fig, i obiekt wykresu na rysunku ax\n",
    "# rysowanie wykresu\n",
    "ax.plot(x, y)\n",
    "# wyświetlenie rysunku\n",
    "plt.show()"
   ]
  },
  {
   "cell_type": "markdown",
   "metadata": {
    "deletable": false,
    "editable": false,
    "nbgrader": {
     "checksum": "ce9b1e46a5c4e74402540df9e055cb42",
     "grade": false,
     "grade_id": "cell-0b87bc163ea25d17",
     "locked": true,
     "schema_version": 1,
     "solution": false
    }
   },
   "source": [
    "Modyfikowanie wyglądu."
   ]
  },
  {
   "cell_type": "code",
   "execution_count": 38,
   "metadata": {},
   "outputs": [
    {
     "data": {
      "image/png": "[encoded data removed]",
      "text/plain": [
       "<Figure size 432x288 with 1 Axes>"
      ]
     },
     "metadata": {
      "needs_background": "light"
     },
     "output_type": "display_data"
    }
   ],
   "source": [
    "# przykładowe dane\n",
    "x = np.linspace(1, 10, 100)\n",
    "y = np.sin(x)\n",
    "\n",
    "# tworzenie rysunku\n",
    "fig, ax = plt.subplots()\n",
    "# rysowanie wykresu\n",
    "ax.plot(x, y, c='r', marker='+', linestyle='-.', linewidth=5) #wiele innych opcji patrz w dokumentacji\n",
    "# wyświetlenie rysunku\n",
    "plt.show()"
   ]
  },
  {
   "cell_type": "markdown",
   "metadata": {
    "deletable": false,
    "editable": false,
    "nbgrader": {
     "checksum": "09dce60bd3cceb29f3133314d5ef5c31",
     "grade": false,
     "grade_id": "cell-3fe5dbc1f560d96f",
     "locked": true,
     "schema_version": 1,
     "solution": false
    }
   },
   "source": [
    "Dodanie tytułu, opisu osi, siatki i legendy."
   ]
  },
  {
   "cell_type": "code",
   "execution_count": 39,
   "metadata": {},
   "outputs": [
    {
     "data": {
      "image/png": "[encoded data removed]",
      "text/plain": [
       "<Figure size 432x288 with 1 Axes>"
      ]
     },
     "metadata": {
      "needs_background": "light"
     },
     "output_type": "display_data"
    }
   ],
   "source": [
    "# przykładowe dane\n",
    "x = np.linspace(1, 10, 100)\n",
    "y = np.sin(x)\n",
    "\n",
    "# tworzenie rysunku\n",
    "fig, ax = plt.subplots()\n",
    "# rysowanie wykresu\n",
    "ax.plot(x, y, c='r', linestyle='-.', label='sin(x)') #wiele innych opcji patrz w dokumentacji\n",
    "ax.legend() # dla legendy można ustalić pozycje podając argument 0,1,2,3 lub 4\n",
    "ax.set_title('Sin(x)')\n",
    "ax.set_xlabel('x')\n",
    "ax.set_ylabel('y')\n",
    "ax.grid(True)\n",
    "# wyświetlenie rysunku\n",
    "plt.show()"
   ]
  },
  {
   "cell_type": "markdown",
   "metadata": {
    "deletable": false,
    "editable": false,
    "nbgrader": {
     "checksum": "f7f0e6146db53ca4f0701930e0bb32a9",
     "grade": false,
     "grade_id": "cell-03fc172c51245886",
     "locked": true,
     "schema_version": 1,
     "solution": false
    }
   },
   "source": [
    "Wartości na osiach dobierane są automatycznie jednak możemy to zmodyfikować."
   ]
  },
  {
   "cell_type": "code",
   "execution_count": 40,
   "metadata": {},
   "outputs": [
    {
     "data": {
      "image/png": "[encoded data removed]",
      "text/plain": [
       "<Figure size 432x288 with 1 Axes>"
      ]
     },
     "metadata": {
      "needs_background": "light"
     },
     "output_type": "display_data"
    }
   ],
   "source": [
    "# przykładowe dane\n",
    "x = np.linspace(1, 10, 100)\n",
    "y = np.sin(x)\n",
    "\n",
    "# tworzenie rysunku\n",
    "fig, ax = plt.subplots()\n",
    "# rysowanie wykresu\n",
    "ax.plot(x, y, c='r', linestyle='-.', label='sin(x)') #wiele innych opcji patrz w dokumentacji\n",
    "ax.legend() # dla legendy mozna ustalic pozycje podając argument 0,1,2,3 lub 4\n",
    "ax.set_title('Sin(x)')\n",
    "ax.set_xlabel('x')\n",
    "ax.set_ylabel('y')\n",
    "ax.set_xlim(0,11)\n",
    "ax.set_ylim(-1.1,1.1)\n",
    "ax.grid(True)\n",
    "# wyświetlenie rysunku\n",
    "plt.show()"
   ]
  },
  {
   "cell_type": "markdown",
   "metadata": {
    "deletable": false,
    "editable": false,
    "nbgrader": {
     "checksum": "eb67fe41e80f8cb56716562c3a23808f",
     "grade": false,
     "grade_id": "cell-b91526f6cd20e549",
     "locked": true,
     "schema_version": 1,
     "solution": false
    }
   },
   "source": [
    "Więcej wykresów na jednym rysunku."
   ]
  },
  {
   "cell_type": "code",
   "execution_count": 41,
   "metadata": {},
   "outputs": [
    {
     "data": {
      "image/png": "[encoded data removed]",
      "text/plain": [
       "<Figure size 432x288 with 2 Axes>"
      ]
     },
     "metadata": {
      "needs_background": "light"
     },
     "output_type": "display_data"
    }
   ],
   "source": [
    "# przykładowe dane\n",
    "x1 = np.linspace(1, 10, 100)\n",
    "y1 = np.sin(x)\n",
    "x2 = np.linspace(1, 10, 10)\n",
    "y2 = np.sin(x2)\n",
    "\n",
    "# tworzenie rysunku\n",
    "fig, (ax1, ax2) = plt.subplots(nrows=2, ncols=1) # dwa wykresy jeden pod drugim\n",
    "# rysowanie wykresu nr 1\n",
    "ax1.plot(x1, y1, c='r', linestyle='-.', label='sin(x)') #wiele innych opcji patrz w dokumentacji\n",
    "ax1.legend() # dla legendy mozna ustalic pozycje podając argument 0,1,2,3 lub 4\n",
    "ax1.set_title('Sin(x) nr 1')\n",
    "ax1.set_xlabel('x')\n",
    "ax1.set_ylabel('y')\n",
    "ax1.grid(True)\n",
    "# rysowanie wykresu nr 2\n",
    "ax2.scatter(x2, y2, color='r', label='sin(x)') #wiele innych opcji patrz w dokumentacji\n",
    "ax2.legend() # dla legendy mozna ustalic pozycje podając argument 0,1,2,3 lub 4\n",
    "ax2.set_title('Sin(x) nr 2')\n",
    "ax2.set_xlabel('x')\n",
    "ax2.set_ylabel('y')\n",
    "ax2.grid(True)\n",
    "\n",
    "# wyświetlenie rysunku\n",
    "plt.show()"
   ]
  },
  {
   "cell_type": "markdown",
   "metadata": {
    "deletable": false,
    "editable": false,
    "nbgrader": {
     "checksum": "646560b0e7f70fd88b1567dd48ede03b",
     "grade": false,
     "grade_id": "cell-1a4affad785c2c5f",
     "locked": true,
     "schema_version": 1,
     "solution": false
    }
   },
   "source": [
    "Histogram."
   ]
  },
  {
   "cell_type": "code",
   "execution_count": 42,
   "metadata": {},
   "outputs": [
    {
     "data": {
      "image/png": "[encoded data removed]",
      "text/plain": [
       "<Figure size 432x288 with 2 Axes>"
      ]
     },
     "metadata": {
      "needs_background": "light"
     },
     "output_type": "display_data"
    }
   ],
   "source": [
    "# Aby mieć polskie znaki w tekstach na wykresie należy zmienic czcionkę\n",
    "plt.rcParams['font.family'] = 'DejaVu Sans'\n",
    "\n",
    "# przykładowe dane\n",
    "x = np.random.randn(100) # sto punktów ze standardowego rozkładu normalnego\n",
    "\n",
    "# tworzenie rysunku\n",
    "fig, (ax1, ax2) = plt.subplots(nrows=2, ncols=1) # dwa wykresy jeden pod drugim\n",
    "# rysowanie wykresu nr 1\n",
    "ax1.scatter(range(len(x)), x, color='r') \n",
    "ax1.set_title('Random')\n",
    "ax1.set_xlabel('nr')\n",
    "ax1.set_ylabel('y')\n",
    "ax1.grid(True)\n",
    "# rysowanie wykresu nr 2\n",
    "ax2.hist(x, 20) #wiele innych opcji patrz w dokumentacji\n",
    "ax2.set_xlabel('x')\n",
    "ax2.set_ylabel(u'częstość')\n",
    "ax2.grid(True)\n",
    "\n",
    "# wyświetlenie rysunku\n",
    "plt.show()"
   ]
  },
  {
   "cell_type": "markdown",
   "metadata": {
    "deletable": false,
    "editable": false,
    "nbgrader": {
     "checksum": "38c14bf68f31478a54d14c3ba570e91c",
     "grade": false,
     "grade_id": "cell-8ecceb5c4654963b",
     "locked": true,
     "schema_version": 1,
     "solution": false
    }
   },
   "source": [
    "Wykres 3D."
   ]
  },
  {
   "cell_type": "code",
   "execution_count": 44,
   "metadata": {},
   "outputs": [
    {
     "data": {
      "image/png": "[encoded data removed]",
      "text/plain": [
       "<Figure size 432x288 with 1 Axes>"
      ]
     },
     "metadata": {
      "needs_background": "light"
     },
     "output_type": "display_data"
    }
   ],
   "source": [
    "from mpl_toolkits.mplot3d import Axes3D\n",
    "\n",
    "x = np.random.randn(100)\n",
    "y = np.random.randn(100)\n",
    "z = np.random.randn(100)\n",
    "\n",
    "fig = plt.figure()\n",
    "ax = fig.add_subplot(111, projection='3d')\n",
    "ax.scatter(x, y, z, c='r', marker='o')\n",
    "ax.set_xlabel('X')\n",
    "ax.set_ylabel('Y')\n",
    "ax.set_zlabel('Z')\n",
    "\n",
    "plt.show()"
   ]
  },
  {
   "cell_type": "markdown",
   "metadata": {
    "deletable": false,
    "editable": false,
    "nbgrader": {
     "checksum": "69692a775841419636b19840af8bf5ce",
     "grade": false,
     "grade_id": "cell-f7d3f298d0733cb7",
     "locked": true,
     "schema_version": 1,
     "solution": false
    }
   },
   "source": [
    "Fajny przykład z galerii."
   ]
  },
  {
   "cell_type": "code",
   "execution_count": 45,
   "metadata": {},
   "outputs": [
    {
     "data": {
      "image/png": "[encoded data removed]",
      "text/plain": [
       "<Figure size 432x288 with 1 Axes>"
      ]
     },
     "metadata": {
      "needs_background": "light"
     },
     "output_type": "display_data"
    }
   ],
   "source": [
    "from mpl_toolkits.mplot3d import axes3d\n",
    "import matplotlib.pyplot as plt\n",
    "from matplotlib import cm\n",
    "\n",
    "fig = plt.figure()\n",
    "ax = fig.gca(projection='3d')\n",
    "X, Y, Z = axes3d.get_test_data(0.05)\n",
    "ax.plot_surface(X, Y, Z, rstride=8, cstride=8, alpha=0.3)\n",
    "cset = ax.contour(X, Y, Z, zdir='z', offset=-100, cmap=cm.coolwarm)\n",
    "cset = ax.contour(X, Y, Z, zdir='x', offset=-40, cmap=cm.coolwarm)\n",
    "cset = ax.contour(X, Y, Z, zdir='y', offset=40, cmap=cm.coolwarm)\n",
    "\n",
    "ax.set_xlabel('X')\n",
    "ax.set_xlim(-40, 40)\n",
    "ax.set_ylabel('Y')\n",
    "ax.set_ylim(-40, 40)\n",
    "ax.set_zlabel('Z')\n",
    "ax.set_zlim(-100, 100)\n",
    "\n",
    "plt.show()"
   ]
  },
  {
   "cell_type": "markdown",
   "metadata": {
    "deletable": false,
    "editable": false,
    "nbgrader": {
     "checksum": "d273b3367403009b836a63a9f643933e",
     "grade": false,
     "grade_id": "cell-016551ec102a904e",
     "locked": true,
     "schema_version": 1,
     "solution": false
    }
   },
   "source": [
    "### Pandas (http://pandas.pydata.org/)\n",
    "`Pandas` to moduł do szybkiego i wygodnego przetwarzania i analizowania danych w postaci tabel."
   ]
  },
  {
   "cell_type": "code",
   "execution_count": 46,
   "metadata": {},
   "outputs": [],
   "source": [
    "# import modułu pandas\n",
    "import pandas as pd"
   ]
  },
  {
   "cell_type": "markdown",
   "metadata": {
    "deletable": false,
    "editable": false,
    "nbgrader": {
     "checksum": "ef0bbe4e43910ae3cd02384632cb042a",
     "grade": false,
     "grade_id": "cell-39399e23796475e9",
     "locked": true,
     "schema_version": 1,
     "solution": false
    }
   },
   "source": [
    "Podstawowym obiektem modułu `pandas` jest `DataFrame`."
   ]
  },
  {
   "cell_type": "code",
   "execution_count": 47,
   "metadata": {},
   "outputs": [],
   "source": [
    "# stworzenie obiektu dataframe\n",
    "df = pd.DataFrame([[1,2,3],[1,2,3]], columns=['A','B','C'])"
   ]
  },
  {
   "cell_type": "code",
   "execution_count": 48,
   "metadata": {},
   "outputs": [
    {
     "data": {
      "text/html": [
       "<div>\n",
       "<style scoped>\n",
       "    .dataframe tbody tr th:only-of-type {\n",
       "        vertical-align: middle;\n",
       "    }\n",
       "\n",
       "    .dataframe tbody tr th {\n",
       "        vertical-align: top;\n",
       "    }\n",
       "\n",
       "    .dataframe thead th {\n",
       "        text-align: right;\n",
       "    }\n",
       "</style>\n",
       "<table border=\"1\" class=\"dataframe\">\n",
       "  <thead>\n",
       "    <tr style=\"text-align: right;\">\n",
       "      <th></th>\n",
       "      <th>A</th>\n",
       "      <th>B</th>\n",
       "      <th>C</th>\n",
       "    </tr>\n",
       "  </thead>\n",
       "  <tbody>\n",
       "    <tr>\n",
       "      <th>0</th>\n",
       "      <td>1</td>\n",
       "      <td>2</td>\n",
       "      <td>3</td>\n",
       "    </tr>\n",
       "    <tr>\n",
       "      <th>1</th>\n",
       "      <td>1</td>\n",
       "      <td>2</td>\n",
       "      <td>3</td>\n",
       "    </tr>\n",
       "  </tbody>\n",
       "</table>\n",
       "</div>"
      ],
      "text/plain": [
       "   A  B  C\n",
       "0  1  2  3\n",
       "1  1  2  3"
      ]
     },
     "execution_count": 48,
     "metadata": {},
     "output_type": "execute_result"
    }
   ],
   "source": [
    "df"
   ]
  },
  {
   "cell_type": "markdown",
   "metadata": {
    "deletable": false,
    "editable": false,
    "nbgrader": {
     "checksum": "16b36296eb6ecd8f40a5e7bd12c264d9",
     "grade": false,
     "grade_id": "cell-56a9ba745a61d389",
     "locked": true,
     "schema_version": 1,
     "solution": false
    }
   },
   "source": [
    "Obiekt `DataFrame` możemy stworzyć bezpośrednio wczytując dane z pliku np. txt, csv, xls itp."
   ]
  },
  {
   "cell_type": "code",
   "execution_count": 49,
   "metadata": {},
   "outputs": [],
   "source": [
    "# wczytanie danych z pliku xls\n",
    "df_titanic = pd.read_excel('titanic.xls')"
   ]
  },
  {
   "cell_type": "code",
   "execution_count": 50,
   "metadata": {},
   "outputs": [
    {
     "data": {
      "text/html": [
       "<div>\n",
       "<style scoped>\n",
       "    .dataframe tbody tr th:only-of-type {\n",
       "        vertical-align: middle;\n",
       "    }\n",
       "\n",
       "    .dataframe tbody tr th {\n",
       "        vertical-align: top;\n",
       "    }\n",
       "\n",
       "    .dataframe thead th {\n",
       "        text-align: right;\n",
       "    }\n",
       "</style>\n",
       "<table border=\"1\" class=\"dataframe\">\n",
       "  <thead>\n",
       "    <tr style=\"text-align: right;\">\n",
       "      <th></th>\n",
       "      <th>pclass</th>\n",
       "      <th>survived</th>\n",
       "      <th>name</th>\n",
       "      <th>sex</th>\n",
       "      <th>age</th>\n",
       "      <th>sibsp</th>\n",
       "      <th>parch</th>\n",
       "      <th>ticket</th>\n",
       "      <th>fare</th>\n",
       "      <th>cabin</th>\n",
       "      <th>embarked</th>\n",
       "      <th>boat</th>\n",
       "      <th>body</th>\n",
       "      <th>home.dest</th>\n",
       "    </tr>\n",
       "  </thead>\n",
       "  <tbody>\n",
       "    <tr>\n",
       "      <th>0</th>\n",
       "      <td>1</td>\n",
       "      <td>1</td>\n",
       "      <td>Allen, Miss. Elisabeth Walton</td>\n",
       "      <td>female</td>\n",
       "      <td>29.0000</td>\n",
       "      <td>0</td>\n",
       "      <td>0</td>\n",
       "      <td>24160</td>\n",
       "      <td>211.3375</td>\n",
       "      <td>B5</td>\n",
       "      <td>S</td>\n",
       "      <td>2</td>\n",
       "      <td>NaN</td>\n",
       "      <td>St Louis, MO</td>\n",
       "    </tr>\n",
       "    <tr>\n",
       "      <th>1</th>\n",
       "      <td>1</td>\n",
       "      <td>1</td>\n",
       "      <td>Allison, Master. Hudson Trevor</td>\n",
       "      <td>male</td>\n",
       "      <td>0.9167</td>\n",
       "      <td>1</td>\n",
       "      <td>2</td>\n",
       "      <td>113781</td>\n",
       "      <td>151.5500</td>\n",
       "      <td>C22 C26</td>\n",
       "      <td>S</td>\n",
       "      <td>11</td>\n",
       "      <td>NaN</td>\n",
       "      <td>Montreal, PQ / Chesterville, ON</td>\n",
       "    </tr>\n",
       "    <tr>\n",
       "      <th>2</th>\n",
       "      <td>1</td>\n",
       "      <td>0</td>\n",
       "      <td>Allison, Miss. Helen Loraine</td>\n",
       "      <td>female</td>\n",
       "      <td>2.0000</td>\n",
       "      <td>1</td>\n",
       "      <td>2</td>\n",
       "      <td>113781</td>\n",
       "      <td>151.5500</td>\n",
       "      <td>C22 C26</td>\n",
       "      <td>S</td>\n",
       "      <td>NaN</td>\n",
       "      <td>NaN</td>\n",
       "      <td>Montreal, PQ / Chesterville, ON</td>\n",
       "    </tr>\n",
       "    <tr>\n",
       "      <th>3</th>\n",
       "      <td>1</td>\n",
       "      <td>0</td>\n",
       "      <td>Allison, Mr. Hudson Joshua Creighton</td>\n",
       "      <td>male</td>\n",
       "      <td>30.0000</td>\n",
       "      <td>1</td>\n",
       "      <td>2</td>\n",
       "      <td>113781</td>\n",
       "      <td>151.5500</td>\n",
       "      <td>C22 C26</td>\n",
       "      <td>S</td>\n",
       "      <td>NaN</td>\n",
       "      <td>135.0</td>\n",
       "      <td>Montreal, PQ / Chesterville, ON</td>\n",
       "    </tr>\n",
       "    <tr>\n",
       "      <th>4</th>\n",
       "      <td>1</td>\n",
       "      <td>0</td>\n",
       "      <td>Allison, Mrs. Hudson J C (Bessie Waldo Daniels)</td>\n",
       "      <td>female</td>\n",
       "      <td>25.0000</td>\n",
       "      <td>1</td>\n",
       "      <td>2</td>\n",
       "      <td>113781</td>\n",
       "      <td>151.5500</td>\n",
       "      <td>C22 C26</td>\n",
       "      <td>S</td>\n",
       "      <td>NaN</td>\n",
       "      <td>NaN</td>\n",
       "      <td>Montreal, PQ / Chesterville, ON</td>\n",
       "    </tr>\n",
       "    <tr>\n",
       "      <th>5</th>\n",
       "      <td>1</td>\n",
       "      <td>1</td>\n",
       "      <td>Anderson, Mr. Harry</td>\n",
       "      <td>male</td>\n",
       "      <td>48.0000</td>\n",
       "      <td>0</td>\n",
       "      <td>0</td>\n",
       "      <td>19952</td>\n",
       "      <td>26.5500</td>\n",
       "      <td>E12</td>\n",
       "      <td>S</td>\n",
       "      <td>3</td>\n",
       "      <td>NaN</td>\n",
       "      <td>New York, NY</td>\n",
       "    </tr>\n",
       "  </tbody>\n",
       "</table>\n",
       "</div>"
      ],
      "text/plain": [
       "   pclass  survived                                             name     sex  \\\n",
       "0       1         1                    Allen, Miss. Elisabeth Walton  female   \n",
       "1       1         1                   Allison, Master. Hudson Trevor    male   \n",
       "2       1         0                     Allison, Miss. Helen Loraine  female   \n",
       "3       1         0             Allison, Mr. Hudson Joshua Creighton    male   \n",
       "4       1         0  Allison, Mrs. Hudson J C (Bessie Waldo Daniels)  female   \n",
       "5       1         1                              Anderson, Mr. Harry    male   \n",
       "\n",
       "       age  sibsp  parch  ticket      fare    cabin embarked boat   body  \\\n",
       "0  29.0000      0      0   24160  211.3375       B5        S    2    NaN   \n",
       "1   0.9167      1      2  113781  151.5500  C22 C26        S   11    NaN   \n",
       "2   2.0000      1      2  113781  151.5500  C22 C26        S  NaN    NaN   \n",
       "3  30.0000      1      2  113781  151.5500  C22 C26        S  NaN  135.0   \n",
       "4  25.0000      1      2  113781  151.5500  C22 C26        S  NaN    NaN   \n",
       "5  48.0000      0      0   19952   26.5500      E12        S    3    NaN   \n",
       "\n",
       "                         home.dest  \n",
       "0                     St Louis, MO  \n",
       "1  Montreal, PQ / Chesterville, ON  \n",
       "2  Montreal, PQ / Chesterville, ON  \n",
       "3  Montreal, PQ / Chesterville, ON  \n",
       "4  Montreal, PQ / Chesterville, ON  \n",
       "5                     New York, NY  "
      ]
     },
     "execution_count": 50,
     "metadata": {},
     "output_type": "execute_result"
    }
   ],
   "source": [
    "# wyświetlenie pierwszych n wierszy\n",
    "df_titanic.head(6)"
   ]
  },
  {
   "cell_type": "code",
   "execution_count": 51,
   "metadata": {},
   "outputs": [
    {
     "data": {
      "text/html": [
       "<div>\n",
       "<style scoped>\n",
       "    .dataframe tbody tr th:only-of-type {\n",
       "        vertical-align: middle;\n",
       "    }\n",
       "\n",
       "    .dataframe tbody tr th {\n",
       "        vertical-align: top;\n",
       "    }\n",
       "\n",
       "    .dataframe thead th {\n",
       "        text-align: right;\n",
       "    }\n",
       "</style>\n",
       "<table border=\"1\" class=\"dataframe\">\n",
       "  <thead>\n",
       "    <tr style=\"text-align: right;\">\n",
       "      <th></th>\n",
       "      <th>pclass</th>\n",
       "      <th>survived</th>\n",
       "      <th>name</th>\n",
       "      <th>sex</th>\n",
       "      <th>age</th>\n",
       "      <th>sibsp</th>\n",
       "      <th>parch</th>\n",
       "      <th>ticket</th>\n",
       "      <th>fare</th>\n",
       "      <th>cabin</th>\n",
       "      <th>embarked</th>\n",
       "      <th>boat</th>\n",
       "      <th>body</th>\n",
       "      <th>home.dest</th>\n",
       "    </tr>\n",
       "  </thead>\n",
       "  <tbody>\n",
       "    <tr>\n",
       "      <th>1303</th>\n",
       "      <td>3</td>\n",
       "      <td>0</td>\n",
       "      <td>Yousseff, Mr. Gerious</td>\n",
       "      <td>male</td>\n",
       "      <td>NaN</td>\n",
       "      <td>0</td>\n",
       "      <td>0</td>\n",
       "      <td>2627</td>\n",
       "      <td>14.4583</td>\n",
       "      <td>NaN</td>\n",
       "      <td>C</td>\n",
       "      <td>NaN</td>\n",
       "      <td>NaN</td>\n",
       "      <td>NaN</td>\n",
       "    </tr>\n",
       "    <tr>\n",
       "      <th>1304</th>\n",
       "      <td>3</td>\n",
       "      <td>0</td>\n",
       "      <td>Zabour, Miss. Hileni</td>\n",
       "      <td>female</td>\n",
       "      <td>14.5</td>\n",
       "      <td>1</td>\n",
       "      <td>0</td>\n",
       "      <td>2665</td>\n",
       "      <td>14.4542</td>\n",
       "      <td>NaN</td>\n",
       "      <td>C</td>\n",
       "      <td>NaN</td>\n",
       "      <td>328.0</td>\n",
       "      <td>NaN</td>\n",
       "    </tr>\n",
       "    <tr>\n",
       "      <th>1305</th>\n",
       "      <td>3</td>\n",
       "      <td>0</td>\n",
       "      <td>Zabour, Miss. Thamine</td>\n",
       "      <td>female</td>\n",
       "      <td>NaN</td>\n",
       "      <td>1</td>\n",
       "      <td>0</td>\n",
       "      <td>2665</td>\n",
       "      <td>14.4542</td>\n",
       "      <td>NaN</td>\n",
       "      <td>C</td>\n",
       "      <td>NaN</td>\n",
       "      <td>NaN</td>\n",
       "      <td>NaN</td>\n",
       "    </tr>\n",
       "    <tr>\n",
       "      <th>1306</th>\n",
       "      <td>3</td>\n",
       "      <td>0</td>\n",
       "      <td>Zakarian, Mr. Mapriededer</td>\n",
       "      <td>male</td>\n",
       "      <td>26.5</td>\n",
       "      <td>0</td>\n",
       "      <td>0</td>\n",
       "      <td>2656</td>\n",
       "      <td>7.2250</td>\n",
       "      <td>NaN</td>\n",
       "      <td>C</td>\n",
       "      <td>NaN</td>\n",
       "      <td>304.0</td>\n",
       "      <td>NaN</td>\n",
       "    </tr>\n",
       "    <tr>\n",
       "      <th>1307</th>\n",
       "      <td>3</td>\n",
       "      <td>0</td>\n",
       "      <td>Zakarian, Mr. Ortin</td>\n",
       "      <td>male</td>\n",
       "      <td>27.0</td>\n",
       "      <td>0</td>\n",
       "      <td>0</td>\n",
       "      <td>2670</td>\n",
       "      <td>7.2250</td>\n",
       "      <td>NaN</td>\n",
       "      <td>C</td>\n",
       "      <td>NaN</td>\n",
       "      <td>NaN</td>\n",
       "      <td>NaN</td>\n",
       "    </tr>\n",
       "    <tr>\n",
       "      <th>1308</th>\n",
       "      <td>3</td>\n",
       "      <td>0</td>\n",
       "      <td>Zimmerman, Mr. Leo</td>\n",
       "      <td>male</td>\n",
       "      <td>29.0</td>\n",
       "      <td>0</td>\n",
       "      <td>0</td>\n",
       "      <td>315082</td>\n",
       "      <td>7.8750</td>\n",
       "      <td>NaN</td>\n",
       "      <td>S</td>\n",
       "      <td>NaN</td>\n",
       "      <td>NaN</td>\n",
       "      <td>NaN</td>\n",
       "    </tr>\n",
       "  </tbody>\n",
       "</table>\n",
       "</div>"
      ],
      "text/plain": [
       "      pclass  survived                       name     sex   age  sibsp  parch  \\\n",
       "1303       3         0      Yousseff, Mr. Gerious    male   NaN      0      0   \n",
       "1304       3         0       Zabour, Miss. Hileni  female  14.5      1      0   \n",
       "1305       3         0      Zabour, Miss. Thamine  female   NaN      1      0   \n",
       "1306       3         0  Zakarian, Mr. Mapriededer    male  26.5      0      0   \n",
       "1307       3         0        Zakarian, Mr. Ortin    male  27.0      0      0   \n",
       "1308       3         0         Zimmerman, Mr. Leo    male  29.0      0      0   \n",
       "\n",
       "      ticket     fare cabin embarked boat   body home.dest  \n",
       "1303    2627  14.4583   NaN        C  NaN    NaN       NaN  \n",
       "1304    2665  14.4542   NaN        C  NaN  328.0       NaN  \n",
       "1305    2665  14.4542   NaN        C  NaN    NaN       NaN  \n",
       "1306    2656   7.2250   NaN        C  NaN  304.0       NaN  \n",
       "1307    2670   7.2250   NaN        C  NaN    NaN       NaN  \n",
       "1308  315082   7.8750   NaN        S  NaN    NaN       NaN  "
      ]
     },
     "execution_count": 51,
     "metadata": {},
     "output_type": "execute_result"
    }
   ],
   "source": [
    "# wyświetlenie ostatnich n wierszy\n",
    "df_titanic.tail(6)"
   ]
  },
  {
   "cell_type": "code",
   "execution_count": 52,
   "metadata": {},
   "outputs": [
    {
     "data": {
      "text/html": [
       "<div>\n",
       "<style scoped>\n",
       "    .dataframe tbody tr th:only-of-type {\n",
       "        vertical-align: middle;\n",
       "    }\n",
       "\n",
       "    .dataframe tbody tr th {\n",
       "        vertical-align: top;\n",
       "    }\n",
       "\n",
       "    .dataframe thead th {\n",
       "        text-align: right;\n",
       "    }\n",
       "</style>\n",
       "<table border=\"1\" class=\"dataframe\">\n",
       "  <thead>\n",
       "    <tr style=\"text-align: right;\">\n",
       "      <th></th>\n",
       "      <th>count</th>\n",
       "      <th>mean</th>\n",
       "      <th>std</th>\n",
       "      <th>min</th>\n",
       "      <th>25%</th>\n",
       "      <th>50%</th>\n",
       "      <th>75%</th>\n",
       "      <th>max</th>\n",
       "    </tr>\n",
       "  </thead>\n",
       "  <tbody>\n",
       "    <tr>\n",
       "      <th>pclass</th>\n",
       "      <td>1309.0</td>\n",
       "      <td>2.294882</td>\n",
       "      <td>0.837836</td>\n",
       "      <td>1.0000</td>\n",
       "      <td>2.0000</td>\n",
       "      <td>3.0000</td>\n",
       "      <td>3.000</td>\n",
       "      <td>3.0000</td>\n",
       "    </tr>\n",
       "    <tr>\n",
       "      <th>survived</th>\n",
       "      <td>1309.0</td>\n",
       "      <td>0.381971</td>\n",
       "      <td>0.486055</td>\n",
       "      <td>0.0000</td>\n",
       "      <td>0.0000</td>\n",
       "      <td>0.0000</td>\n",
       "      <td>1.000</td>\n",
       "      <td>1.0000</td>\n",
       "    </tr>\n",
       "    <tr>\n",
       "      <th>age</th>\n",
       "      <td>1046.0</td>\n",
       "      <td>29.881135</td>\n",
       "      <td>14.413500</td>\n",
       "      <td>0.1667</td>\n",
       "      <td>21.0000</td>\n",
       "      <td>28.0000</td>\n",
       "      <td>39.000</td>\n",
       "      <td>80.0000</td>\n",
       "    </tr>\n",
       "    <tr>\n",
       "      <th>sibsp</th>\n",
       "      <td>1309.0</td>\n",
       "      <td>0.498854</td>\n",
       "      <td>1.041658</td>\n",
       "      <td>0.0000</td>\n",
       "      <td>0.0000</td>\n",
       "      <td>0.0000</td>\n",
       "      <td>1.000</td>\n",
       "      <td>8.0000</td>\n",
       "    </tr>\n",
       "    <tr>\n",
       "      <th>parch</th>\n",
       "      <td>1309.0</td>\n",
       "      <td>0.385027</td>\n",
       "      <td>0.865560</td>\n",
       "      <td>0.0000</td>\n",
       "      <td>0.0000</td>\n",
       "      <td>0.0000</td>\n",
       "      <td>0.000</td>\n",
       "      <td>9.0000</td>\n",
       "    </tr>\n",
       "    <tr>\n",
       "      <th>fare</th>\n",
       "      <td>1308.0</td>\n",
       "      <td>33.295479</td>\n",
       "      <td>51.758668</td>\n",
       "      <td>0.0000</td>\n",
       "      <td>7.8958</td>\n",
       "      <td>14.4542</td>\n",
       "      <td>31.275</td>\n",
       "      <td>512.3292</td>\n",
       "    </tr>\n",
       "    <tr>\n",
       "      <th>body</th>\n",
       "      <td>121.0</td>\n",
       "      <td>160.809917</td>\n",
       "      <td>97.696922</td>\n",
       "      <td>1.0000</td>\n",
       "      <td>72.0000</td>\n",
       "      <td>155.0000</td>\n",
       "      <td>256.000</td>\n",
       "      <td>328.0000</td>\n",
       "    </tr>\n",
       "  </tbody>\n",
       "</table>\n",
       "</div>"
      ],
      "text/plain": [
       "           count        mean        std     min      25%       50%      75%  \\\n",
       "pclass    1309.0    2.294882   0.837836  1.0000   2.0000    3.0000    3.000   \n",
       "survived  1309.0    0.381971   0.486055  0.0000   0.0000    0.0000    1.000   \n",
       "age       1046.0   29.881135  14.413500  0.1667  21.0000   28.0000   39.000   \n",
       "sibsp     1309.0    0.498854   1.041658  0.0000   0.0000    0.0000    1.000   \n",
       "parch     1309.0    0.385027   0.865560  0.0000   0.0000    0.0000    0.000   \n",
       "fare      1308.0   33.295479  51.758668  0.0000   7.8958   14.4542   31.275   \n",
       "body       121.0  160.809917  97.696922  1.0000  72.0000  155.0000  256.000   \n",
       "\n",
       "               max  \n",
       "pclass      3.0000  \n",
       "survived    1.0000  \n",
       "age        80.0000  \n",
       "sibsp       8.0000  \n",
       "parch       9.0000  \n",
       "fare      512.3292  \n",
       "body      328.0000  "
      ]
     },
     "execution_count": 52,
     "metadata": {},
     "output_type": "execute_result"
    }
   ],
   "source": [
    "# wyświetlenie podstawowych statystyk\n",
    "df_titanic.describe().T  #transpozycja dla lepszej czytelności\n",
    "# wyniki tylko dla kolumn zawierających dane liczbowe"
   ]
  },
  {
   "cell_type": "code",
   "execution_count": 53,
   "metadata": {},
   "outputs": [
    {
     "data": {
      "text/plain": [
       "0    29.0000\n",
       "1     0.9167\n",
       "2     2.0000\n",
       "3    30.0000\n",
       "4    25.0000\n",
       "5    48.0000\n",
       "6    63.0000\n",
       "7    39.0000\n",
       "8    53.0000\n",
       "9    71.0000\n",
       "Name: age, dtype: float64"
      ]
     },
     "execution_count": 53,
     "metadata": {},
     "output_type": "execute_result"
    }
   ],
   "source": [
    "# odwołanie do konkretnej kolumny\n",
    "df_titanic['age'][:10]  # pierwsze 10"
   ]
  },
  {
   "cell_type": "code",
   "execution_count": 54,
   "metadata": {},
   "outputs": [
    {
     "data": {
      "text/plain": [
       "0    29.0000\n",
       "1     0.9167\n",
       "2     2.0000\n",
       "3    30.0000\n",
       "4    25.0000\n",
       "5    48.0000\n",
       "6    63.0000\n",
       "7    39.0000\n",
       "8    53.0000\n",
       "9    71.0000\n",
       "Name: age, dtype: float64"
      ]
     },
     "execution_count": 54,
     "metadata": {},
     "output_type": "execute_result"
    }
   ],
   "source": [
    "# to samo uzyskamy pisząc\n",
    "df_titanic.age[:10]"
   ]
  },
  {
   "cell_type": "code",
   "execution_count": 55,
   "metadata": {},
   "outputs": [
    {
     "data": {
      "text/plain": [
       "Index(['pclass', 'survived', 'name', 'sex', 'age', 'sibsp', 'parch', 'ticket',\n",
       "       'fare', 'cabin', 'embarked', 'boat', 'body', 'home.dest'],\n",
       "      dtype='object')"
      ]
     },
     "execution_count": 55,
     "metadata": {},
     "output_type": "execute_result"
    }
   ],
   "source": [
    "# lista nazw kolumn\n",
    "df_titanic.columns"
   ]
  },
  {
   "cell_type": "markdown",
   "metadata": {
    "deletable": false,
    "editable": false,
    "nbgrader": {
     "checksum": "cd2729ef24b0f98d3ad61e35fc9e0e2e",
     "grade": false,
     "grade_id": "cell-ad3e942cbd8fa3d9",
     "locked": true,
     "schema_version": 1,
     "solution": false
    }
   },
   "source": [
    "Brakujące dane w komórkach zastępowane są poprzez obiekt `NaN`."
   ]
  },
  {
   "cell_type": "code",
   "execution_count": 56,
   "metadata": {},
   "outputs": [
    {
     "data": {
      "text/plain": [
       "pclass          0\n",
       "survived        0\n",
       "name            0\n",
       "sex             0\n",
       "age           263\n",
       "sibsp           0\n",
       "parch           0\n",
       "ticket          0\n",
       "fare            1\n",
       "cabin        1014\n",
       "embarked        2\n",
       "boat          823\n",
       "body         1188\n",
       "home.dest     564\n",
       "dtype: int64"
      ]
     },
     "execution_count": 56,
     "metadata": {},
     "output_type": "execute_result"
    }
   ],
   "source": [
    "# policzenie liczby brakujących wartości w poszczególnych kolumnach\n",
    "df_titanic.apply(lambda x: sum(x.isnull()),axis=0)"
   ]
  },
  {
   "cell_type": "code",
   "execution_count": 57,
   "metadata": {},
   "outputs": [
    {
     "data": {
      "text/plain": [
       "pclass       0\n",
       "survived     0\n",
       "name         0\n",
       "sex          0\n",
       "age          0\n",
       "sibsp        0\n",
       "parch        0\n",
       "ticket       0\n",
       "fare         0\n",
       "cabin        0\n",
       "embarked     0\n",
       "boat         0\n",
       "body         0\n",
       "home.dest    0\n",
       "dtype: int64"
      ]
     },
     "execution_count": 57,
     "metadata": {},
     "output_type": "execute_result"
    }
   ],
   "source": [
    "# brakujące dane możemy zastąpić ustaloną wartością np. -1\n",
    "df_titanic.fillna(-1, inplace=True)\n",
    "df_titanic.apply(lambda x: sum(x.isnull()),axis=0)"
   ]
  },
  {
   "cell_type": "code",
   "execution_count": 58,
   "metadata": {},
   "outputs": [
    {
     "data": {
      "text/html": [
       "<div>\n",
       "<style scoped>\n",
       "    .dataframe tbody tr th:only-of-type {\n",
       "        vertical-align: middle;\n",
       "    }\n",
       "\n",
       "    .dataframe tbody tr th {\n",
       "        vertical-align: top;\n",
       "    }\n",
       "\n",
       "    .dataframe thead th {\n",
       "        text-align: right;\n",
       "    }\n",
       "</style>\n",
       "<table border=\"1\" class=\"dataframe\">\n",
       "  <thead>\n",
       "    <tr style=\"text-align: right;\">\n",
       "      <th></th>\n",
       "      <th>name</th>\n",
       "      <th>age</th>\n",
       "    </tr>\n",
       "  </thead>\n",
       "  <tbody>\n",
       "    <tr>\n",
       "      <th>0</th>\n",
       "      <td>Allen, Miss. Elisabeth Walton</td>\n",
       "      <td>29.0000</td>\n",
       "    </tr>\n",
       "    <tr>\n",
       "      <th>1</th>\n",
       "      <td>Allison, Master. Hudson Trevor</td>\n",
       "      <td>0.9167</td>\n",
       "    </tr>\n",
       "    <tr>\n",
       "      <th>2</th>\n",
       "      <td>Allison, Miss. Helen Loraine</td>\n",
       "      <td>2.0000</td>\n",
       "    </tr>\n",
       "    <tr>\n",
       "      <th>3</th>\n",
       "      <td>Allison, Mr. Hudson Joshua Creighton</td>\n",
       "      <td>30.0000</td>\n",
       "    </tr>\n",
       "    <tr>\n",
       "      <th>4</th>\n",
       "      <td>Allison, Mrs. Hudson J C (Bessie Waldo Daniels)</td>\n",
       "      <td>25.0000</td>\n",
       "    </tr>\n",
       "  </tbody>\n",
       "</table>\n",
       "</div>"
      ],
      "text/plain": [
       "                                              name      age\n",
       "0                    Allen, Miss. Elisabeth Walton  29.0000\n",
       "1                   Allison, Master. Hudson Trevor   0.9167\n",
       "2                     Allison, Miss. Helen Loraine   2.0000\n",
       "3             Allison, Mr. Hudson Joshua Creighton  30.0000\n",
       "4  Allison, Mrs. Hudson J C (Bessie Waldo Daniels)  25.0000"
      ]
     },
     "execution_count": 58,
     "metadata": {},
     "output_type": "execute_result"
    }
   ],
   "source": [
    "# wybieranie kilku kolumn\n",
    "df_titanic2 = df_titanic[['name','age']]\n",
    "df_titanic2.head()"
   ]
  },
  {
   "cell_type": "code",
   "execution_count": 59,
   "metadata": {},
   "outputs": [
    {
     "data": {
      "text/html": [
       "<div>\n",
       "<style scoped>\n",
       "    .dataframe tbody tr th:only-of-type {\n",
       "        vertical-align: middle;\n",
       "    }\n",
       "\n",
       "    .dataframe tbody tr th {\n",
       "        vertical-align: top;\n",
       "    }\n",
       "\n",
       "    .dataframe thead th {\n",
       "        text-align: right;\n",
       "    }\n",
       "</style>\n",
       "<table border=\"1\" class=\"dataframe\">\n",
       "  <thead>\n",
       "    <tr style=\"text-align: right;\">\n",
       "      <th></th>\n",
       "      <th>pclass</th>\n",
       "      <th>survived</th>\n",
       "      <th>sex</th>\n",
       "      <th>age</th>\n",
       "      <th>sibsp</th>\n",
       "      <th>parch</th>\n",
       "      <th>fare</th>\n",
       "      <th>embarked</th>\n",
       "    </tr>\n",
       "  </thead>\n",
       "  <tbody>\n",
       "    <tr>\n",
       "      <th>0</th>\n",
       "      <td>1</td>\n",
       "      <td>1</td>\n",
       "      <td>female</td>\n",
       "      <td>29.0000</td>\n",
       "      <td>0</td>\n",
       "      <td>0</td>\n",
       "      <td>211.3375</td>\n",
       "      <td>S</td>\n",
       "    </tr>\n",
       "    <tr>\n",
       "      <th>1</th>\n",
       "      <td>1</td>\n",
       "      <td>1</td>\n",
       "      <td>male</td>\n",
       "      <td>0.9167</td>\n",
       "      <td>1</td>\n",
       "      <td>2</td>\n",
       "      <td>151.5500</td>\n",
       "      <td>S</td>\n",
       "    </tr>\n",
       "    <tr>\n",
       "      <th>2</th>\n",
       "      <td>1</td>\n",
       "      <td>0</td>\n",
       "      <td>female</td>\n",
       "      <td>2.0000</td>\n",
       "      <td>1</td>\n",
       "      <td>2</td>\n",
       "      <td>151.5500</td>\n",
       "      <td>S</td>\n",
       "    </tr>\n",
       "    <tr>\n",
       "      <th>3</th>\n",
       "      <td>1</td>\n",
       "      <td>0</td>\n",
       "      <td>male</td>\n",
       "      <td>30.0000</td>\n",
       "      <td>1</td>\n",
       "      <td>2</td>\n",
       "      <td>151.5500</td>\n",
       "      <td>S</td>\n",
       "    </tr>\n",
       "    <tr>\n",
       "      <th>4</th>\n",
       "      <td>1</td>\n",
       "      <td>0</td>\n",
       "      <td>female</td>\n",
       "      <td>25.0000</td>\n",
       "      <td>1</td>\n",
       "      <td>2</td>\n",
       "      <td>151.5500</td>\n",
       "      <td>S</td>\n",
       "    </tr>\n",
       "  </tbody>\n",
       "</table>\n",
       "</div>"
      ],
      "text/plain": [
       "   pclass  survived     sex      age  sibsp  parch      fare embarked\n",
       "0       1         1  female  29.0000      0      0  211.3375        S\n",
       "1       1         1    male   0.9167      1      2  151.5500        S\n",
       "2       1         0  female   2.0000      1      2  151.5500        S\n",
       "3       1         0    male  30.0000      1      2  151.5500        S\n",
       "4       1         0  female  25.0000      1      2  151.5500        S"
      ]
     },
     "execution_count": 59,
     "metadata": {},
     "output_type": "execute_result"
    }
   ],
   "source": [
    "# usuwanie kolumn\n",
    "df_titanic = df_titanic.drop(['name','cabin','boat', 'body', 'ticket', 'home.dest'], 1)\n",
    "df_titanic.head()"
   ]
  },
  {
   "cell_type": "code",
   "execution_count": 60,
   "metadata": {},
   "outputs": [
    {
     "name": "stdout",
     "output_type": "stream",
     "text": [
      "pclass [1 2 3]\n",
      "survived [1 0]\n",
      "sex ['female' 'male']\n",
      "age [29.      0.9167  2.     30.     25.     48.     63.     39.     53.\n",
      " 71.     47.     18.     24.     26.     80.     -1.     50.     32.\n",
      " 36.     37.     42.     19.     35.     28.     45.     40.     58.\n",
      " 22.     41.     44.     59.     60.     33.     17.     11.     14.\n",
      " 49.     76.     46.     27.     64.     55.     70.     38.     51.\n",
      " 31.      4.     54.     23.     43.     52.     16.     32.5    21.\n",
      " 15.     65.     28.5    45.5    56.     13.     61.     34.      6.\n",
      " 57.     62.     67.      1.     12.     20.      0.8333  8.      0.6667\n",
      "  7.      3.     36.5    18.5     5.     66.      9.      0.75   70.5\n",
      " 22.5     0.3333  0.1667 40.5    10.     23.5    34.5    20.5    30.5\n",
      " 55.5    38.5    14.5    24.5    60.5    74.      0.4167 11.5    26.5   ]\n",
      "sibsp [0 1 2 3 4 5 8]\n",
      "parch [0 2 1 4 3 5 6 9]\n",
      "fare [211.3375 151.55    26.55    77.9583   0.      51.4792  49.5042 227.525\n",
      "  69.3     78.85    30.      25.925  247.5208  76.2917  75.2417  52.5542\n",
      " 221.7792  26.      91.0792 135.6333  35.5     31.     164.8667 262.375\n",
      "  55.      30.5     50.4958  39.6     27.7208 134.5     26.2875  27.4458\n",
      " 512.3292   5.      47.1    120.      61.175   53.1     86.5     29.7\n",
      " 136.7792  52.      25.5875  83.1583  25.7     71.      71.2833  57.\n",
      "  81.8583 106.425   56.9292  78.2667  31.6792  31.6833 110.8833  26.3875\n",
      "  27.75   263.     133.65    49.5     79.2     38.5    211.5     59.4\n",
      "  89.1042  34.6542  28.5    153.4625  63.3583  55.4417  76.7292  42.4\n",
      "  83.475   93.5     42.5     51.8625  50.      57.9792  90.      30.6958\n",
      "  80.      28.7125  25.9292  39.4     45.5    146.5208  82.1708  57.75\n",
      " 113.275   26.2833 108.9     25.7417  61.9792  66.6     40.125   55.9\n",
      "  60.      82.2667  32.3208  79.65    28.5375  33.5     34.0208  75.25\n",
      "  77.2875  61.3792  35.      24.      13.      11.5     10.5     12.525\n",
      "  39.      29.      21.      13.5     26.25    36.75    73.5     31.5\n",
      "  23.      32.5     13.8583  14.5     33.      65.      16.      12.275\n",
      "  27.      15.      13.7917  12.35    10.7083  41.5792  12.      12.875\n",
      "  15.0458  37.0042  15.5792  19.5     14.       9.6875  30.0708  13.8625\n",
      "  15.05    12.7375  15.0333  18.75    12.65    15.75     7.55    20.25\n",
      "   7.65     7.925    7.2292   7.25     8.05     9.475    9.35    18.7875\n",
      "   7.8875   7.05     8.3     22.525    7.8542  31.275    7.775    7.7958\n",
      "   7.8958  17.8     31.3875   7.225   14.4583  15.85    19.2583  14.4542\n",
      "   7.8792   4.0125  56.4958   7.75    15.2458  15.5     16.1      7.725\n",
      "   7.0458   7.2833   7.8208   6.75     8.6625   7.7333   7.4958   7.6292\n",
      "  15.9      8.1583  10.5167  10.1708   6.95    14.4     24.15    17.4\n",
      "   9.5     20.575   12.475   13.9      6.975   15.1     34.375    7.7417\n",
      "  20.525    7.85    46.9      8.3625   9.8458   8.85    19.9667  14.1083\n",
      "   6.8583   8.9625  12.2875   6.45     7.0542   8.1125   6.4958   8.6542\n",
      "  11.1333  23.45     9.825    7.125    8.4333   7.5208  13.4167   7.8292\n",
      "   7.7375  22.025   12.1833   9.5875   9.4833  25.4667   6.4375  15.55\n",
      "   7.5792   7.1417  23.25     7.7875   8.0292   8.4583  15.7417  11.2417\n",
      "   7.8      6.2375   9.225    3.1708   8.4042   7.3125   9.2167   8.6833\n",
      "  21.075   39.6875   8.7125  13.775    7.      22.3583   8.1375  29.125\n",
      "   7.7208  20.2125   7.7292   7.575   69.55     9.325   21.6792  16.7\n",
      "   7.7792  27.9     -1.       9.8375  10.4625   8.5167   9.8417   9.\n",
      "  18.       7.875 ]\n",
      "embarked ['S' 'C' -1 'Q']\n"
     ]
    }
   ],
   "source": [
    "# unikalne wartości w kolumnach\n",
    "for col in df_titanic.columns:\n",
    "    print(col, df_titanic[col].unique())"
   ]
  },
  {
   "cell_type": "markdown",
   "metadata": {
    "deletable": false,
    "editable": false,
    "nbgrader": {
     "checksum": "00fa070f0a40f700bf25b823ead1ab9c",
     "grade": false,
     "grade_id": "cell-86d87d4bd4ef4b8d",
     "locked": true,
     "schema_version": 1,
     "solution": false
    }
   },
   "source": [
    "Rysowanie wykresów bezpośednio z tabel."
   ]
  },
  {
   "cell_type": "code",
   "execution_count": 61,
   "metadata": {},
   "outputs": [
    {
     "data": {
      "image/png": "[encoded data removed]",
      "text/plain": [
       "<Figure size 432x288 with 1 Axes>"
      ]
     },
     "metadata": {
      "needs_background": "light"
     },
     "output_type": "display_data"
    }
   ],
   "source": [
    "import matplotlib.pyplot as plt\n",
    "# rozkład wieku\n",
    "df_titanic['age'].hist()  # pik w -1 to nasze brakujące dane\n",
    "plt.show()"
   ]
  },
  {
   "cell_type": "code",
   "execution_count": 62,
   "metadata": {},
   "outputs": [
    {
     "data": {
      "image/png": "[encoded data removed]",
      "text/plain": [
       "<Figure size 432x288 with 1 Axes>"
      ]
     },
     "metadata": {
      "needs_background": "light"
     },
     "output_type": "display_data"
    }
   ],
   "source": [
    "# bar plot z dwóch kolumn\n",
    "ct = pd.crosstab(df_titanic['pclass'], df_titanic['survived'])\n",
    "ct.plot(kind='bar')\n",
    "plt.show()"
   ]
  },
  {
   "cell_type": "markdown",
   "metadata": {
    "deletable": false,
    "editable": false,
    "nbgrader": {
     "checksum": "a447eb263278e7192b99553852a1cb6a",
     "grade": false,
     "grade_id": "cell-1a2553eea2bb61fe",
     "locked": true,
     "schema_version": 1,
     "solution": false
    }
   },
   "source": [
    "Na danych w postaci obiektów `DataFrame` można wykonywać bardzo dużo przeróżnych operacji jak również pracować z nimi jak z tabelami w bazach danych (zapytania SQL). Więcej w dokumentacji."
   ]
  },
  {
   "cell_type": "markdown",
   "metadata": {
    "deletable": false,
    "editable": false,
    "nbgrader": {
     "checksum": "24ecf5320cd7cb9cb81c0b0146080365",
     "grade": false,
     "grade_id": "cell-97e6dcb0f453b0b1",
     "locked": true,
     "schema_version": 1,
     "solution": false
    }
   },
   "source": [
    "### Przedstawione wyżej przykłady to tylko bardzo niewielki przykład możliwości modułów numpy, scipy, matplotlib oraz pandas. Zachęcam do poczytania (przeglądnięcia) dokumentacji tych modułów."
   ]
  },
  {
   "cell_type": "markdown",
   "metadata": {
    "deletable": false,
    "editable": false,
    "nbgrader": {
     "checksum": "3a35f89bc9e3109bf1ac0cccaea5eded",
     "grade": false,
     "grade_id": "cell-22fcc0f320216f27",
     "locked": true,
     "schema_version": 1,
     "solution": false
    }
   },
   "source": [
    "## Zadanie 1:\n",
    "Napisz funkcję wyliczającą macierz odległości (euklidesowych) dla podanego zbioru wektorów. Funkcja powinna działać dla dowolnej liczby wektorów oraz dowolnego wymiaru tych wektorów.\n",
    "\n",
    "Macierz odległości $M = [m_{ij}]$, gdzie $m_{ij}$ to odległość Euklidesa między $i$-tym a $j$-tym wektorem.  \n",
    "\n",
    "Funkcję tą napisz w dwóch wersjach. Jedną z użyciem pakietu `numpy`, a drugą bez (czysty Python). Porównaj czasy ich działania dla losowych danych wejściowych. Do pomiaru czasu można wykorzystać moduł `time` lub dostępną w notatniku metodę magiczną `%%timeit` (http://ipython.readthedocs.io/en/stable/interactive/magics.html).\n",
    "\n",
    "Dla wersji z użyciem pakietu `numpy` spróbuj napisać tą funkcję tak aby uniknąć wykorzystywania pętli `for` (dodatkowe punkty)."
   ]
  },
  {
   "cell_type": "code",
   "execution_count": 155,
   "metadata": {
    "deletable": false,
    "nbgrader": {
     "checksum": "7c9db2a657420fd93f7cedf470af36b4",
     "grade": true,
     "grade_id": "num-zad",
     "locked": false,
     "points": 8,
     "schema_version": 1,
     "solution": true
    }
   },
   "outputs": [
    {
     "name": "stdout",
     "output_type": "stream",
     "text": [
      "0.00952458381652832\n",
      "0.5605685710906982\n"
     ]
    }
   ],
   "source": [
    "import numpy as np\n",
    "import random\n",
    "import time\n",
    "import math\n",
    "\n",
    "# Dane wejściowe:\n",
    "m = 100  # liczba wektorów\n",
    "n = 10  # wymiar wektora\n",
    "wektory = [[random.random() for _ in range(n)] for _ in range(m)]\n",
    "\n",
    "startTime = time.time();\n",
    "\n",
    "m, n = np.meshgrid(wektory, wektory)\n",
    "out = abs(m - n)\n",
    "\n",
    "print(time.time() - startTime)\n",
    "startTime = time.time();\n",
    "\n",
    "myresult = [];\n",
    "\n",
    "for c in wektory:\n",
    "    newlist = []\n",
    "    for cc in c:\n",
    "        test = []\n",
    "        for i in wektory:\n",
    "            for n in i:\n",
    "                test.append(abs(cc - n))\n",
    "        newlist.append(test)\n",
    "    myresult += newlist\n",
    "    \n",
    "print(time.time() - startTime)"
   ]
  },
  {
   "cell_type": "markdown",
   "metadata": {
    "deletable": false,
    "editable": false,
    "nbgrader": {
     "checksum": "fdd9a3518d451fbc32a0d8f2bfb0e910",
     "grade": false,
     "grade_id": "cell-910c24eef138c79e",
     "locked": true,
     "schema_version": 1,
     "solution": false
    }
   },
   "source": [
    "## Zadanie 2:\n",
    "Korzystając z pakietu `scipy.optimize` znajdź minimum poniższej funkcji\n",
    "$$ F(x,y)=\\frac{1}{f}\\left(-a\\exp{[-b\\sqrt{\\frac{1}{n}(x^2+y^2)}]}-\\exp{[\\frac{1}{n}(\\cos(cx)+\\cos(cy))]}+a+\\exp(1)+d \\right) $$\n",
    "dla $a=20, b=0.2, c=2\\pi, d=5.7, f=0.8, n=2$ oraz przy ograniczniach $x,y\\in[-1.5,1.5]$.\n",
    "\n",
    "Wypróbuj różne punkty startowe, czy zawsze dostajesz ten sam wyniki?, dalczego?."
   ]
  },
  {
   "cell_type": "code",
   "execution_count": 13,
   "metadata": {
    "deletable": false,
    "nbgrader": {
     "checksum": "c92c394f9ee9c522e784c600a122ad01",
     "grade": true,
     "grade_id": "sci-zad",
     "locked": false,
     "points": 7,
     "schema_version": 1,
     "solution": true
    }
   },
   "outputs": [
    {
     "data": {
      "text/plain": [
       "     fun: 7.125000000000002\n",
       "     jac: array([2.38418579e-07, 2.38418579e-07])\n",
       " message: 'Optimization terminated successfully.'\n",
       "    nfev: 4\n",
       "     nit: 1\n",
       "    njev: 1\n",
       "  status: 0\n",
       " success: True\n",
       "       x: array([0., 0.])"
      ]
     },
     "execution_count": 13,
     "metadata": {},
     "output_type": "execute_result"
    }
   ],
   "source": [
    "import numpy as np\n",
    "import math\n",
    "from scipy.optimize import minimize\n",
    "\n",
    "a = 20\n",
    "b = 0.2\n",
    "c = 2 * math.pi\n",
    "d = 5.7\n",
    "f = 0.8\n",
    "n = 2\n",
    "\n",
    "def F(params):\n",
    "    x, y = params\n",
    "    return 1/f * (-a * math.exp(-b * ((1 / n) * (x ** 2 + y ** 2)) ** 1 / 2) - math.exp((1 / n) * (math.cos(c * x) + math.cos(c * y))) + a + math.exp(1) + d)\n",
    "\n",
    "minimize(F, x0=[0, 0], bounds=((-1.5, 1.5), (-1.5, 1.5)), method='SLSQP')"
   ]
  },
  {
   "cell_type": "markdown",
   "metadata": {
    "deletable": false,
    "editable": false,
    "nbgrader": {
     "checksum": "2cdd2a763b30e93796a14271e2e6588a",
     "grade": false,
     "grade_id": "cell-57a30b66ca1eb842",
     "locked": true,
     "schema_version": 1,
     "solution": false
    }
   },
   "source": [
    "## Zadanie 3:\n",
    "Korzystając z pakietu `matplotlib` narysuj wykres funkcji z zadania 2."
   ]
  },
  {
   "cell_type": "code",
   "execution_count": 17,
   "metadata": {
    "deletable": false,
    "nbgrader": {
     "checksum": "b00ec7075d3a1fab83c993b94cd13609",
     "grade": true,
     "grade_id": "cell-a699a5dad7c66ba2",
     "locked": false,
     "points": 5,
     "schema_version": 1,
     "solution": true
    }
   },
   "outputs": [
    {
     "data": {
      "application/javascript": [
       "/* Put everything inside the global mpl namespace */\n",
       "window.mpl = {};\n",
       "\n",
       "\n",
       "mpl.get_websocket_type = function() {\n",
       "    if (typeof(WebSocket) !== 'undefined') {\n",
       "        return WebSocket;\n",
       "    } else if (typeof(MozWebSocket) !== 'undefined') {\n",
       "        return MozWebSocket;\n",
       "    } else {\n",
       "        alert('Your browser does not have WebSocket support.' +\n",
       "              'Please try Chrome, Safari or Firefox ≥ 6. ' +\n",
       "              'Firefox 4 and 5 are also supported but you ' +\n",
       "              'have to enable WebSockets in about:config.');\n",
       "    };\n",
       "}\n",
       "\n",
       "mpl.figure = function(figure_id, websocket, ondownload, parent_element) {\n",
       "    this.id = figure_id;\n",
       "\n",
       "    this.ws = websocket;\n",
       "\n",
       "    this.supports_binary = (this.ws.binaryType != undefined);\n",
       "\n",
       "    if (!this.supports_binary) {\n",
       "        var warnings = document.getElementById(\"mpl-warnings\");\n",
       "        if (warnings) {\n",
       "            warnings.style.display = 'block';\n",
       "            warnings.textContent = (\n",
       "                \"This browser does not support binary websocket messages. \" +\n",
       "                    \"Performance may be slow.\");\n",
       "        }\n",
       "    }\n",
       "\n",
       "    this.imageObj = new Image();\n",
       "\n",
       "    this.context = undefined;\n",
       "    this.message = undefined;\n",
       "    this.canvas = undefined;\n",
       "    this.rubberband_canvas = undefined;\n",
       "    this.rubberband_context = undefined;\n",
       "    this.format_dropdown = undefined;\n",
       "\n",
       "    this.image_mode = 'full';\n",
       "\n",
       "    this.root = $('<div/>');\n",
       "    this._root_extra_style(this.root)\n",
       "    this.root.attr('style', 'display: inline-block');\n",
       "\n",
       "    $(parent_element).append(this.root);\n",
       "\n",
       "    this._init_header(this);\n",
       "    this._init_canvas(this);\n",
       "    this._init_toolbar(this);\n",
       "\n",
       "    var fig = this;\n",
       "\n",
       "    this.waiting = false;\n",
       "\n",
       "    this.ws.onopen =  function () {\n",
       "            fig.send_message(\"supports_binary\", {value: fig.supports_binary});\n",
       "            fig.send_message(\"send_image_mode\", {});\n",
       "            if (mpl.ratio != 1) {\n",
       "                fig.send_message(\"set_dpi_ratio\", {'dpi_ratio': mpl.ratio});\n",
       "            }\n",
       "            fig.send_message(\"refresh\", {});\n",
       "        }\n",
       "\n",
       "    this.imageObj.onload = function() {\n",
       "            if (fig.image_mode == 'full') {\n",
       "                // Full images could contain transparency (where diff images\n",
       "                // almost always do), so we need to clear the canvas so that\n",
       "                // there is no ghosting.\n",
       "                fig.context.clearRect(0, 0, fig.canvas.width, fig.canvas.height);\n",
       "            }\n",
       "            fig.context.drawImage(fig.imageObj, 0, 0);\n",
       "        };\n",
       "\n",
       "    this.imageObj.onunload = function() {\n",
       "        fig.ws.close();\n",
       "    }\n",
       "\n",
       "    this.ws.onmessage = this._make_on_message_function(this);\n",
       "\n",
       "    this.ondownload = ondownload;\n",
       "}\n",
       "\n",
       "mpl.figure.prototype._init_header = function() {\n",
       "    var titlebar = $(\n",
       "        '<div class=\"ui-dialog-titlebar ui-widget-header ui-corner-all ' +\n",
       "        'ui-helper-clearfix\"/>');\n",
       "    var titletext = $(\n",
       "        '<div class=\"ui-dialog-title\" style=\"width: 100%; ' +\n",
       "        'text-align: center; padding: 3px;\"/>');\n",
       "    titlebar.append(titletext)\n",
       "    this.root.append(titlebar);\n",
       "    this.header = titletext[0];\n",
       "}\n",
       "\n",
       "\n",
       "\n",
       "mpl.figure.prototype._canvas_extra_style = function(canvas_div) {\n",
       "\n",
       "}\n",
       "\n",
       "\n",
       "mpl.figure.prototype._root_extra_style = function(canvas_div) {\n",
       "\n",
       "}\n",
       "\n",
       "mpl.figure.prototype._init_canvas = function() {\n",
       "    var fig = this;\n",
       "\n",
       "    var canvas_div = $('<div/>');\n",
       "\n",
       "    canvas_div.attr('style', 'position: relative; clear: both; outline: 0');\n",
       "\n",
       "    function canvas_keyboard_event(event) {\n",
       "        return fig.key_event(event, event['data']);\n",
       "    }\n",
       "\n",
       "    canvas_div.keydown('key_press', canvas_keyboard_event);\n",
       "    canvas_div.keyup('key_release', canvas_keyboard_event);\n",
       "    this.canvas_div = canvas_div\n",
       "    this._canvas_extra_style(canvas_div)\n",
       "    this.root.append(canvas_div);\n",
       "\n",
       "    var canvas = $('<canvas/>');\n",
       "    canvas.addClass('mpl-canvas');\n",
       "    canvas.attr('style', \"left: 0; top: 0; z-index: 0; outline: 0\")\n",
       "\n",
       "    this.canvas = canvas[0];\n",
       "    this.context = canvas[0].getContext(\"2d\");\n",
       "\n",
       "    var backingStore = this.context.backingStorePixelRatio ||\n",
       "\tthis.context.webkitBackingStorePixelRatio ||\n",
       "\tthis.context.mozBackingStorePixelRatio ||\n",
       "\tthis.context.msBackingStorePixelRatio ||\n",
       "\tthis.context.oBackingStorePixelRatio ||\n",
       "\tthis.context.backingStorePixelRatio || 1;\n",
       "\n",
       "    mpl.ratio = (window.devicePixelRatio || 1) / backingStore;\n",
       "\n",
       "    var rubberband = $('<canvas/>');\n",
       "    rubberband.attr('style', \"position: absolute; left: 0; top: 0; z-index: 1;\")\n",
       "\n",
       "    var pass_mouse_events = true;\n",
       "\n",
       "    canvas_div.resizable({\n",
       "        start: function(event, ui) {\n",
       "            pass_mouse_events = false;\n",
       "        },\n",
       "        resize: function(event, ui) {\n",
       "            fig.request_resize(ui.size.width, ui.size.height);\n",
       "        },\n",
       "        stop: function(event, ui) {\n",
       "            pass_mouse_events = true;\n",
       "            fig.request_resize(ui.size.width, ui.size.height);\n",
       "        },\n",
       "    });\n",
       "\n",
       "    function mouse_event_fn(event) {\n",
       "        if (pass_mouse_events)\n",
       "            return fig.mouse_event(event, event['data']);\n",
       "    }\n",
       "\n",
       "    rubberband.mousedown('button_press', mouse_event_fn);\n",
       "    rubberband.mouseup('button_release', mouse_event_fn);\n",
       "    // Throttle sequential mouse events to 1 every 20ms.\n",
       "    rubberband.mousemove('motion_notify', mouse_event_fn);\n",
       "\n",
       "    rubberband.mouseenter('figure_enter', mouse_event_fn);\n",
       "    rubberband.mouseleave('figure_leave', mouse_event_fn);\n",
       "\n",
       "    canvas_div.on(\"wheel\", function (event) {\n",
       "        event = event.originalEvent;\n",
       "        event['data'] = 'scroll'\n",
       "        if (event.deltaY < 0) {\n",
       "            event.step = 1;\n",
       "        } else {\n",
       "            event.step = -1;\n",
       "        }\n",
       "        mouse_event_fn(event);\n",
       "    });\n",
       "\n",
       "    canvas_div.append(canvas);\n",
       "    canvas_div.append(rubberband);\n",
       "\n",
       "    this.rubberband = rubberband;\n",
       "    this.rubberband_canvas = rubberband[0];\n",
       "    this.rubberband_context = rubberband[0].getContext(\"2d\");\n",
       "    this.rubberband_context.strokeStyle = \"#000000\";\n",
       "\n",
       "    this._resize_canvas = function(width, height) {\n",
       "        // Keep the size of the canvas, canvas container, and rubber band\n",
       "        // canvas in synch.\n",
       "        canvas_div.css('width', width)\n",
       "        canvas_div.css('height', height)\n",
       "\n",
       "        canvas.attr('width', width * mpl.ratio);\n",
       "        canvas.attr('height', height * mpl.ratio);\n",
       "        canvas.attr('style', 'width: ' + width + 'px; height: ' + height + 'px;');\n",
       "\n",
       "        rubberband.attr('width', width);\n",
       "        rubberband.attr('height', height);\n",
       "    }\n",
       "\n",
       "    // Set the figure to an initial 600x600px, this will subsequently be updated\n",
       "    // upon first draw.\n",
       "    this._resize_canvas(600, 600);\n",
       "\n",
       "    // Disable right mouse context menu.\n",
       "    $(this.rubberband_canvas).bind(\"contextmenu\",function(e){\n",
       "        return false;\n",
       "    });\n",
       "\n",
       "    function set_focus () {\n",
       "        canvas.focus();\n",
       "        canvas_div.focus();\n",
       "    }\n",
       "\n",
       "    window.setTimeout(set_focus, 100);\n",
       "}\n",
       "\n",
       "mpl.figure.prototype._init_toolbar = function() {\n",
       "    var fig = this;\n",
       "\n",
       "    var nav_element = $('<div/>')\n",
       "    nav_element.attr('style', 'width: 100%');\n",
       "    this.root.append(nav_element);\n",
       "\n",
       "    // Define a callback function for later on.\n",
       "    function toolbar_event(event) {\n",
       "        return fig.toolbar_button_onclick(event['data']);\n",
       "    }\n",
       "    function toolbar_mouse_event(event) {\n",
       "        return fig.toolbar_button_onmouseover(event['data']);\n",
       "    }\n",
       "\n",
       "    for(var toolbar_ind in mpl.toolbar_items) {\n",
       "        var name = mpl.toolbar_items[toolbar_ind][0];\n",
       "        var tooltip = mpl.toolbar_items[toolbar_ind][1];\n",
       "        var image = mpl.toolbar_items[toolbar_ind][2];\n",
       "        var method_name = mpl.toolbar_items[toolbar_ind][3];\n",
       "\n",
       "        if (!name) {\n",
       "            // put a spacer in here.\n",
       "            continue;\n",
       "        }\n",
       "        var button = $('<button/>');\n",
       "        button.addClass('ui-button ui-widget ui-state-default ui-corner-all ' +\n",
       "                        'ui-button-icon-only');\n",
       "        button.attr('role', 'button');\n",
       "        button.attr('aria-disabled', 'false');\n",
       "        button.click(method_name, toolbar_event);\n",
       "        button.mouseover(tooltip, toolbar_mouse_event);\n",
       "\n",
       "        var icon_img = $('<span/>');\n",
       "        icon_img.addClass('ui-button-icon-primary ui-icon');\n",
       "        icon_img.addClass(image);\n",
       "        icon_img.addClass('ui-corner-all');\n",
       "\n",
       "        var tooltip_span = $('<span/>');\n",
       "        tooltip_span.addClass('ui-button-text');\n",
       "        tooltip_span.html(tooltip);\n",
       "\n",
       "        button.append(icon_img);\n",
       "        button.append(tooltip_span);\n",
       "\n",
       "        nav_element.append(button);\n",
       "    }\n",
       "\n",
       "    var fmt_picker_span = $('<span/>');\n",
       "\n",
       "    var fmt_picker = $('<select/>');\n",
       "    fmt_picker.addClass('mpl-toolbar-option ui-widget ui-widget-content');\n",
       "    fmt_picker_span.append(fmt_picker);\n",
       "    nav_element.append(fmt_picker_span);\n",
       "    this.format_dropdown = fmt_picker[0];\n",
       "\n",
       "    for (var ind in mpl.extensions) {\n",
       "        var fmt = mpl.extensions[ind];\n",
       "        var option = $(\n",
       "            '<option/>', {selected: fmt === mpl.default_extension}).html(fmt);\n",
       "        fmt_picker.append(option)\n",
       "    }\n",
       "\n",
       "    // Add hover states to the ui-buttons\n",
       "    $( \".ui-button\" ).hover(\n",
       "        function() { $(this).addClass(\"ui-state-hover\");},\n",
       "        function() { $(this).removeClass(\"ui-state-hover\");}\n",
       "    );\n",
       "\n",
       "    var status_bar = $('<span class=\"mpl-message\"/>');\n",
       "    nav_element.append(status_bar);\n",
       "    this.message = status_bar[0];\n",
       "}\n",
       "\n",
       "mpl.figure.prototype.request_resize = function(x_pixels, y_pixels) {\n",
       "    // Request matplotlib to resize the figure. Matplotlib will then trigger a resize in the client,\n",
       "    // which will in turn request a refresh of the image.\n",
       "    this.send_message('resize', {'width': x_pixels, 'height': y_pixels});\n",
       "}\n",
       "\n",
       "mpl.figure.prototype.send_message = function(type, properties) {\n",
       "    properties['type'] = type;\n",
       "    properties['figure_id'] = this.id;\n",
       "    this.ws.send(JSON.stringify(properties));\n",
       "}\n",
       "\n",
       "mpl.figure.prototype.send_draw_message = function() {\n",
       "    if (!this.waiting) {\n",
       "        this.waiting = true;\n",
       "        this.ws.send(JSON.stringify({type: \"draw\", figure_id: this.id}));\n",
       "    }\n",
       "}\n",
       "\n",
       "\n",
       "mpl.figure.prototype.handle_save = function(fig, msg) {\n",
       "    var format_dropdown = fig.format_dropdown;\n",
       "    var format = format_dropdown.options[format_dropdown.selectedIndex].value;\n",
       "    fig.ondownload(fig, format);\n",
       "}\n",
       "\n",
       "\n",
       "mpl.figure.prototype.handle_resize = function(fig, msg) {\n",
       "    var size = msg['size'];\n",
       "    if (size[0] != fig.canvas.width || size[1] != fig.canvas.height) {\n",
       "        fig._resize_canvas(size[0], size[1]);\n",
       "        fig.send_message(\"refresh\", {});\n",
       "    };\n",
       "}\n",
       "\n",
       "mpl.figure.prototype.handle_rubberband = function(fig, msg) {\n",
       "    var x0 = msg['x0'] / mpl.ratio;\n",
       "    var y0 = (fig.canvas.height - msg['y0']) / mpl.ratio;\n",
       "    var x1 = msg['x1'] / mpl.ratio;\n",
       "    var y1 = (fig.canvas.height - msg['y1']) / mpl.ratio;\n",
       "    x0 = Math.floor(x0) + 0.5;\n",
       "    y0 = Math.floor(y0) + 0.5;\n",
       "    x1 = Math.floor(x1) + 0.5;\n",
       "    y1 = Math.floor(y1) + 0.5;\n",
       "    var min_x = Math.min(x0, x1);\n",
       "    var min_y = Math.min(y0, y1);\n",
       "    var width = Math.abs(x1 - x0);\n",
       "    var height = Math.abs(y1 - y0);\n",
       "\n",
       "    fig.rubberband_context.clearRect(\n",
       "        0, 0, fig.canvas.width, fig.canvas.height);\n",
       "\n",
       "    fig.rubberband_context.strokeRect(min_x, min_y, width, height);\n",
       "}\n",
       "\n",
       "mpl.figure.prototype.handle_figure_label = function(fig, msg) {\n",
       "    // Updates the figure title.\n",
       "    fig.header.textContent = msg['label'];\n",
       "}\n",
       "\n",
       "mpl.figure.prototype.handle_cursor = function(fig, msg) {\n",
       "    var cursor = msg['cursor'];\n",
       "    switch(cursor)\n",
       "    {\n",
       "    case 0:\n",
       "        cursor = 'pointer';\n",
       "        break;\n",
       "    case 1:\n",
       "        cursor = 'default';\n",
       "        break;\n",
       "    case 2:\n",
       "        cursor = 'crosshair';\n",
       "        break;\n",
       "    case 3:\n",
       "        cursor = 'move';\n",
       "        break;\n",
       "    }\n",
       "    fig.rubberband_canvas.style.cursor = cursor;\n",
       "}\n",
       "\n",
       "mpl.figure.prototype.handle_message = function(fig, msg) {\n",
       "    fig.message.textContent = msg['message'];\n",
       "}\n",
       "\n",
       "mpl.figure.prototype.handle_draw = function(fig, msg) {\n",
       "    // Request the server to send over a new figure.\n",
       "    fig.send_draw_message();\n",
       "}\n",
       "\n",
       "mpl.figure.prototype.handle_image_mode = function(fig, msg) {\n",
       "    fig.image_mode = msg['mode'];\n",
       "}\n",
       "\n",
       "mpl.figure.prototype.updated_canvas_event = function() {\n",
       "    // Called whenever the canvas gets updated.\n",
       "    this.send_message(\"ack\", {});\n",
       "}\n",
       "\n",
       "// A function to construct a web socket function for onmessage handling.\n",
       "// Called in the figure constructor.\n",
       "mpl.figure.prototype._make_on_message_function = function(fig) {\n",
       "    return function socket_on_message(evt) {\n",
       "        if (evt.data instanceof Blob) {\n",
       "            /* FIXME: We get \"Resource interpreted as Image but\n",
       "             * transferred with MIME type text/plain:\" errors on\n",
       "             * Chrome.  But how to set the MIME type?  It doesn't seem\n",
       "             * to be part of the websocket stream */\n",
       "            evt.data.type = \"image/png\";\n",
       "\n",
       "            /* Free the memory for the previous frames */\n",
       "            if (fig.imageObj.src) {\n",
       "                (window.URL || window.webkitURL).revokeObjectURL(\n",
       "                    fig.imageObj.src);\n",
       "            }\n",
       "\n",
       "            fig.imageObj.src = (window.URL || window.webkitURL).createObjectURL(\n",
       "                evt.data);\n",
       "            fig.updated_canvas_event();\n",
       "            fig.waiting = false;\n",
       "            return;\n",
       "        }\n",
       "        else if (typeof evt.data === 'string' && evt.data.slice(0, 21) == \"data:image/png;base64\") {\n",
       "            fig.imageObj.src = evt.data;\n",
       "            fig.updated_canvas_event();\n",
       "            fig.waiting = false;\n",
       "            return;\n",
       "        }\n",
       "\n",
       "        var msg = JSON.parse(evt.data);\n",
       "        var msg_type = msg['type'];\n",
       "\n",
       "        // Call the  \"handle_{type}\" callback, which takes\n",
       "        // the figure and JSON message as its only arguments.\n",
       "        try {\n",
       "            var callback = fig[\"handle_\" + msg_type];\n",
       "        } catch (e) {\n",
       "            console.log(\"No handler for the '\" + msg_type + \"' message type: \", msg);\n",
       "            return;\n",
       "        }\n",
       "\n",
       "        if (callback) {\n",
       "            try {\n",
       "                // console.log(\"Handling '\" + msg_type + \"' message: \", msg);\n",
       "                callback(fig, msg);\n",
       "            } catch (e) {\n",
       "                console.log(\"Exception inside the 'handler_\" + msg_type + \"' callback:\", e, e.stack, msg);\n",
       "            }\n",
       "        }\n",
       "    };\n",
       "}\n",
       "\n",
       "// from http://stackoverflow.com/questions/1114465/getting-mouse-location-in-canvas\n",
       "mpl.findpos = function(e) {\n",
       "    //this section is from http://www.quirksmode.org/js/events_properties.html\n",
       "    var targ;\n",
       "    if (!e)\n",
       "        e = window.event;\n",
       "    if (e.target)\n",
       "        targ = e.target;\n",
       "    else if (e.srcElement)\n",
       "        targ = e.srcElement;\n",
       "    if (targ.nodeType == 3) // defeat Safari bug\n",
       "        targ = targ.parentNode;\n",
       "\n",
       "    // jQuery normalizes the pageX and pageY\n",
       "    // pageX,Y are the mouse positions relative to the document\n",
       "    // offset() returns the position of the element relative to the document\n",
       "    var x = e.pageX - $(targ).offset().left;\n",
       "    var y = e.pageY - $(targ).offset().top;\n",
       "\n",
       "    return {\"x\": x, \"y\": y};\n",
       "};\n",
       "\n",
       "/*\n",
       " * return a copy of an object with only non-object keys\n",
       " * we need this to avoid circular references\n",
       " * http://stackoverflow.com/a/24161582/3208463\n",
       " */\n",
       "function simpleKeys (original) {\n",
       "  return Object.keys(original).reduce(function (obj, key) {\n",
       "    if (typeof original[key] !== 'object')\n",
       "        obj[key] = original[key]\n",
       "    return obj;\n",
       "  }, {});\n",
       "}\n",
       "\n",
       "mpl.figure.prototype.mouse_event = function(event, name) {\n",
       "    var canvas_pos = mpl.findpos(event)\n",
       "\n",
       "    if (name === 'button_press')\n",
       "    {\n",
       "        this.canvas.focus();\n",
       "        this.canvas_div.focus();\n",
       "    }\n",
       "\n",
       "    var x = canvas_pos.x * mpl.ratio;\n",
       "    var y = canvas_pos.y * mpl.ratio;\n",
       "\n",
       "    this.send_message(name, {x: x, y: y, button: event.button,\n",
       "                             step: event.step,\n",
       "                             guiEvent: simpleKeys(event)});\n",
       "\n",
       "    /* This prevents the web browser from automatically changing to\n",
       "     * the text insertion cursor when the button is pressed.  We want\n",
       "     * to control all of the cursor setting manually through the\n",
       "     * 'cursor' event from matplotlib */\n",
       "    event.preventDefault();\n",
       "    return false;\n",
       "}\n",
       "\n",
       "mpl.figure.prototype._key_event_extra = function(event, name) {\n",
       "    // Handle any extra behaviour associated with a key event\n",
       "}\n",
       "\n",
       "mpl.figure.prototype.key_event = function(event, name) {\n",
       "\n",
       "    // Prevent repeat events\n",
       "    if (name == 'key_press')\n",
       "    {\n",
       "        if (event.which === this._key)\n",
       "            return;\n",
       "        else\n",
       "            this._key = event.which;\n",
       "    }\n",
       "    if (name == 'key_release')\n",
       "        this._key = null;\n",
       "\n",
       "    var value = '';\n",
       "    if (event.ctrlKey && event.which != 17)\n",
       "        value += \"ctrl+\";\n",
       "    if (event.altKey && event.which != 18)\n",
       "        value += \"alt+\";\n",
       "    if (event.shiftKey && event.which != 16)\n",
       "        value += \"shift+\";\n",
       "\n",
       "    value += 'k';\n",
       "    value += event.which.toString();\n",
       "\n",
       "    this._key_event_extra(event, name);\n",
       "\n",
       "    this.send_message(name, {key: value,\n",
       "                             guiEvent: simpleKeys(event)});\n",
       "    return false;\n",
       "}\n",
       "\n",
       "mpl.figure.prototype.toolbar_button_onclick = function(name) {\n",
       "    if (name == 'download') {\n",
       "        this.handle_save(this, null);\n",
       "    } else {\n",
       "        this.send_message(\"toolbar_button\", {name: name});\n",
       "    }\n",
       "};\n",
       "\n",
       "mpl.figure.prototype.toolbar_button_onmouseover = function(tooltip) {\n",
       "    this.message.textContent = tooltip;\n",
       "};\n",
       "mpl.toolbar_items = [[\"Home\", \"Reset original view\", \"fa fa-home icon-home\", \"home\"], [\"Back\", \"Back to previous view\", \"fa fa-arrow-left icon-arrow-left\", \"back\"], [\"Forward\", \"Forward to next view\", \"fa fa-arrow-right icon-arrow-right\", \"forward\"], [\"\", \"\", \"\", \"\"], [\"Pan\", \"Pan axes with left mouse, zoom with right\", \"fa fa-arrows icon-move\", \"pan\"], [\"Zoom\", \"Zoom to rectangle\", \"fa fa-square-o icon-check-empty\", \"zoom\"], [\"\", \"\", \"\", \"\"], [\"Download\", \"Download plot\", \"fa fa-floppy-o icon-save\", \"download\"]];\n",
       "\n",
       "mpl.extensions = [\"eps\", \"pdf\", \"png\", \"ps\", \"raw\", \"svg\"];\n",
       "\n",
       "mpl.default_extension = \"png\";var comm_websocket_adapter = function(comm) {\n",
       "    // Create a \"websocket\"-like object which calls the given IPython comm\n",
       "    // object with the appropriate methods. Currently this is a non binary\n",
       "    // socket, so there is still some room for performance tuning.\n",
       "    var ws = {};\n",
       "\n",
       "    ws.close = function() {\n",
       "        comm.close()\n",
       "    };\n",
       "    ws.send = function(m) {\n",
       "        //console.log('sending', m);\n",
       "        comm.send(m);\n",
       "    };\n",
       "    // Register the callback with on_msg.\n",
       "    comm.on_msg(function(msg) {\n",
       "        //console.log('receiving', msg['content']['data'], msg);\n",
       "        // Pass the mpl event to the overridden (by mpl) onmessage function.\n",
       "        ws.onmessage(msg['content']['data'])\n",
       "    });\n",
       "    return ws;\n",
       "}\n",
       "\n",
       "mpl.mpl_figure_comm = function(comm, msg) {\n",
       "    // This is the function which gets called when the mpl process\n",
       "    // starts-up an IPython Comm through the \"matplotlib\" channel.\n",
       "\n",
       "    var id = msg.content.data.id;\n",
       "    // Get hold of the div created by the display call when the Comm\n",
       "    // socket was opened in Python.\n",
       "    var element = $(\"#\" + id);\n",
       "    var ws_proxy = comm_websocket_adapter(comm)\n",
       "\n",
       "    function ondownload(figure, format) {\n",
       "        window.open(figure.imageObj.src);\n",
       "    }\n",
       "\n",
       "    var fig = new mpl.figure(id, ws_proxy,\n",
       "                           ondownload,\n",
       "                           element.get(0));\n",
       "\n",
       "    // Call onopen now - mpl needs it, as it is assuming we've passed it a real\n",
       "    // web socket which is closed, not our websocket->open comm proxy.\n",
       "    ws_proxy.onopen();\n",
       "\n",
       "    fig.parent_element = element.get(0);\n",
       "    fig.cell_info = mpl.find_output_cell(\"<div id='\" + id + \"'></div>\");\n",
       "    if (!fig.cell_info) {\n",
       "        console.error(\"Failed to find cell for figure\", id, fig);\n",
       "        return;\n",
       "    }\n",
       "\n",
       "    var output_index = fig.cell_info[2]\n",
       "    var cell = fig.cell_info[0];\n",
       "\n",
       "};\n",
       "\n",
       "mpl.figure.prototype.handle_close = function(fig, msg) {\n",
       "    var width = fig.canvas.width/mpl.ratio\n",
       "    fig.root.unbind('remove')\n",
       "\n",
       "    // Update the output cell to use the data from the current canvas.\n",
       "    fig.push_to_output();\n",
       "    var dataURL = fig.canvas.toDataURL();\n",
       "    // Re-enable the keyboard manager in IPython - without this line, in FF,\n",
       "    // the notebook keyboard shortcuts fail.\n",
       "    IPython.keyboard_manager.enable()\n",
       "    $(fig.parent_element).html('<img src=\"' + dataURL + '\" width=\"' + width + '\">');\n",
       "    fig.close_ws(fig, msg);\n",
       "}\n",
       "\n",
       "mpl.figure.prototype.close_ws = function(fig, msg){\n",
       "    fig.send_message('closing', msg);\n",
       "    // fig.ws.close()\n",
       "}\n",
       "\n",
       "mpl.figure.prototype.push_to_output = function(remove_interactive) {\n",
       "    // Turn the data on the canvas into data in the output cell.\n",
       "    var width = this.canvas.width/mpl.ratio\n",
       "    var dataURL = this.canvas.toDataURL();\n",
       "    this.cell_info[1]['text/html'] = '<img src=\"' + dataURL + '\" width=\"' + width + '\">';\n",
       "}\n",
       "\n",
       "mpl.figure.prototype.updated_canvas_event = function() {\n",
       "    // Tell IPython that the notebook contents must change.\n",
       "    IPython.notebook.set_dirty(true);\n",
       "    this.send_message(\"ack\", {});\n",
       "    var fig = this;\n",
       "    // Wait a second, then push the new image to the DOM so\n",
       "    // that it is saved nicely (might be nice to debounce this).\n",
       "    setTimeout(function () { fig.push_to_output() }, 1000);\n",
       "}\n",
       "\n",
       "mpl.figure.prototype._init_toolbar = function() {\n",
       "    var fig = this;\n",
       "\n",
       "    var nav_element = $('<div/>')\n",
       "    nav_element.attr('style', 'width: 100%');\n",
       "    this.root.append(nav_element);\n",
       "\n",
       "    // Define a callback function for later on.\n",
       "    function toolbar_event(event) {\n",
       "        return fig.toolbar_button_onclick(event['data']);\n",
       "    }\n",
       "    function toolbar_mouse_event(event) {\n",
       "        return fig.toolbar_button_onmouseover(event['data']);\n",
       "    }\n",
       "\n",
       "    for(var toolbar_ind in mpl.toolbar_items){\n",
       "        var name = mpl.toolbar_items[toolbar_ind][0];\n",
       "        var tooltip = mpl.toolbar_items[toolbar_ind][1];\n",
       "        var image = mpl.toolbar_items[toolbar_ind][2];\n",
       "        var method_name = mpl.toolbar_items[toolbar_ind][3];\n",
       "\n",
       "        if (!name) { continue; };\n",
       "\n",
       "        var button = $('<button class=\"btn btn-default\" href=\"#\" title=\"' + name + '\"><i class=\"fa ' + image + ' fa-lg\"></i></button>');\n",
       "        button.click(method_name, toolbar_event);\n",
       "        button.mouseover(tooltip, toolbar_mouse_event);\n",
       "        nav_element.append(button);\n",
       "    }\n",
       "\n",
       "    // Add the status bar.\n",
       "    var status_bar = $('<span class=\"mpl-message\" style=\"text-align:right; float: right;\"/>');\n",
       "    nav_element.append(status_bar);\n",
       "    this.message = status_bar[0];\n",
       "\n",
       "    // Add the close button to the window.\n",
       "    var buttongrp = $('<div class=\"btn-group inline pull-right\"></div>');\n",
       "    var button = $('<button class=\"btn btn-mini btn-primary\" href=\"#\" title=\"Stop Interaction\"><i class=\"fa fa-power-off icon-remove icon-large\"></i></button>');\n",
       "    button.click(function (evt) { fig.handle_close(fig, {}); } );\n",
       "    button.mouseover('Stop Interaction', toolbar_mouse_event);\n",
       "    buttongrp.append(button);\n",
       "    var titlebar = this.root.find($('.ui-dialog-titlebar'));\n",
       "    titlebar.prepend(buttongrp);\n",
       "}\n",
       "\n",
       "mpl.figure.prototype._root_extra_style = function(el){\n",
       "    var fig = this\n",
       "    el.on(\"remove\", function(){\n",
       "\tfig.close_ws(fig, {});\n",
       "    });\n",
       "}\n",
       "\n",
       "mpl.figure.prototype._canvas_extra_style = function(el){\n",
       "    // this is important to make the div 'focusable\n",
       "    el.attr('tabindex', 0)\n",
       "    // reach out to IPython and tell the keyboard manager to turn it's self\n",
       "    // off when our div gets focus\n",
       "\n",
       "    // location in version 3\n",
       "    if (IPython.notebook.keyboard_manager) {\n",
       "        IPython.notebook.keyboard_manager.register_events(el);\n",
       "    }\n",
       "    else {\n",
       "        // location in version 2\n",
       "        IPython.keyboard_manager.register_events(el);\n",
       "    }\n",
       "\n",
       "}\n",
       "\n",
       "mpl.figure.prototype._key_event_extra = function(event, name) {\n",
       "    var manager = IPython.notebook.keyboard_manager;\n",
       "    if (!manager)\n",
       "        manager = IPython.keyboard_manager;\n",
       "\n",
       "    // Check for shift+enter\n",
       "    if (event.shiftKey && event.which == 13) {\n",
       "        this.canvas_div.blur();\n",
       "        event.shiftKey = false;\n",
       "        // Send a \"J\" for go to next cell\n",
       "        event.which = 74;\n",
       "        event.keyCode = 74;\n",
       "        manager.command_mode();\n",
       "        manager.handle_keydown(event);\n",
       "    }\n",
       "}\n",
       "\n",
       "mpl.figure.prototype.handle_save = function(fig, msg) {\n",
       "    fig.ondownload(fig, null);\n",
       "}\n",
       "\n",
       "\n",
       "mpl.find_output_cell = function(html_output) {\n",
       "    // Return the cell and output element which can be found *uniquely* in the notebook.\n",
       "    // Note - this is a bit hacky, but it is done because the \"notebook_saving.Notebook\"\n",
       "    // IPython event is triggered only after the cells have been serialised, which for\n",
       "    // our purposes (turning an active figure into a static one), is too late.\n",
       "    var cells = IPython.notebook.get_cells();\n",
       "    var ncells = cells.length;\n",
       "    for (var i=0; i<ncells; i++) {\n",
       "        var cell = cells[i];\n",
       "        if (cell.cell_type === 'code'){\n",
       "            for (var j=0; j<cell.output_area.outputs.length; j++) {\n",
       "                var data = cell.output_area.outputs[j];\n",
       "                if (data.data) {\n",
       "                    // IPython >= 3 moved mimebundle to data attribute of output\n",
       "                    data = data.data;\n",
       "                }\n",
       "                if (data['text/html'] == html_output) {\n",
       "                    return [cell, data, j];\n",
       "                }\n",
       "            }\n",
       "        }\n",
       "    }\n",
       "}\n",
       "\n",
       "// Register the function which deals with the matplotlib target/channel.\n",
       "// The kernel may be null if the page has been refreshed.\n",
       "if (IPython.notebook.kernel != null) {\n",
       "    IPython.notebook.kernel.comm_manager.register_target('matplotlib', mpl.mpl_figure_comm);\n",
       "}\n"
      ],
      "text/plain": [
       "<IPython.core.display.Javascript object>"
      ]
     },
     "metadata": {},
     "output_type": "display_data"
    },
    {
     "data": {
      "text/html": [
       "<img src=\"data:image/png;base64,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\" width=\"640\">"
      ],
      "text/plain": [
       "<IPython.core.display.HTML object>"
      ]
     },
     "metadata": {},
     "output_type": "display_data"
    }
   ],
   "source": [
    "%matplotlib notebook\n",
    "import numpy as np\n",
    "from mpl_toolkits.mplot3d import axes3d\n",
    "import matplotlib.pyplot as plt\n",
    "from matplotlib import cm\n",
    "\n",
    "fig = plt.figure()\n",
    "ax = fig.gca(projection='3d')\n",
    "\n",
    "a = 20.0\n",
    "b = 0.2\n",
    "c = 2*math.pi\n",
    "d = 5.7\n",
    "f = 0.8\n",
    "n = 2.0\n",
    "\n",
    "xAxis, yAxis = np.meshgrid(np.linspace(-1.5, 1.5, 100), np.linspace(-1.5, 1.5, 100))\n",
    "zAxis = np.zeros((100, 100))\n",
    "\n",
    "zAxis = 1/f * (-a * np.exp(-b * ((1 / n) * (xAxis ** 2 + yAxis ** 2)) ** 1/2) - np.exp((1 / n) * (np.cos(c * xAxis) + np.cos(c * yAxis))) + a + np.exp(1) + d)\n",
    "\n",
    "ax.plot_surface(xAxis, yAxis, zAxis, rstride=8, cstride=8, alpha=0.3)\n",
    "\n",
    "cset = ax.contour(xAxis, yAxis, zAxis, zdir='z', cmap=cm.coolwarm)\n",
    "cset = ax.contour(xAxis, yAxis, zAxis, zdir='x', cmap=cm.coolwarm)\n",
    "cset = ax.contour(xAxis, yAxis, zAxis, zdir='y', cmap=cm.coolwarm)\n",
    "\n",
    "ax.set_xlabel('x')\n",
    "ax.set_ylabel('y')\n",
    "ax.set_zlabel('z')\n",
    "\n",
    "plt.show()"
   ]
  },
  {
   "cell_type": "markdown",
   "metadata": {
    "deletable": false,
    "editable": false,
    "nbgrader": {
     "checksum": "22a892ad8206e6bb4fc40a8269fd2edc",
     "grade": false,
     "grade_id": "cell-299e037cb4bc73bb",
     "locked": true,
     "schema_version": 1,
     "solution": false
    }
   },
   "source": [
    "<div style=\"text-align: right\">&copy; Zakład Inteligencji Obliczeniowej, Instytut Informatyki, Politechnika Krakowska </div>"
   ]
  }
 ],
 "metadata": {
  "kernelspec": {
   "display_name": "Python 3",
   "language": "python",
   "name": "python3"
  },
  "language_info": {
   "codemirror_mode": {
    "name": "ipython",
    "version": 3
   },
   "file_extension": ".py",
   "mimetype": "text/x-python",
   "name": "python",
   "nbconvert_exporter": "python",
   "pygments_lexer": "ipython3",
   "version": "3.6.8"
  }
 },
 "nbformat": 4,
 "nbformat_minor": 2
}
